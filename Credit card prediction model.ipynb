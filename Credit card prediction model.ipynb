{
 "cells": [
  {
   "cell_type": "markdown",
   "id": "f5b02845-44e5-43e8-8ed9-174f7a8bf029",
   "metadata": {},
   "source": [
    "### import libraries"
   ]
  },
  {
   "cell_type": "code",
   "execution_count": 122,
   "id": "b6110e4c-3ead-4a18-92d2-1a6a9726b939",
   "metadata": {},
   "outputs": [
    {
     "name": "stdout",
     "output_type": "stream",
     "text": [
      "Requirement already satisfied: imbalanced-learn in c:\\users\\user\\anaconda3\\lib\\site-packages (0.11.0)\n",
      "Requirement already satisfied: threadpoolctl>=2.0.0 in c:\\users\\user\\anaconda3\\lib\\site-packages (from imbalanced-learn) (2.2.0)\n",
      "Requirement already satisfied: joblib>=1.1.1 in c:\\users\\user\\anaconda3\\lib\\site-packages (from imbalanced-learn) (1.3.2)\n",
      "Requirement already satisfied: numpy>=1.17.3 in c:\\users\\user\\anaconda3\\lib\\site-packages (from imbalanced-learn) (1.21.5)\n",
      "Requirement already satisfied: scipy>=1.5.0 in c:\\users\\user\\anaconda3\\lib\\site-packages (from imbalanced-learn) (1.9.1)\n",
      "Requirement already satisfied: scikit-learn>=1.0.2 in c:\\users\\user\\anaconda3\\lib\\site-packages (from imbalanced-learn) (1.0.2)\n",
      "Requirement already satisfied: xgboost in c:\\users\\user\\anaconda3\\lib\\site-packages (2.0.3)\n",
      "Requirement already satisfied: numpy in c:\\users\\user\\anaconda3\\lib\\site-packages (from xgboost) (1.21.5)\n",
      "Requirement already satisfied: scipy in c:\\users\\user\\anaconda3\\lib\\site-packages (from xgboost) (1.9.1)\n"
     ]
    }
   ],
   "source": [
    "!pip install imbalanced-learn\n",
    "!pip install xgboost"
   ]
  },
  {
   "cell_type": "code",
   "execution_count": 123,
   "id": "dfb6fe29-8924-4882-9823-6f1d186d2067",
   "metadata": {},
   "outputs": [],
   "source": [
    "import pandas as pd\n",
    "import numpy as np\n",
    "import math\n",
    "import seaborn as sns\n",
    "import matplotlib.pyplot as plt\n",
    "import scipy\n",
    "from sklearn.linear_model import LogisticRegression\n",
    "from sklearn.model_selection import GridSearchCV, train_test_split\n",
    "from sklearn.metrics import accuracy_score, precision_score, recall_score,f1_score, confusion_matrix, ConfusionMatrixDisplay, classification_report\n",
    "from sklearn.metrics import roc_auc_score, roc_curve\n",
    "from imblearn.over_sampling import SMOTENC, SMOTEN\n",
    "from sklearn.ensemble import RandomForestClassifier\n",
    "from sklearn.preprocessing import OneHotEncoder\n",
    "from xgboost import XGBClassifier"
   ]
  },
  {
   "cell_type": "markdown",
   "id": "c173bc6b-8150-410a-8fef-5ee6fccc7aca",
   "metadata": {
    "tags": []
   },
   "source": [
    "#### import dataset"
   ]
  },
  {
   "cell_type": "code",
   "execution_count": 124,
   "id": "32a6edae-7ffe-4394-b0c0-d055714ca469",
   "metadata": {},
   "outputs": [],
   "source": [
    "df_appl = pd.read_csv('F:\\\\HND\\ML\\\\Assignment\\\\archive\\\\application_record.csv')\n",
    "df_credit = pd.read_csv('F:\\\\HND\\ML\\\\Assignment\\\\archive\\\\credit_record.csv')"
   ]
  },
  {
   "cell_type": "code",
   "execution_count": 125,
   "id": "319b4ace-d03b-4de6-9889-0ca3ed54f69a",
   "metadata": {},
   "outputs": [
    {
     "name": "stdout",
     "output_type": "stream",
     "text": [
      "number of unique customer IDs, First table 438510\n",
      "number of unique customer IDs, Second table 45985\n",
      "Number of unique IDs in both tables: 36457\n"
     ]
    }
   ],
   "source": [
    "print('number of unique customer IDs, First table',df_appl['ID'].nunique())\n",
    "print('number of unique customer IDs, Second table',df_credit['ID'].nunique())\n",
    "print('Number of unique IDs in both tables:',df_appl[df_appl['ID'].isin(df_credit['ID'])]['ID'].nunique())"
   ]
  },
  {
   "cell_type": "code",
   "execution_count": 126,
   "id": "a45a2770-b631-49b9-ab11-ec44758044ac",
   "metadata": {},
   "outputs": [],
   "source": [
    "df_appl = df_appl[df_appl['ID'].isin(df_credit['ID'])]\n",
    "df_credit = df_credit[df_credit['ID'].isin(df_appl['ID'])]\n"
   ]
  },
  {
   "cell_type": "markdown",
   "id": "ff0f63c2-1e79-433a-85ca-adaf146f2ea3",
   "metadata": {
    "tags": []
   },
   "source": [
    "##### We first establish the criteria because the data only gives us the credit record (status), not the ability to decide whether to issue a credit card."
   ]
  },
  {
   "cell_type": "code",
   "execution_count": 127,
   "id": "6a7519da-78c8-4df9-b574-68e543f0911f",
   "metadata": {},
   "outputs": [
    {
     "data": {
      "text/html": [
       "<div>\n",
       "<style scoped>\n",
       "    .dataframe tbody tr th:only-of-type {\n",
       "        vertical-align: middle;\n",
       "    }\n",
       "\n",
       "    .dataframe tbody tr th {\n",
       "        vertical-align: top;\n",
       "    }\n",
       "\n",
       "    .dataframe thead th {\n",
       "        text-align: right;\n",
       "    }\n",
       "</style>\n",
       "<table border=\"1\" class=\"dataframe\">\n",
       "  <thead>\n",
       "    <tr style=\"text-align: right;\">\n",
       "      <th></th>\n",
       "      <th>ID</th>\n",
       "      <th>CODE_GENDER</th>\n",
       "      <th>FLAG_OWN_CAR</th>\n",
       "      <th>FLAG_OWN_REALTY</th>\n",
       "      <th>CNT_CHILDREN</th>\n",
       "      <th>AMT_INCOME_TOTAL</th>\n",
       "      <th>NAME_INCOME_TYPE</th>\n",
       "      <th>NAME_EDUCATION_TYPE</th>\n",
       "      <th>NAME_FAMILY_STATUS</th>\n",
       "      <th>NAME_HOUSING_TYPE</th>\n",
       "      <th>DAYS_BIRTH</th>\n",
       "      <th>DAYS_EMPLOYED</th>\n",
       "      <th>FLAG_MOBIL</th>\n",
       "      <th>FLAG_WORK_PHONE</th>\n",
       "      <th>FLAG_PHONE</th>\n",
       "      <th>FLAG_EMAIL</th>\n",
       "      <th>OCCUPATION_TYPE</th>\n",
       "      <th>CNT_FAM_MEMBERS</th>\n",
       "    </tr>\n",
       "  </thead>\n",
       "  <tbody>\n",
       "    <tr>\n",
       "      <th>0</th>\n",
       "      <td>5008804</td>\n",
       "      <td>M</td>\n",
       "      <td>Y</td>\n",
       "      <td>Y</td>\n",
       "      <td>0</td>\n",
       "      <td>427500.0</td>\n",
       "      <td>Working</td>\n",
       "      <td>Higher education</td>\n",
       "      <td>Civil marriage</td>\n",
       "      <td>Rented apartment</td>\n",
       "      <td>-12005</td>\n",
       "      <td>-4542</td>\n",
       "      <td>1</td>\n",
       "      <td>1</td>\n",
       "      <td>0</td>\n",
       "      <td>0</td>\n",
       "      <td>NaN</td>\n",
       "      <td>2</td>\n",
       "    </tr>\n",
       "    <tr>\n",
       "      <th>1</th>\n",
       "      <td>5008805</td>\n",
       "      <td>M</td>\n",
       "      <td>Y</td>\n",
       "      <td>Y</td>\n",
       "      <td>0</td>\n",
       "      <td>427500.0</td>\n",
       "      <td>Working</td>\n",
       "      <td>Higher education</td>\n",
       "      <td>Civil marriage</td>\n",
       "      <td>Rented apartment</td>\n",
       "      <td>-12005</td>\n",
       "      <td>-4542</td>\n",
       "      <td>1</td>\n",
       "      <td>1</td>\n",
       "      <td>0</td>\n",
       "      <td>0</td>\n",
       "      <td>NaN</td>\n",
       "      <td>2</td>\n",
       "    </tr>\n",
       "    <tr>\n",
       "      <th>2</th>\n",
       "      <td>5008806</td>\n",
       "      <td>M</td>\n",
       "      <td>Y</td>\n",
       "      <td>Y</td>\n",
       "      <td>0</td>\n",
       "      <td>112500.0</td>\n",
       "      <td>Working</td>\n",
       "      <td>Secondary / secondary special</td>\n",
       "      <td>Married</td>\n",
       "      <td>House / apartment</td>\n",
       "      <td>-21474</td>\n",
       "      <td>-1134</td>\n",
       "      <td>1</td>\n",
       "      <td>0</td>\n",
       "      <td>0</td>\n",
       "      <td>0</td>\n",
       "      <td>Security staff</td>\n",
       "      <td>2</td>\n",
       "    </tr>\n",
       "    <tr>\n",
       "      <th>3</th>\n",
       "      <td>5008808</td>\n",
       "      <td>F</td>\n",
       "      <td>N</td>\n",
       "      <td>Y</td>\n",
       "      <td>0</td>\n",
       "      <td>270000.0</td>\n",
       "      <td>Commercial associate</td>\n",
       "      <td>Secondary / secondary special</td>\n",
       "      <td>Single / not married</td>\n",
       "      <td>House / apartment</td>\n",
       "      <td>-19110</td>\n",
       "      <td>-3051</td>\n",
       "      <td>1</td>\n",
       "      <td>0</td>\n",
       "      <td>1</td>\n",
       "      <td>1</td>\n",
       "      <td>Sales staff</td>\n",
       "      <td>1</td>\n",
       "    </tr>\n",
       "    <tr>\n",
       "      <th>4</th>\n",
       "      <td>5008809</td>\n",
       "      <td>F</td>\n",
       "      <td>N</td>\n",
       "      <td>Y</td>\n",
       "      <td>0</td>\n",
       "      <td>270000.0</td>\n",
       "      <td>Commercial associate</td>\n",
       "      <td>Secondary / secondary special</td>\n",
       "      <td>Single / not married</td>\n",
       "      <td>House / apartment</td>\n",
       "      <td>-19110</td>\n",
       "      <td>-3051</td>\n",
       "      <td>1</td>\n",
       "      <td>0</td>\n",
       "      <td>1</td>\n",
       "      <td>1</td>\n",
       "      <td>Sales staff</td>\n",
       "      <td>1</td>\n",
       "    </tr>\n",
       "  </tbody>\n",
       "</table>\n",
       "</div>"
      ],
      "text/plain": [
       "        ID CODE_GENDER FLAG_OWN_CAR FLAG_OWN_REALTY  CNT_CHILDREN  \\\n",
       "0  5008804           M            Y               Y             0   \n",
       "1  5008805           M            Y               Y             0   \n",
       "2  5008806           M            Y               Y             0   \n",
       "3  5008808           F            N               Y             0   \n",
       "4  5008809           F            N               Y             0   \n",
       "\n",
       "   AMT_INCOME_TOTAL      NAME_INCOME_TYPE            NAME_EDUCATION_TYPE  \\\n",
       "0          427500.0               Working               Higher education   \n",
       "1          427500.0               Working               Higher education   \n",
       "2          112500.0               Working  Secondary / secondary special   \n",
       "3          270000.0  Commercial associate  Secondary / secondary special   \n",
       "4          270000.0  Commercial associate  Secondary / secondary special   \n",
       "\n",
       "     NAME_FAMILY_STATUS  NAME_HOUSING_TYPE  DAYS_BIRTH  DAYS_EMPLOYED  \\\n",
       "0        Civil marriage   Rented apartment      -12005          -4542   \n",
       "1        Civil marriage   Rented apartment      -12005          -4542   \n",
       "2               Married  House / apartment      -21474          -1134   \n",
       "3  Single / not married  House / apartment      -19110          -3051   \n",
       "4  Single / not married  House / apartment      -19110          -3051   \n",
       "\n",
       "   FLAG_MOBIL  FLAG_WORK_PHONE  FLAG_PHONE  FLAG_EMAIL OCCUPATION_TYPE  \\\n",
       "0           1                1           0           0             NaN   \n",
       "1           1                1           0           0             NaN   \n",
       "2           1                0           0           0  Security staff   \n",
       "3           1                0           1           1     Sales staff   \n",
       "4           1                0           1           1     Sales staff   \n",
       "\n",
       "   CNT_FAM_MEMBERS  \n",
       "0                2  \n",
       "1                2  \n",
       "2                2  \n",
       "3                1  \n",
       "4                1  "
      ]
     },
     "execution_count": 127,
     "metadata": {},
     "output_type": "execute_result"
    }
   ],
   "source": [
    "#Make label\n",
    "\n",
    "def label_bad(df_appl):\n",
    "    if (df_appl[\"STATUS\"]=='3') | (df_appl[\"STATUS\"]=='4') | (df_appl[\"STATUS\"]=='5'): # bad\n",
    "        return 2\n",
    "    elif (df_appl[\"STATUS\"]=='X'): # no record\n",
    "        return -1\n",
    "    elif (df_appl[\"STATUS\"]=='0') | (df_appl[\"STATUS\"]=='1') | (df_appl[\"STATUS\"]=='2'): # indeterminates\n",
    "        return 1\n",
    "    else:\n",
    "        return 0\n",
    "    \n",
    "df_appl.head()"
   ]
  },
  {
   "cell_type": "code",
   "execution_count": 128,
   "id": "f6e2b170-b85e-43f3-9e2b-567211999d02",
   "metadata": {},
   "outputs": [],
   "source": [
    "df_credit[\"MONTHS_BALANCE\"] = -df_credit[\"MONTHS_BALANCE\"]\n",
    "df_credit = df_credit[df_credit[\"MONTHS_BALANCE\"]<=12]\n",
    "df_credit[\"B_Customer\"] = df_credit.apply(label_bad, axis=1)"
   ]
  },
  {
   "cell_type": "code",
   "execution_count": 129,
   "id": "78fa1da5-a623-4530-b0fa-e80bb996f9ef",
   "metadata": {},
   "outputs": [],
   "source": [
    "df_credit_labeled = df_credit[['ID','B_Customer',\"MONTHS_BALANCE\"]].groupby('ID',as_index=False).max()"
   ]
  },
  {
   "cell_type": "code",
   "execution_count": 130,
   "id": "2bd28270-dfa6-4b22-898f-27e5cb9b54c2",
   "metadata": {},
   "outputs": [
    {
     "data": {
      "text/html": [
       "<div>\n",
       "<style scoped>\n",
       "    .dataframe tbody tr th:only-of-type {\n",
       "        vertical-align: middle;\n",
       "    }\n",
       "\n",
       "    .dataframe tbody tr th {\n",
       "        vertical-align: top;\n",
       "    }\n",
       "\n",
       "    .dataframe thead th {\n",
       "        text-align: right;\n",
       "    }\n",
       "</style>\n",
       "<table border=\"1\" class=\"dataframe\">\n",
       "  <thead>\n",
       "    <tr style=\"text-align: right;\">\n",
       "      <th></th>\n",
       "      <th>ID</th>\n",
       "      <th>B_Customer</th>\n",
       "      <th>MONTHS_BALANCE</th>\n",
       "    </tr>\n",
       "  </thead>\n",
       "  <tbody>\n",
       "    <tr>\n",
       "      <th>0</th>\n",
       "      <td>5008804</td>\n",
       "      <td>0</td>\n",
       "      <td>12</td>\n",
       "    </tr>\n",
       "    <tr>\n",
       "      <th>1</th>\n",
       "      <td>5008805</td>\n",
       "      <td>1</td>\n",
       "      <td>12</td>\n",
       "    </tr>\n",
       "    <tr>\n",
       "      <th>2</th>\n",
       "      <td>5008806</td>\n",
       "      <td>1</td>\n",
       "      <td>12</td>\n",
       "    </tr>\n",
       "    <tr>\n",
       "      <th>3</th>\n",
       "      <td>5008808</td>\n",
       "      <td>1</td>\n",
       "      <td>4</td>\n",
       "    </tr>\n",
       "    <tr>\n",
       "      <th>4</th>\n",
       "      <td>5008810</td>\n",
       "      <td>0</td>\n",
       "      <td>12</td>\n",
       "    </tr>\n",
       "    <tr>\n",
       "      <th>...</th>\n",
       "      <td>...</td>\n",
       "      <td>...</td>\n",
       "      <td>...</td>\n",
       "    </tr>\n",
       "    <tr>\n",
       "      <th>29746</th>\n",
       "      <td>5150482</td>\n",
       "      <td>0</td>\n",
       "      <td>12</td>\n",
       "    </tr>\n",
       "    <tr>\n",
       "      <th>29747</th>\n",
       "      <td>5150483</td>\n",
       "      <td>-1</td>\n",
       "      <td>12</td>\n",
       "    </tr>\n",
       "    <tr>\n",
       "      <th>29748</th>\n",
       "      <td>5150484</td>\n",
       "      <td>1</td>\n",
       "      <td>12</td>\n",
       "    </tr>\n",
       "    <tr>\n",
       "      <th>29749</th>\n",
       "      <td>5150485</td>\n",
       "      <td>1</td>\n",
       "      <td>1</td>\n",
       "    </tr>\n",
       "    <tr>\n",
       "      <th>29750</th>\n",
       "      <td>5150487</td>\n",
       "      <td>0</td>\n",
       "      <td>12</td>\n",
       "    </tr>\n",
       "  </tbody>\n",
       "</table>\n",
       "<p>29751 rows × 3 columns</p>\n",
       "</div>"
      ],
      "text/plain": [
       "            ID  B_Customer  MONTHS_BALANCE\n",
       "0      5008804           0              12\n",
       "1      5008805           1              12\n",
       "2      5008806           1              12\n",
       "3      5008808           1               4\n",
       "4      5008810           0              12\n",
       "...        ...         ...             ...\n",
       "29746  5150482           0              12\n",
       "29747  5150483          -1              12\n",
       "29748  5150484           1              12\n",
       "29749  5150485           1               1\n",
       "29750  5150487           0              12\n",
       "\n",
       "[29751 rows x 3 columns]"
      ]
     },
     "execution_count": 130,
     "metadata": {},
     "output_type": "execute_result"
    }
   ],
   "source": [
    "df_credit_labeled"
   ]
  },
  {
   "cell_type": "code",
   "execution_count": 131,
   "id": "0dd931ae-633f-43ef-8d94-25d42652d308",
   "metadata": {},
   "outputs": [],
   "source": [
    "#  customer with only X status (no usage data) (label = -1)\n",
    "df_credit_labeled = df_credit_labeled[df_credit_labeled['B_Customer']!=-1]\n",
    "#  indeterminates customer (label = 1)\n",
    "df_credit_labeled = df_credit_labeled[df_credit_labeled['B_Customer']!=1]\n",
    "#  customer with period of record less than 12 month\n",
    "df_credit_labeled = df_credit_labeled[df_credit_labeled['MONTHS_BALANCE']==12]\n",
    "# Tag Bad_customer as 1 instead 2\n",
    "df_credit_labeled['B_Customer'] = (df_credit_labeled['B_Customer']/2).apply(np.int32)\n",
    "df_credit_labeled =  df_credit_labeled.drop('MONTHS_BALANCE', axis=1)"
   ]
  },
  {
   "cell_type": "code",
   "execution_count": 132,
   "id": "20b5efc4-c807-45d8-8c6c-b5c0fae218f9",
   "metadata": {},
   "outputs": [
    {
     "data": {
      "text/html": [
       "<div>\n",
       "<style scoped>\n",
       "    .dataframe tbody tr th:only-of-type {\n",
       "        vertical-align: middle;\n",
       "    }\n",
       "\n",
       "    .dataframe tbody tr th {\n",
       "        vertical-align: top;\n",
       "    }\n",
       "\n",
       "    .dataframe thead th {\n",
       "        text-align: right;\n",
       "    }\n",
       "</style>\n",
       "<table border=\"1\" class=\"dataframe\">\n",
       "  <thead>\n",
       "    <tr style=\"text-align: right;\">\n",
       "      <th></th>\n",
       "      <th>ID</th>\n",
       "      <th>B_Customer</th>\n",
       "    </tr>\n",
       "  </thead>\n",
       "  <tbody>\n",
       "    <tr>\n",
       "      <th>0</th>\n",
       "      <td>5008804</td>\n",
       "      <td>0</td>\n",
       "    </tr>\n",
       "    <tr>\n",
       "      <th>4</th>\n",
       "      <td>5008810</td>\n",
       "      <td>0</td>\n",
       "    </tr>\n",
       "    <tr>\n",
       "      <th>5</th>\n",
       "      <td>5008811</td>\n",
       "      <td>0</td>\n",
       "    </tr>\n",
       "    <tr>\n",
       "      <th>16</th>\n",
       "      <td>5008826</td>\n",
       "      <td>0</td>\n",
       "    </tr>\n",
       "    <tr>\n",
       "      <th>17</th>\n",
       "      <td>5008827</td>\n",
       "      <td>0</td>\n",
       "    </tr>\n",
       "  </tbody>\n",
       "</table>\n",
       "</div>"
      ],
      "text/plain": [
       "         ID  B_Customer\n",
       "0   5008804           0\n",
       "4   5008810           0\n",
       "5   5008811           0\n",
       "16  5008826           0\n",
       "17  5008827           0"
      ]
     },
     "execution_count": 132,
     "metadata": {},
     "output_type": "execute_result"
    }
   ],
   "source": [
    "df_credit_labeled.head()"
   ]
  },
  {
   "cell_type": "code",
   "execution_count": 133,
   "id": "ef8f0cca-916c-4df1-9322-b52356357424",
   "metadata": {},
   "outputs": [],
   "source": [
    "# merge\n",
    "df_labeled = df_appl.merge(df_credit_labeled,on='ID',how='inner')"
   ]
  },
  {
   "cell_type": "markdown",
   "id": "69170d47-8719-452d-a9ba-b6627d3142c4",
   "metadata": {
    "tags": []
   },
   "source": [
    "### Observe and clean data"
   ]
  },
  {
   "cell_type": "code",
   "execution_count": 134,
   "id": "557444f9-4320-441e-8a86-fcb267e53593",
   "metadata": {},
   "outputs": [
    {
     "data": {
      "text/html": [
       "<div>\n",
       "<style scoped>\n",
       "    .dataframe tbody tr th:only-of-type {\n",
       "        vertical-align: middle;\n",
       "    }\n",
       "\n",
       "    .dataframe tbody tr th {\n",
       "        vertical-align: top;\n",
       "    }\n",
       "\n",
       "    .dataframe thead th {\n",
       "        text-align: right;\n",
       "    }\n",
       "</style>\n",
       "<table border=\"1\" class=\"dataframe\">\n",
       "  <thead>\n",
       "    <tr style=\"text-align: right;\">\n",
       "      <th></th>\n",
       "      <th>ID</th>\n",
       "      <th>CODE_GENDER</th>\n",
       "      <th>FLAG_OWN_CAR</th>\n",
       "      <th>FLAG_OWN_REALTY</th>\n",
       "      <th>CNT_CHILDREN</th>\n",
       "      <th>AMT_INCOME_TOTAL</th>\n",
       "      <th>NAME_INCOME_TYPE</th>\n",
       "      <th>NAME_EDUCATION_TYPE</th>\n",
       "      <th>NAME_FAMILY_STATUS</th>\n",
       "      <th>NAME_HOUSING_TYPE</th>\n",
       "      <th>DAYS_BIRTH</th>\n",
       "      <th>DAYS_EMPLOYED</th>\n",
       "      <th>FLAG_MOBIL</th>\n",
       "      <th>FLAG_WORK_PHONE</th>\n",
       "      <th>FLAG_PHONE</th>\n",
       "      <th>FLAG_EMAIL</th>\n",
       "      <th>OCCUPATION_TYPE</th>\n",
       "      <th>CNT_FAM_MEMBERS</th>\n",
       "      <th>B_Customer</th>\n",
       "    </tr>\n",
       "  </thead>\n",
       "  <tbody>\n",
       "    <tr>\n",
       "      <th>0</th>\n",
       "      <td>5008804</td>\n",
       "      <td>M</td>\n",
       "      <td>Y</td>\n",
       "      <td>Y</td>\n",
       "      <td>0</td>\n",
       "      <td>427500.0</td>\n",
       "      <td>Working</td>\n",
       "      <td>Higher education</td>\n",
       "      <td>Civil marriage</td>\n",
       "      <td>Rented apartment</td>\n",
       "      <td>-12005</td>\n",
       "      <td>-4542</td>\n",
       "      <td>1</td>\n",
       "      <td>1</td>\n",
       "      <td>0</td>\n",
       "      <td>0</td>\n",
       "      <td>NaN</td>\n",
       "      <td>2</td>\n",
       "      <td>0</td>\n",
       "    </tr>\n",
       "    <tr>\n",
       "      <th>1</th>\n",
       "      <td>5008810</td>\n",
       "      <td>F</td>\n",
       "      <td>N</td>\n",
       "      <td>Y</td>\n",
       "      <td>0</td>\n",
       "      <td>270000.0</td>\n",
       "      <td>Commercial associate</td>\n",
       "      <td>Secondary / secondary special</td>\n",
       "      <td>Single / not married</td>\n",
       "      <td>House / apartment</td>\n",
       "      <td>-19110</td>\n",
       "      <td>-3051</td>\n",
       "      <td>1</td>\n",
       "      <td>0</td>\n",
       "      <td>1</td>\n",
       "      <td>1</td>\n",
       "      <td>Sales staff</td>\n",
       "      <td>1</td>\n",
       "      <td>0</td>\n",
       "    </tr>\n",
       "    <tr>\n",
       "      <th>2</th>\n",
       "      <td>5008811</td>\n",
       "      <td>F</td>\n",
       "      <td>N</td>\n",
       "      <td>Y</td>\n",
       "      <td>0</td>\n",
       "      <td>270000.0</td>\n",
       "      <td>Commercial associate</td>\n",
       "      <td>Secondary / secondary special</td>\n",
       "      <td>Single / not married</td>\n",
       "      <td>House / apartment</td>\n",
       "      <td>-19110</td>\n",
       "      <td>-3051</td>\n",
       "      <td>1</td>\n",
       "      <td>0</td>\n",
       "      <td>1</td>\n",
       "      <td>1</td>\n",
       "      <td>Sales staff</td>\n",
       "      <td>1</td>\n",
       "      <td>0</td>\n",
       "    </tr>\n",
       "    <tr>\n",
       "      <th>3</th>\n",
       "      <td>5008826</td>\n",
       "      <td>F</td>\n",
       "      <td>Y</td>\n",
       "      <td>N</td>\n",
       "      <td>0</td>\n",
       "      <td>130500.0</td>\n",
       "      <td>Working</td>\n",
       "      <td>Incomplete higher</td>\n",
       "      <td>Married</td>\n",
       "      <td>House / apartment</td>\n",
       "      <td>-10669</td>\n",
       "      <td>-1103</td>\n",
       "      <td>1</td>\n",
       "      <td>0</td>\n",
       "      <td>0</td>\n",
       "      <td>0</td>\n",
       "      <td>Accountants</td>\n",
       "      <td>2</td>\n",
       "      <td>0</td>\n",
       "    </tr>\n",
       "    <tr>\n",
       "      <th>4</th>\n",
       "      <td>5008830</td>\n",
       "      <td>F</td>\n",
       "      <td>N</td>\n",
       "      <td>Y</td>\n",
       "      <td>0</td>\n",
       "      <td>157500.0</td>\n",
       "      <td>Working</td>\n",
       "      <td>Secondary / secondary special</td>\n",
       "      <td>Married</td>\n",
       "      <td>House / apartment</td>\n",
       "      <td>-10031</td>\n",
       "      <td>-1469</td>\n",
       "      <td>1</td>\n",
       "      <td>0</td>\n",
       "      <td>1</td>\n",
       "      <td>0</td>\n",
       "      <td>Laborers</td>\n",
       "      <td>2</td>\n",
       "      <td>0</td>\n",
       "    </tr>\n",
       "    <tr>\n",
       "      <th>5</th>\n",
       "      <td>5008832</td>\n",
       "      <td>F</td>\n",
       "      <td>N</td>\n",
       "      <td>Y</td>\n",
       "      <td>0</td>\n",
       "      <td>157500.0</td>\n",
       "      <td>Working</td>\n",
       "      <td>Secondary / secondary special</td>\n",
       "      <td>Married</td>\n",
       "      <td>House / apartment</td>\n",
       "      <td>-10031</td>\n",
       "      <td>-1469</td>\n",
       "      <td>1</td>\n",
       "      <td>0</td>\n",
       "      <td>1</td>\n",
       "      <td>0</td>\n",
       "      <td>Laborers</td>\n",
       "      <td>2</td>\n",
       "      <td>0</td>\n",
       "    </tr>\n",
       "    <tr>\n",
       "      <th>6</th>\n",
       "      <td>5008834</td>\n",
       "      <td>F</td>\n",
       "      <td>N</td>\n",
       "      <td>Y</td>\n",
       "      <td>1</td>\n",
       "      <td>112500.0</td>\n",
       "      <td>Working</td>\n",
       "      <td>Secondary / secondary special</td>\n",
       "      <td>Single / not married</td>\n",
       "      <td>House / apartment</td>\n",
       "      <td>-10968</td>\n",
       "      <td>-1620</td>\n",
       "      <td>1</td>\n",
       "      <td>0</td>\n",
       "      <td>0</td>\n",
       "      <td>0</td>\n",
       "      <td>NaN</td>\n",
       "      <td>2</td>\n",
       "      <td>0</td>\n",
       "    </tr>\n",
       "    <tr>\n",
       "      <th>7</th>\n",
       "      <td>5008836</td>\n",
       "      <td>M</td>\n",
       "      <td>Y</td>\n",
       "      <td>Y</td>\n",
       "      <td>3</td>\n",
       "      <td>270000.0</td>\n",
       "      <td>Working</td>\n",
       "      <td>Secondary / secondary special</td>\n",
       "      <td>Married</td>\n",
       "      <td>House / apartment</td>\n",
       "      <td>-12689</td>\n",
       "      <td>-1163</td>\n",
       "      <td>1</td>\n",
       "      <td>0</td>\n",
       "      <td>0</td>\n",
       "      <td>0</td>\n",
       "      <td>Laborers</td>\n",
       "      <td>5</td>\n",
       "      <td>0</td>\n",
       "    </tr>\n",
       "    <tr>\n",
       "      <th>8</th>\n",
       "      <td>5008837</td>\n",
       "      <td>M</td>\n",
       "      <td>Y</td>\n",
       "      <td>Y</td>\n",
       "      <td>3</td>\n",
       "      <td>270000.0</td>\n",
       "      <td>Working</td>\n",
       "      <td>Secondary / secondary special</td>\n",
       "      <td>Married</td>\n",
       "      <td>House / apartment</td>\n",
       "      <td>-12689</td>\n",
       "      <td>-1163</td>\n",
       "      <td>1</td>\n",
       "      <td>0</td>\n",
       "      <td>0</td>\n",
       "      <td>0</td>\n",
       "      <td>Laborers</td>\n",
       "      <td>5</td>\n",
       "      <td>0</td>\n",
       "    </tr>\n",
       "    <tr>\n",
       "      <th>9</th>\n",
       "      <td>5008840</td>\n",
       "      <td>M</td>\n",
       "      <td>N</td>\n",
       "      <td>Y</td>\n",
       "      <td>1</td>\n",
       "      <td>405000.0</td>\n",
       "      <td>Commercial associate</td>\n",
       "      <td>Higher education</td>\n",
       "      <td>Married</td>\n",
       "      <td>House / apartment</td>\n",
       "      <td>-11842</td>\n",
       "      <td>-2016</td>\n",
       "      <td>1</td>\n",
       "      <td>0</td>\n",
       "      <td>0</td>\n",
       "      <td>0</td>\n",
       "      <td>Managers</td>\n",
       "      <td>3</td>\n",
       "      <td>0</td>\n",
       "    </tr>\n",
       "  </tbody>\n",
       "</table>\n",
       "</div>"
      ],
      "text/plain": [
       "        ID CODE_GENDER FLAG_OWN_CAR FLAG_OWN_REALTY  CNT_CHILDREN  \\\n",
       "0  5008804           M            Y               Y             0   \n",
       "1  5008810           F            N               Y             0   \n",
       "2  5008811           F            N               Y             0   \n",
       "3  5008826           F            Y               N             0   \n",
       "4  5008830           F            N               Y             0   \n",
       "5  5008832           F            N               Y             0   \n",
       "6  5008834           F            N               Y             1   \n",
       "7  5008836           M            Y               Y             3   \n",
       "8  5008837           M            Y               Y             3   \n",
       "9  5008840           M            N               Y             1   \n",
       "\n",
       "   AMT_INCOME_TOTAL      NAME_INCOME_TYPE            NAME_EDUCATION_TYPE  \\\n",
       "0          427500.0               Working               Higher education   \n",
       "1          270000.0  Commercial associate  Secondary / secondary special   \n",
       "2          270000.0  Commercial associate  Secondary / secondary special   \n",
       "3          130500.0               Working              Incomplete higher   \n",
       "4          157500.0               Working  Secondary / secondary special   \n",
       "5          157500.0               Working  Secondary / secondary special   \n",
       "6          112500.0               Working  Secondary / secondary special   \n",
       "7          270000.0               Working  Secondary / secondary special   \n",
       "8          270000.0               Working  Secondary / secondary special   \n",
       "9          405000.0  Commercial associate               Higher education   \n",
       "\n",
       "     NAME_FAMILY_STATUS  NAME_HOUSING_TYPE  DAYS_BIRTH  DAYS_EMPLOYED  \\\n",
       "0        Civil marriage   Rented apartment      -12005          -4542   \n",
       "1  Single / not married  House / apartment      -19110          -3051   \n",
       "2  Single / not married  House / apartment      -19110          -3051   \n",
       "3               Married  House / apartment      -10669          -1103   \n",
       "4               Married  House / apartment      -10031          -1469   \n",
       "5               Married  House / apartment      -10031          -1469   \n",
       "6  Single / not married  House / apartment      -10968          -1620   \n",
       "7               Married  House / apartment      -12689          -1163   \n",
       "8               Married  House / apartment      -12689          -1163   \n",
       "9               Married  House / apartment      -11842          -2016   \n",
       "\n",
       "   FLAG_MOBIL  FLAG_WORK_PHONE  FLAG_PHONE  FLAG_EMAIL OCCUPATION_TYPE  \\\n",
       "0           1                1           0           0             NaN   \n",
       "1           1                0           1           1     Sales staff   \n",
       "2           1                0           1           1     Sales staff   \n",
       "3           1                0           0           0     Accountants   \n",
       "4           1                0           1           0        Laborers   \n",
       "5           1                0           1           0        Laborers   \n",
       "6           1                0           0           0             NaN   \n",
       "7           1                0           0           0        Laborers   \n",
       "8           1                0           0           0        Laborers   \n",
       "9           1                0           0           0        Managers   \n",
       "\n",
       "   CNT_FAM_MEMBERS  B_Customer  \n",
       "0                2           0  \n",
       "1                1           0  \n",
       "2                1           0  \n",
       "3                2           0  \n",
       "4                2           0  \n",
       "5                2           0  \n",
       "6                2           0  \n",
       "7                5           0  \n",
       "8                5           0  \n",
       "9                3           0  "
      ]
     },
     "execution_count": 134,
     "metadata": {},
     "output_type": "execute_result"
    }
   ],
   "source": [
    "df_labeled.head(10)"
   ]
  },
  {
   "cell_type": "code",
   "execution_count": 135,
   "id": "1011cf49-56f1-4305-847d-299998c29853",
   "metadata": {},
   "outputs": [],
   "source": [
    "df_labeled = df_labeled.drop('ID',axis=1)"
   ]
  },
  {
   "cell_type": "code",
   "execution_count": 136,
   "id": "24d97c6f-29ae-4952-ae84-dc8bf31ba421",
   "metadata": {},
   "outputs": [
    {
     "name": "stdout",
     "output_type": "stream",
     "text": [
      "Amount of duplicated data with bad customer labeling:  5271\n",
      "Amount of duplicated data without bad customer labeling:  5313\n"
     ]
    }
   ],
   "source": [
    "# Check whether multiple cards holder are labeled with bad/good or mixing\n",
    "print('Amount of duplicated data with bad customer labeling: ', df_labeled.duplicated().sum())\n",
    "print('Amount of duplicated data without bad customer labeling: ', df_labeled.drop('B_Customer',axis=1).duplicated().sum())"
   ]
  },
  {
   "cell_type": "code",
   "execution_count": 137,
   "id": "c19f1991-73ae-427d-93e4-8c9f8c412b1b",
   "metadata": {},
   "outputs": [],
   "source": [
    "# Flag duplicate information that come from the same customer\n",
    "df_labeled['ID_same_customer'] = df_labeled.groupby(['CODE_GENDER', 'FLAG_OWN_CAR', 'FLAG_OWN_REALTY', 'CNT_CHILDREN',\n",
    "       'AMT_INCOME_TOTAL', 'NAME_INCOME_TYPE', 'NAME_EDUCATION_TYPE',\n",
    "       'NAME_FAMILY_STATUS', 'NAME_HOUSING_TYPE', 'DAYS_BIRTH',\n",
    "       'DAYS_EMPLOYED', 'FLAG_MOBIL', 'FLAG_WORK_PHONE', 'FLAG_PHONE',\n",
    "       'FLAG_EMAIL', 'OCCUPATION_TYPE', 'CNT_FAM_MEMBERS'], dropna=False).ngroup()"
   ]
  },
  {
   "cell_type": "code",
   "execution_count": 138,
   "id": "ec62c02b-017b-4932-b97c-a9ca8c93880d",
   "metadata": {},
   "outputs": [
    {
     "data": {
      "text/html": [
       "<div>\n",
       "<style scoped>\n",
       "    .dataframe tbody tr th:only-of-type {\n",
       "        vertical-align: middle;\n",
       "    }\n",
       "\n",
       "    .dataframe tbody tr th {\n",
       "        vertical-align: top;\n",
       "    }\n",
       "\n",
       "    .dataframe thead th {\n",
       "        text-align: right;\n",
       "    }\n",
       "</style>\n",
       "<table border=\"1\" class=\"dataframe\">\n",
       "  <thead>\n",
       "    <tr style=\"text-align: right;\">\n",
       "      <th></th>\n",
       "      <th>CODE_GENDER</th>\n",
       "      <th>FLAG_OWN_CAR</th>\n",
       "      <th>FLAG_OWN_REALTY</th>\n",
       "      <th>CNT_CHILDREN</th>\n",
       "      <th>AMT_INCOME_TOTAL</th>\n",
       "      <th>NAME_INCOME_TYPE</th>\n",
       "      <th>NAME_EDUCATION_TYPE</th>\n",
       "      <th>NAME_FAMILY_STATUS</th>\n",
       "      <th>NAME_HOUSING_TYPE</th>\n",
       "      <th>DAYS_BIRTH</th>\n",
       "      <th>DAYS_EMPLOYED</th>\n",
       "      <th>FLAG_MOBIL</th>\n",
       "      <th>FLAG_WORK_PHONE</th>\n",
       "      <th>FLAG_PHONE</th>\n",
       "      <th>FLAG_EMAIL</th>\n",
       "      <th>OCCUPATION_TYPE</th>\n",
       "      <th>CNT_FAM_MEMBERS</th>\n",
       "      <th>B_Customer</th>\n",
       "      <th>ID_same_customer</th>\n",
       "    </tr>\n",
       "  </thead>\n",
       "  <tbody>\n",
       "    <tr>\n",
       "      <th>0</th>\n",
       "      <td>M</td>\n",
       "      <td>Y</td>\n",
       "      <td>Y</td>\n",
       "      <td>0</td>\n",
       "      <td>427500.0</td>\n",
       "      <td>Working</td>\n",
       "      <td>Higher education</td>\n",
       "      <td>Civil marriage</td>\n",
       "      <td>Rented apartment</td>\n",
       "      <td>-12005</td>\n",
       "      <td>-4542</td>\n",
       "      <td>1</td>\n",
       "      <td>1</td>\n",
       "      <td>0</td>\n",
       "      <td>0</td>\n",
       "      <td>NaN</td>\n",
       "      <td>2</td>\n",
       "      <td>0</td>\n",
       "      <td>4672</td>\n",
       "    </tr>\n",
       "    <tr>\n",
       "      <th>1</th>\n",
       "      <td>F</td>\n",
       "      <td>N</td>\n",
       "      <td>Y</td>\n",
       "      <td>0</td>\n",
       "      <td>270000.0</td>\n",
       "      <td>Commercial associate</td>\n",
       "      <td>Secondary / secondary special</td>\n",
       "      <td>Single / not married</td>\n",
       "      <td>House / apartment</td>\n",
       "      <td>-19110</td>\n",
       "      <td>-3051</td>\n",
       "      <td>1</td>\n",
       "      <td>0</td>\n",
       "      <td>1</td>\n",
       "      <td>1</td>\n",
       "      <td>Sales staff</td>\n",
       "      <td>1</td>\n",
       "      <td>0</td>\n",
       "      <td>1902</td>\n",
       "    </tr>\n",
       "    <tr>\n",
       "      <th>2</th>\n",
       "      <td>F</td>\n",
       "      <td>N</td>\n",
       "      <td>Y</td>\n",
       "      <td>0</td>\n",
       "      <td>270000.0</td>\n",
       "      <td>Commercial associate</td>\n",
       "      <td>Secondary / secondary special</td>\n",
       "      <td>Single / not married</td>\n",
       "      <td>House / apartment</td>\n",
       "      <td>-19110</td>\n",
       "      <td>-3051</td>\n",
       "      <td>1</td>\n",
       "      <td>0</td>\n",
       "      <td>1</td>\n",
       "      <td>1</td>\n",
       "      <td>Sales staff</td>\n",
       "      <td>1</td>\n",
       "      <td>0</td>\n",
       "      <td>1902</td>\n",
       "    </tr>\n",
       "    <tr>\n",
       "      <th>3</th>\n",
       "      <td>F</td>\n",
       "      <td>Y</td>\n",
       "      <td>N</td>\n",
       "      <td>0</td>\n",
       "      <td>130500.0</td>\n",
       "      <td>Working</td>\n",
       "      <td>Incomplete higher</td>\n",
       "      <td>Married</td>\n",
       "      <td>House / apartment</td>\n",
       "      <td>-10669</td>\n",
       "      <td>-1103</td>\n",
       "      <td>1</td>\n",
       "      <td>0</td>\n",
       "      <td>0</td>\n",
       "      <td>0</td>\n",
       "      <td>Accountants</td>\n",
       "      <td>2</td>\n",
       "      <td>0</td>\n",
       "      <td>2464</td>\n",
       "    </tr>\n",
       "    <tr>\n",
       "      <th>4</th>\n",
       "      <td>F</td>\n",
       "      <td>N</td>\n",
       "      <td>Y</td>\n",
       "      <td>0</td>\n",
       "      <td>157500.0</td>\n",
       "      <td>Working</td>\n",
       "      <td>Secondary / secondary special</td>\n",
       "      <td>Married</td>\n",
       "      <td>House / apartment</td>\n",
       "      <td>-10031</td>\n",
       "      <td>-1469</td>\n",
       "      <td>1</td>\n",
       "      <td>0</td>\n",
       "      <td>1</td>\n",
       "      <td>0</td>\n",
       "      <td>Laborers</td>\n",
       "      <td>2</td>\n",
       "      <td>0</td>\n",
       "      <td>1538</td>\n",
       "    </tr>\n",
       "    <tr>\n",
       "      <th>...</th>\n",
       "      <td>...</td>\n",
       "      <td>...</td>\n",
       "      <td>...</td>\n",
       "      <td>...</td>\n",
       "      <td>...</td>\n",
       "      <td>...</td>\n",
       "      <td>...</td>\n",
       "      <td>...</td>\n",
       "      <td>...</td>\n",
       "      <td>...</td>\n",
       "      <td>...</td>\n",
       "      <td>...</td>\n",
       "      <td>...</td>\n",
       "      <td>...</td>\n",
       "      <td>...</td>\n",
       "      <td>...</td>\n",
       "      <td>...</td>\n",
       "      <td>...</td>\n",
       "      <td>...</td>\n",
       "    </tr>\n",
       "    <tr>\n",
       "      <th>10255</th>\n",
       "      <td>F</td>\n",
       "      <td>N</td>\n",
       "      <td>Y</td>\n",
       "      <td>0</td>\n",
       "      <td>112500.0</td>\n",
       "      <td>Commercial associate</td>\n",
       "      <td>Secondary / secondary special</td>\n",
       "      <td>Married</td>\n",
       "      <td>House / apartment</td>\n",
       "      <td>-15837</td>\n",
       "      <td>-2694</td>\n",
       "      <td>1</td>\n",
       "      <td>1</td>\n",
       "      <td>1</td>\n",
       "      <td>0</td>\n",
       "      <td>NaN</td>\n",
       "      <td>2</td>\n",
       "      <td>0</td>\n",
       "      <td>1070</td>\n",
       "    </tr>\n",
       "    <tr>\n",
       "      <th>10256</th>\n",
       "      <td>M</td>\n",
       "      <td>Y</td>\n",
       "      <td>Y</td>\n",
       "      <td>0</td>\n",
       "      <td>247500.0</td>\n",
       "      <td>Working</td>\n",
       "      <td>Secondary / secondary special</td>\n",
       "      <td>Married</td>\n",
       "      <td>House / apartment</td>\n",
       "      <td>-10952</td>\n",
       "      <td>-3577</td>\n",
       "      <td>1</td>\n",
       "      <td>1</td>\n",
       "      <td>0</td>\n",
       "      <td>0</td>\n",
       "      <td>Laborers</td>\n",
       "      <td>2</td>\n",
       "      <td>0</td>\n",
       "      <td>4559</td>\n",
       "    </tr>\n",
       "    <tr>\n",
       "      <th>10257</th>\n",
       "      <td>M</td>\n",
       "      <td>Y</td>\n",
       "      <td>Y</td>\n",
       "      <td>0</td>\n",
       "      <td>247500.0</td>\n",
       "      <td>Working</td>\n",
       "      <td>Secondary / secondary special</td>\n",
       "      <td>Married</td>\n",
       "      <td>House / apartment</td>\n",
       "      <td>-10952</td>\n",
       "      <td>-3577</td>\n",
       "      <td>1</td>\n",
       "      <td>1</td>\n",
       "      <td>0</td>\n",
       "      <td>0</td>\n",
       "      <td>Laborers</td>\n",
       "      <td>2</td>\n",
       "      <td>0</td>\n",
       "      <td>4559</td>\n",
       "    </tr>\n",
       "    <tr>\n",
       "      <th>10258</th>\n",
       "      <td>F</td>\n",
       "      <td>N</td>\n",
       "      <td>Y</td>\n",
       "      <td>0</td>\n",
       "      <td>157500.0</td>\n",
       "      <td>Commercial associate</td>\n",
       "      <td>Higher education</td>\n",
       "      <td>Married</td>\n",
       "      <td>House / apartment</td>\n",
       "      <td>-12387</td>\n",
       "      <td>-1325</td>\n",
       "      <td>1</td>\n",
       "      <td>0</td>\n",
       "      <td>1</td>\n",
       "      <td>1</td>\n",
       "      <td>Medicine staff</td>\n",
       "      <td>2</td>\n",
       "      <td>1</td>\n",
       "      <td>1439</td>\n",
       "    </tr>\n",
       "    <tr>\n",
       "      <th>10259</th>\n",
       "      <td>F</td>\n",
       "      <td>N</td>\n",
       "      <td>Y</td>\n",
       "      <td>0</td>\n",
       "      <td>157500.0</td>\n",
       "      <td>Pensioner</td>\n",
       "      <td>Higher education</td>\n",
       "      <td>Married</td>\n",
       "      <td>House / apartment</td>\n",
       "      <td>-12387</td>\n",
       "      <td>-1325</td>\n",
       "      <td>1</td>\n",
       "      <td>0</td>\n",
       "      <td>1</td>\n",
       "      <td>1</td>\n",
       "      <td>Medicine staff</td>\n",
       "      <td>2</td>\n",
       "      <td>0</td>\n",
       "      <td>1456</td>\n",
       "    </tr>\n",
       "  </tbody>\n",
       "</table>\n",
       "<p>10260 rows × 19 columns</p>\n",
       "</div>"
      ],
      "text/plain": [
       "      CODE_GENDER FLAG_OWN_CAR FLAG_OWN_REALTY  CNT_CHILDREN  \\\n",
       "0               M            Y               Y             0   \n",
       "1               F            N               Y             0   \n",
       "2               F            N               Y             0   \n",
       "3               F            Y               N             0   \n",
       "4               F            N               Y             0   \n",
       "...           ...          ...             ...           ...   \n",
       "10255           F            N               Y             0   \n",
       "10256           M            Y               Y             0   \n",
       "10257           M            Y               Y             0   \n",
       "10258           F            N               Y             0   \n",
       "10259           F            N               Y             0   \n",
       "\n",
       "       AMT_INCOME_TOTAL      NAME_INCOME_TYPE            NAME_EDUCATION_TYPE  \\\n",
       "0              427500.0               Working               Higher education   \n",
       "1              270000.0  Commercial associate  Secondary / secondary special   \n",
       "2              270000.0  Commercial associate  Secondary / secondary special   \n",
       "3              130500.0               Working              Incomplete higher   \n",
       "4              157500.0               Working  Secondary / secondary special   \n",
       "...                 ...                   ...                            ...   \n",
       "10255          112500.0  Commercial associate  Secondary / secondary special   \n",
       "10256          247500.0               Working  Secondary / secondary special   \n",
       "10257          247500.0               Working  Secondary / secondary special   \n",
       "10258          157500.0  Commercial associate               Higher education   \n",
       "10259          157500.0             Pensioner               Higher education   \n",
       "\n",
       "         NAME_FAMILY_STATUS  NAME_HOUSING_TYPE  DAYS_BIRTH  DAYS_EMPLOYED  \\\n",
       "0            Civil marriage   Rented apartment      -12005          -4542   \n",
       "1      Single / not married  House / apartment      -19110          -3051   \n",
       "2      Single / not married  House / apartment      -19110          -3051   \n",
       "3                   Married  House / apartment      -10669          -1103   \n",
       "4                   Married  House / apartment      -10031          -1469   \n",
       "...                     ...                ...         ...            ...   \n",
       "10255               Married  House / apartment      -15837          -2694   \n",
       "10256               Married  House / apartment      -10952          -3577   \n",
       "10257               Married  House / apartment      -10952          -3577   \n",
       "10258               Married  House / apartment      -12387          -1325   \n",
       "10259               Married  House / apartment      -12387          -1325   \n",
       "\n",
       "       FLAG_MOBIL  FLAG_WORK_PHONE  FLAG_PHONE  FLAG_EMAIL OCCUPATION_TYPE  \\\n",
       "0               1                1           0           0             NaN   \n",
       "1               1                0           1           1     Sales staff   \n",
       "2               1                0           1           1     Sales staff   \n",
       "3               1                0           0           0     Accountants   \n",
       "4               1                0           1           0        Laborers   \n",
       "...           ...              ...         ...         ...             ...   \n",
       "10255           1                1           1           0             NaN   \n",
       "10256           1                1           0           0        Laborers   \n",
       "10257           1                1           0           0        Laborers   \n",
       "10258           1                0           1           1  Medicine staff   \n",
       "10259           1                0           1           1  Medicine staff   \n",
       "\n",
       "       CNT_FAM_MEMBERS  B_Customer  ID_same_customer  \n",
       "0                    2           0              4672  \n",
       "1                    1           0              1902  \n",
       "2                    1           0              1902  \n",
       "3                    2           0              2464  \n",
       "4                    2           0              1538  \n",
       "...                ...         ...               ...  \n",
       "10255                2           0              1070  \n",
       "10256                2           0              4559  \n",
       "10257                2           0              4559  \n",
       "10258                2           1              1439  \n",
       "10259                2           0              1456  \n",
       "\n",
       "[10260 rows x 19 columns]"
      ]
     },
     "execution_count": 138,
     "metadata": {},
     "output_type": "execute_result"
    }
   ],
   "source": [
    "df_labeled"
   ]
  },
  {
   "cell_type": "code",
   "execution_count": 139,
   "id": "c783db80-fd02-4d68-be97-9d4ab8648d06",
   "metadata": {},
   "outputs": [],
   "source": [
    "# Combine information to be just 1 for each customer. Bad_customer tag is 1 if one or more ID is tagged as bad_customer\n",
    "df_labeled = df_labeled.groupby(['ID_same_customer','CODE_GENDER', 'FLAG_OWN_CAR', 'FLAG_OWN_REALTY', 'CNT_CHILDREN',\n",
    "       'AMT_INCOME_TOTAL', 'NAME_INCOME_TYPE', 'NAME_EDUCATION_TYPE',\n",
    "       'NAME_FAMILY_STATUS', 'NAME_HOUSING_TYPE', 'DAYS_BIRTH',\n",
    "       'DAYS_EMPLOYED', 'FLAG_MOBIL', 'FLAG_WORK_PHONE', 'FLAG_PHONE',\n",
    "       'FLAG_EMAIL', 'OCCUPATION_TYPE', 'CNT_FAM_MEMBERS'],as_index=False,dropna=False).max()"
   ]
  },
  {
   "cell_type": "code",
   "execution_count": 140,
   "id": "a504640d-507c-4f46-bbb7-c784aa2fa03c",
   "metadata": {},
   "outputs": [
    {
     "data": {
      "text/plain": [
       "0"
      ]
     },
     "execution_count": 140,
     "metadata": {},
     "output_type": "execute_result"
    }
   ],
   "source": [
    "# Recheck duplicates\n",
    "df_labeled.drop('ID_same_customer',axis=1).duplicated().sum()"
   ]
  },
  {
   "cell_type": "markdown",
   "id": "37aa9596-8a93-49b3-bf80-7ebf586f2081",
   "metadata": {},
   "source": [
    "#### Check for missing data¶\n"
   ]
  },
  {
   "cell_type": "code",
   "execution_count": 141,
   "id": "bcf9b7b0-ba8d-4954-9325-8c9c0b52a3c7",
   "metadata": {},
   "outputs": [
    {
     "data": {
      "text/plain": [
       "ID_same_customer       0.000000\n",
       "CODE_GENDER            0.000000\n",
       "FLAG_OWN_CAR           0.000000\n",
       "FLAG_OWN_REALTY        0.000000\n",
       "CNT_CHILDREN           0.000000\n",
       "AMT_INCOME_TOTAL       0.000000\n",
       "NAME_INCOME_TYPE       0.000000\n",
       "NAME_EDUCATION_TYPE    0.000000\n",
       "NAME_FAMILY_STATUS     0.000000\n",
       "NAME_HOUSING_TYPE      0.000000\n",
       "DAYS_BIRTH             0.000000\n",
       "DAYS_EMPLOYED          0.000000\n",
       "FLAG_MOBIL             0.000000\n",
       "FLAG_WORK_PHONE        0.000000\n",
       "FLAG_PHONE             0.000000\n",
       "FLAG_EMAIL             0.000000\n",
       "OCCUPATION_TYPE        4.226897\n",
       "CNT_FAM_MEMBERS        0.000000\n",
       "B_Customer             0.000000\n",
       "dtype: float64"
      ]
     },
     "execution_count": 141,
     "metadata": {},
     "output_type": "execute_result"
    }
   ],
   "source": [
    "df_labeled.isna().sum()/df_appl.shape[0]*100"
   ]
  },
  {
   "cell_type": "code",
   "execution_count": 142,
   "id": "9d3dfff2-c185-45a3-a4dd-d15f52997609",
   "metadata": {},
   "outputs": [
    {
     "data": {
      "text/plain": [
       "Text(0.5, 1.0, 'Income type of customers (without occupation data)')"
      ]
     },
     "execution_count": 142,
     "metadata": {},
     "output_type": "execute_result"
    },
    {
     "data": {
      "image/png": "[encoded data removed]",
      "text/plain": [
       "<Figure size 500x300 with 1 Axes>"
      ]
     },
     "metadata": {},
     "output_type": "display_data"
    }
   ],
   "source": [
    "plt.figure(figsize=(5,3))\n",
    "sns.countplot(x= df_labeled[df_labeled[\"OCCUPATION_TYPE\"].isna()][\"NAME_INCOME_TYPE\"], color='tab:green')\n",
    "plt.title(\"Income type of customers (without occupation data)\")"
   ]
  },
  {
   "cell_type": "code",
   "execution_count": 143,
   "id": "89fa3a4e-9631-4310-8c71-7675e20b212e",
   "metadata": {},
   "outputs": [],
   "source": [
    " # label pensioner occupation type\n",
    "df_labeled.loc[df_labeled[\"NAME_INCOME_TYPE\"]==\"Pensioner\",\"OCCUPATION_TYPE\"] = \"Pensioner\""
   ]
  },
  {
   "cell_type": "code",
   "execution_count": 144,
   "id": "d6b23932-7599-4659-9520-ad50a1ee7d67",
   "metadata": {},
   "outputs": [
    {
     "data": {
      "text/plain": [
       "ID_same_customer       0.000000\n",
       "CODE_GENDER            0.000000\n",
       "FLAG_OWN_CAR           0.000000\n",
       "FLAG_OWN_REALTY        0.000000\n",
       "CNT_CHILDREN           0.000000\n",
       "AMT_INCOME_TOTAL       0.000000\n",
       "NAME_INCOME_TYPE       0.000000\n",
       "NAME_EDUCATION_TYPE    0.000000\n",
       "NAME_FAMILY_STATUS     0.000000\n",
       "NAME_HOUSING_TYPE      0.000000\n",
       "DAYS_BIRTH             0.000000\n",
       "DAYS_EMPLOYED          0.000000\n",
       "FLAG_MOBIL             0.000000\n",
       "FLAG_WORK_PHONE        0.000000\n",
       "FLAG_PHONE             0.000000\n",
       "FLAG_EMAIL             0.000000\n",
       "OCCUPATION_TYPE        1.818581\n",
       "CNT_FAM_MEMBERS        0.000000\n",
       "B_Customer             0.000000\n",
       "dtype: float64"
      ]
     },
     "execution_count": 144,
     "metadata": {},
     "output_type": "execute_result"
    }
   ],
   "source": [
    "# Check missing data after assigning pensioner\n",
    "df_labeled.isna().sum()/df_appl.shape[0]*100"
   ]
  },
  {
   "cell_type": "code",
   "execution_count": 145,
   "id": "7fe27472-6b04-4ddc-9a0b-8d156f73b79f",
   "metadata": {},
   "outputs": [],
   "source": [
    "# drop null occupation rows\n",
    "df_labeled = df_labeled.dropna(axis=0)"
   ]
  },
  {
   "cell_type": "markdown",
   "id": "38295dc1-78a8-469c-ac31-5175ddab38a0",
   "metadata": {},
   "source": [
    "##### Verify if any of the categorical columns have typos.\n"
   ]
  },
  {
   "cell_type": "code",
   "execution_count": 146,
   "id": "99332663-b9a1-47ff-8d81-61ded9766121",
   "metadata": {},
   "outputs": [
    {
     "data": {
      "text/plain": [
       "array(['F', 'M'], dtype=object)"
      ]
     },
     "execution_count": 146,
     "metadata": {},
     "output_type": "execute_result"
    }
   ],
   "source": [
    "df_labeled[\"CODE_GENDER\"].unique()"
   ]
  },
  {
   "cell_type": "code",
   "execution_count": 147,
   "id": "dfba6f48-f428-4c00-8444-15cc0d0ae52d",
   "metadata": {},
   "outputs": [
    {
     "data": {
      "text/plain": [
       "array(['N', 'Y'], dtype=object)"
      ]
     },
     "execution_count": 147,
     "metadata": {},
     "output_type": "execute_result"
    }
   ],
   "source": [
    "df_labeled[\"FLAG_OWN_CAR\"].unique()"
   ]
  },
  {
   "cell_type": "code",
   "execution_count": 148,
   "id": "d1d09042-f250-4688-bbaf-6696fe6d159c",
   "metadata": {},
   "outputs": [
    {
     "data": {
      "text/plain": [
       "array(['N', 'Y'], dtype=object)"
      ]
     },
     "execution_count": 148,
     "metadata": {},
     "output_type": "execute_result"
    }
   ],
   "source": [
    "df_labeled[\"FLAG_OWN_REALTY\"].unique()"
   ]
  },
  {
   "cell_type": "code",
   "execution_count": 149,
   "id": "e55bb90c-cefd-4ee9-9591-cc03bbde8907",
   "metadata": {},
   "outputs": [
    {
     "data": {
      "text/plain": [
       "array(['Working', 'Pensioner', 'State servant', 'Commercial associate',\n",
       "       'Student'], dtype=object)"
      ]
     },
     "execution_count": 149,
     "metadata": {},
     "output_type": "execute_result"
    }
   ],
   "source": [
    "df_labeled[\"NAME_INCOME_TYPE\"].unique()"
   ]
  },
  {
   "cell_type": "code",
   "execution_count": 150,
   "id": "e4516593-0bcc-47ea-9d42-befa09bf14ae",
   "metadata": {},
   "outputs": [
    {
     "data": {
      "text/plain": [
       "array(['Civil marriage', 'Married', 'Single / not married', 'Widow',\n",
       "       'Separated'], dtype=object)"
      ]
     },
     "execution_count": 150,
     "metadata": {},
     "output_type": "execute_result"
    }
   ],
   "source": [
    "df_labeled[\"NAME_FAMILY_STATUS\"].unique()"
   ]
  },
  {
   "cell_type": "code",
   "execution_count": 151,
   "id": "b4f97598-9778-4e91-abe1-84fb77143fe2",
   "metadata": {},
   "outputs": [
    {
     "data": {
      "text/plain": [
       "array(['House / apartment', 'Office apartment', 'With parents',\n",
       "       'Municipal apartment', 'Co-op apartment', 'Rented apartment'],\n",
       "      dtype=object)"
      ]
     },
     "execution_count": 151,
     "metadata": {},
     "output_type": "execute_result"
    }
   ],
   "source": [
    "df_labeled[\"NAME_HOUSING_TYPE\"].unique()"
   ]
  },
  {
   "cell_type": "code",
   "execution_count": 152,
   "id": "0166d0d3-f70a-4ac0-a0a3-2d3e7c839c88",
   "metadata": {},
   "outputs": [
    {
     "data": {
      "text/plain": [
       "array(['Managers', 'Pensioner', 'Core staff', 'Accountants',\n",
       "       'Sales staff', 'Cleaning staff', 'Medicine staff', 'Laborers',\n",
       "       'Security staff', 'High skill tech staff', 'Cooking staff',\n",
       "       'Private service staff', 'Waiters/barmen staff', 'Secretaries',\n",
       "       'HR staff', 'Low-skill Laborers', 'Drivers', 'IT staff',\n",
       "       'Realty agents'], dtype=object)"
      ]
     },
     "execution_count": 152,
     "metadata": {},
     "output_type": "execute_result"
    }
   ],
   "source": [
    "df_labeled[\"OCCUPATION_TYPE\"].unique()"
   ]
  },
  {
   "cell_type": "markdown",
   "id": "8c5548e7-a322-462f-998b-34f07b9c51bb",
   "metadata": {},
   "source": [
    "#### drop sensitive data"
   ]
  },
  {
   "cell_type": "code",
   "execution_count": 153,
   "id": "de4f87c4-8a22-4458-98bb-c8b2c7c89629",
   "metadata": {},
   "outputs": [],
   "source": [
    "# drop gender\n",
    "df_labeled = df_labeled.drop(\"CODE_GENDER\", axis=1)"
   ]
  },
  {
   "cell_type": "code",
   "execution_count": 154,
   "id": "e5381f01-88fa-4aaf-9108-19c12f7079f0",
   "metadata": {},
   "outputs": [
    {
     "data": {
      "text/html": [
       "<div>\n",
       "<style scoped>\n",
       "    .dataframe tbody tr th:only-of-type {\n",
       "        vertical-align: middle;\n",
       "    }\n",
       "\n",
       "    .dataframe tbody tr th {\n",
       "        vertical-align: top;\n",
       "    }\n",
       "\n",
       "    .dataframe thead th {\n",
       "        text-align: right;\n",
       "    }\n",
       "</style>\n",
       "<table border=\"1\" class=\"dataframe\">\n",
       "  <thead>\n",
       "    <tr style=\"text-align: right;\">\n",
       "      <th></th>\n",
       "      <th>ID_same_customer</th>\n",
       "      <th>FLAG_OWN_CAR</th>\n",
       "      <th>FLAG_OWN_REALTY</th>\n",
       "      <th>CNT_CHILDREN</th>\n",
       "      <th>AMT_INCOME_TOTAL</th>\n",
       "      <th>NAME_INCOME_TYPE</th>\n",
       "      <th>NAME_EDUCATION_TYPE</th>\n",
       "      <th>NAME_FAMILY_STATUS</th>\n",
       "      <th>NAME_HOUSING_TYPE</th>\n",
       "      <th>DAYS_BIRTH</th>\n",
       "      <th>DAYS_EMPLOYED</th>\n",
       "      <th>FLAG_MOBIL</th>\n",
       "      <th>FLAG_WORK_PHONE</th>\n",
       "      <th>FLAG_PHONE</th>\n",
       "      <th>FLAG_EMAIL</th>\n",
       "      <th>OCCUPATION_TYPE</th>\n",
       "      <th>CNT_FAM_MEMBERS</th>\n",
       "      <th>B_Customer</th>\n",
       "    </tr>\n",
       "  </thead>\n",
       "  <tbody>\n",
       "    <tr>\n",
       "      <th>0</th>\n",
       "      <td>0</td>\n",
       "      <td>N</td>\n",
       "      <td>N</td>\n",
       "      <td>0</td>\n",
       "      <td>27000.0</td>\n",
       "      <td>Working</td>\n",
       "      <td>Higher education</td>\n",
       "      <td>Civil marriage</td>\n",
       "      <td>House / apartment</td>\n",
       "      <td>-14869</td>\n",
       "      <td>-5067</td>\n",
       "      <td>1</td>\n",
       "      <td>1</td>\n",
       "      <td>0</td>\n",
       "      <td>0</td>\n",
       "      <td>Managers</td>\n",
       "      <td>2</td>\n",
       "      <td>0</td>\n",
       "    </tr>\n",
       "    <tr>\n",
       "      <th>1</th>\n",
       "      <td>1</td>\n",
       "      <td>N</td>\n",
       "      <td>N</td>\n",
       "      <td>0</td>\n",
       "      <td>33300.0</td>\n",
       "      <td>Pensioner</td>\n",
       "      <td>Secondary / secondary special</td>\n",
       "      <td>Married</td>\n",
       "      <td>Office apartment</td>\n",
       "      <td>-19605</td>\n",
       "      <td>365243</td>\n",
       "      <td>1</td>\n",
       "      <td>0</td>\n",
       "      <td>0</td>\n",
       "      <td>0</td>\n",
       "      <td>Pensioner</td>\n",
       "      <td>2</td>\n",
       "      <td>0</td>\n",
       "    </tr>\n",
       "    <tr>\n",
       "      <th>2</th>\n",
       "      <td>2</td>\n",
       "      <td>N</td>\n",
       "      <td>N</td>\n",
       "      <td>0</td>\n",
       "      <td>36000.0</td>\n",
       "      <td>Working</td>\n",
       "      <td>Secondary / secondary special</td>\n",
       "      <td>Married</td>\n",
       "      <td>With parents</td>\n",
       "      <td>-14500</td>\n",
       "      <td>-459</td>\n",
       "      <td>1</td>\n",
       "      <td>1</td>\n",
       "      <td>0</td>\n",
       "      <td>0</td>\n",
       "      <td>Core staff</td>\n",
       "      <td>2</td>\n",
       "      <td>0</td>\n",
       "    </tr>\n",
       "    <tr>\n",
       "      <th>3</th>\n",
       "      <td>3</td>\n",
       "      <td>N</td>\n",
       "      <td>N</td>\n",
       "      <td>0</td>\n",
       "      <td>36900.0</td>\n",
       "      <td>Pensioner</td>\n",
       "      <td>Higher education</td>\n",
       "      <td>Married</td>\n",
       "      <td>House / apartment</td>\n",
       "      <td>-22581</td>\n",
       "      <td>365243</td>\n",
       "      <td>1</td>\n",
       "      <td>0</td>\n",
       "      <td>0</td>\n",
       "      <td>0</td>\n",
       "      <td>Pensioner</td>\n",
       "      <td>2</td>\n",
       "      <td>0</td>\n",
       "    </tr>\n",
       "    <tr>\n",
       "      <th>4</th>\n",
       "      <td>4</td>\n",
       "      <td>N</td>\n",
       "      <td>N</td>\n",
       "      <td>0</td>\n",
       "      <td>40500.0</td>\n",
       "      <td>Pensioner</td>\n",
       "      <td>Secondary / secondary special</td>\n",
       "      <td>Single / not married</td>\n",
       "      <td>House / apartment</td>\n",
       "      <td>-21091</td>\n",
       "      <td>365243</td>\n",
       "      <td>1</td>\n",
       "      <td>0</td>\n",
       "      <td>0</td>\n",
       "      <td>0</td>\n",
       "      <td>Pensioner</td>\n",
       "      <td>1</td>\n",
       "      <td>0</td>\n",
       "    </tr>\n",
       "  </tbody>\n",
       "</table>\n",
       "</div>"
      ],
      "text/plain": [
       "   ID_same_customer FLAG_OWN_CAR FLAG_OWN_REALTY  CNT_CHILDREN  \\\n",
       "0                 0            N               N             0   \n",
       "1                 1            N               N             0   \n",
       "2                 2            N               N             0   \n",
       "3                 3            N               N             0   \n",
       "4                 4            N               N             0   \n",
       "\n",
       "   AMT_INCOME_TOTAL NAME_INCOME_TYPE            NAME_EDUCATION_TYPE  \\\n",
       "0           27000.0          Working               Higher education   \n",
       "1           33300.0        Pensioner  Secondary / secondary special   \n",
       "2           36000.0          Working  Secondary / secondary special   \n",
       "3           36900.0        Pensioner               Higher education   \n",
       "4           40500.0        Pensioner  Secondary / secondary special   \n",
       "\n",
       "     NAME_FAMILY_STATUS  NAME_HOUSING_TYPE  DAYS_BIRTH  DAYS_EMPLOYED  \\\n",
       "0        Civil marriage  House / apartment      -14869          -5067   \n",
       "1               Married   Office apartment      -19605         365243   \n",
       "2               Married       With parents      -14500           -459   \n",
       "3               Married  House / apartment      -22581         365243   \n",
       "4  Single / not married  House / apartment      -21091         365243   \n",
       "\n",
       "   FLAG_MOBIL  FLAG_WORK_PHONE  FLAG_PHONE  FLAG_EMAIL OCCUPATION_TYPE  \\\n",
       "0           1                1           0           0        Managers   \n",
       "1           1                0           0           0       Pensioner   \n",
       "2           1                1           0           0      Core staff   \n",
       "3           1                0           0           0       Pensioner   \n",
       "4           1                0           0           0       Pensioner   \n",
       "\n",
       "   CNT_FAM_MEMBERS  B_Customer  \n",
       "0                2           0  \n",
       "1                2           0  \n",
       "2                2           0  \n",
       "3                2           0  \n",
       "4                1           0  "
      ]
     },
     "execution_count": 154,
     "metadata": {},
     "output_type": "execute_result"
    }
   ],
   "source": [
    "df_labeled.head()"
   ]
  },
  {
   "cell_type": "markdown",
   "id": "a48146b4-4291-4a36-9d76-9266028daf6a",
   "metadata": {
    "tags": []
   },
   "source": [
    "### Analyzing exploratory data (EDA) and designing features"
   ]
  },
  {
   "cell_type": "code",
   "execution_count": 155,
   "id": "f5304376-50f6-41fb-8193-9eb25d660229",
   "metadata": {},
   "outputs": [],
   "source": [
    "# define WOE fuction \n",
    "def WOE_cal(df,col_name):\n",
    "    WOE = pd.DataFrame()\n",
    "    total_bad = df[\"B_Customer\"].sum()\n",
    "    total_good = df.shape[0]-total_bad\n",
    "    WOE[\"Dist_bad\"]  = (df_labeled.groupby(col_name)[\"B_Customer\"].sum())/total_bad\n",
    "    WOE[\"Dist_good\"] = (df_labeled.groupby(col_name)[\"B_Customer\"].count()-df_labeled.groupby(col_name)[\"B_Customer\"].sum())/total_good\n",
    "    WOE[\"WOE\"] = (np.log((WOE[\"Dist_good\"]/WOE[\"Dist_bad\"])))\n",
    "    IV = (WOE[\"WOE\"]*(WOE[\"Dist_good\"]-WOE[\"Dist_bad\"])).sum() # information value\n",
    "    return [WOE, IV]"
   ]
  },
  {
   "cell_type": "code",
   "execution_count": 156,
   "id": "687fb4ea-5595-48bc-9172-b332ab57e549",
   "metadata": {},
   "outputs": [],
   "source": [
    "# Adjust DAYS_BIRTH to AGE in year\n",
    "df_labeled[\"AGE\"] = ((-df_labeled[\"DAYS_BIRTH\"])/365).apply(int)\n",
    "df_labeled = df_labeled.drop([\"DAYS_BIRTH\"],axis=1)"
   ]
  },
  {
   "cell_type": "code",
   "execution_count": 157,
   "id": "d0b9c017-8675-4fc6-b2ff-cdc7baf817fa",
   "metadata": {},
   "outputs": [],
   "source": [
    "# Adjust DAYS_EMPLOYED to YEAR_EMPLOYED in year\n",
    "df_labeled[\"YEAR_EMPLOYED\"] = np.ceil(-(df_labeled[\"DAYS_EMPLOYED\"]/365))\n",
    "df_labeled = df_labeled.drop([\"DAYS_EMPLOYED\"],axis=1)"
   ]
  },
  {
   "cell_type": "code",
   "execution_count": 158,
   "id": "aa75c1e9-6692-46cb-8d7e-4538ea184bb6",
   "metadata": {},
   "outputs": [],
   "source": [
    "df_labeled = df_labeled.reset_index(drop=True)\n",
    "df_labeled = df_labeled.drop([\"ID_same_customer\"],axis=1)"
   ]
  },
  {
   "cell_type": "code",
   "execution_count": 159,
   "id": "b04843e4-fbf4-40c1-b93e-f510b8035fbb",
   "metadata": {},
   "outputs": [
    {
     "data": {
      "text/html": [
       "<div>\n",
       "<style scoped>\n",
       "    .dataframe tbody tr th:only-of-type {\n",
       "        vertical-align: middle;\n",
       "    }\n",
       "\n",
       "    .dataframe tbody tr th {\n",
       "        vertical-align: top;\n",
       "    }\n",
       "\n",
       "    .dataframe thead th {\n",
       "        text-align: right;\n",
       "    }\n",
       "</style>\n",
       "<table border=\"1\" class=\"dataframe\">\n",
       "  <thead>\n",
       "    <tr style=\"text-align: right;\">\n",
       "      <th></th>\n",
       "      <th>FLAG_OWN_CAR</th>\n",
       "      <th>FLAG_OWN_REALTY</th>\n",
       "      <th>CNT_CHILDREN</th>\n",
       "      <th>AMT_INCOME_TOTAL</th>\n",
       "      <th>NAME_INCOME_TYPE</th>\n",
       "      <th>NAME_EDUCATION_TYPE</th>\n",
       "      <th>NAME_FAMILY_STATUS</th>\n",
       "      <th>NAME_HOUSING_TYPE</th>\n",
       "      <th>FLAG_MOBIL</th>\n",
       "      <th>FLAG_WORK_PHONE</th>\n",
       "      <th>FLAG_PHONE</th>\n",
       "      <th>FLAG_EMAIL</th>\n",
       "      <th>OCCUPATION_TYPE</th>\n",
       "      <th>CNT_FAM_MEMBERS</th>\n",
       "      <th>B_Customer</th>\n",
       "      <th>AGE</th>\n",
       "      <th>YEAR_EMPLOYED</th>\n",
       "    </tr>\n",
       "  </thead>\n",
       "  <tbody>\n",
       "    <tr>\n",
       "      <th>0</th>\n",
       "      <td>N</td>\n",
       "      <td>N</td>\n",
       "      <td>0</td>\n",
       "      <td>27000.0</td>\n",
       "      <td>Working</td>\n",
       "      <td>Higher education</td>\n",
       "      <td>Civil marriage</td>\n",
       "      <td>House / apartment</td>\n",
       "      <td>1</td>\n",
       "      <td>1</td>\n",
       "      <td>0</td>\n",
       "      <td>0</td>\n",
       "      <td>Managers</td>\n",
       "      <td>2</td>\n",
       "      <td>0</td>\n",
       "      <td>40</td>\n",
       "      <td>14.0</td>\n",
       "    </tr>\n",
       "    <tr>\n",
       "      <th>1</th>\n",
       "      <td>N</td>\n",
       "      <td>N</td>\n",
       "      <td>0</td>\n",
       "      <td>33300.0</td>\n",
       "      <td>Pensioner</td>\n",
       "      <td>Secondary / secondary special</td>\n",
       "      <td>Married</td>\n",
       "      <td>Office apartment</td>\n",
       "      <td>1</td>\n",
       "      <td>0</td>\n",
       "      <td>0</td>\n",
       "      <td>0</td>\n",
       "      <td>Pensioner</td>\n",
       "      <td>2</td>\n",
       "      <td>0</td>\n",
       "      <td>53</td>\n",
       "      <td>-1000.0</td>\n",
       "    </tr>\n",
       "    <tr>\n",
       "      <th>2</th>\n",
       "      <td>N</td>\n",
       "      <td>N</td>\n",
       "      <td>0</td>\n",
       "      <td>36000.0</td>\n",
       "      <td>Working</td>\n",
       "      <td>Secondary / secondary special</td>\n",
       "      <td>Married</td>\n",
       "      <td>With parents</td>\n",
       "      <td>1</td>\n",
       "      <td>1</td>\n",
       "      <td>0</td>\n",
       "      <td>0</td>\n",
       "      <td>Core staff</td>\n",
       "      <td>2</td>\n",
       "      <td>0</td>\n",
       "      <td>39</td>\n",
       "      <td>2.0</td>\n",
       "    </tr>\n",
       "    <tr>\n",
       "      <th>3</th>\n",
       "      <td>N</td>\n",
       "      <td>N</td>\n",
       "      <td>0</td>\n",
       "      <td>36900.0</td>\n",
       "      <td>Pensioner</td>\n",
       "      <td>Higher education</td>\n",
       "      <td>Married</td>\n",
       "      <td>House / apartment</td>\n",
       "      <td>1</td>\n",
       "      <td>0</td>\n",
       "      <td>0</td>\n",
       "      <td>0</td>\n",
       "      <td>Pensioner</td>\n",
       "      <td>2</td>\n",
       "      <td>0</td>\n",
       "      <td>61</td>\n",
       "      <td>-1000.0</td>\n",
       "    </tr>\n",
       "    <tr>\n",
       "      <th>4</th>\n",
       "      <td>N</td>\n",
       "      <td>N</td>\n",
       "      <td>0</td>\n",
       "      <td>40500.0</td>\n",
       "      <td>Pensioner</td>\n",
       "      <td>Secondary / secondary special</td>\n",
       "      <td>Single / not married</td>\n",
       "      <td>House / apartment</td>\n",
       "      <td>1</td>\n",
       "      <td>0</td>\n",
       "      <td>0</td>\n",
       "      <td>0</td>\n",
       "      <td>Pensioner</td>\n",
       "      <td>1</td>\n",
       "      <td>0</td>\n",
       "      <td>57</td>\n",
       "      <td>-1000.0</td>\n",
       "    </tr>\n",
       "  </tbody>\n",
       "</table>\n",
       "</div>"
      ],
      "text/plain": [
       "  FLAG_OWN_CAR FLAG_OWN_REALTY  CNT_CHILDREN  AMT_INCOME_TOTAL  \\\n",
       "0            N               N             0           27000.0   \n",
       "1            N               N             0           33300.0   \n",
       "2            N               N             0           36000.0   \n",
       "3            N               N             0           36900.0   \n",
       "4            N               N             0           40500.0   \n",
       "\n",
       "  NAME_INCOME_TYPE            NAME_EDUCATION_TYPE    NAME_FAMILY_STATUS  \\\n",
       "0          Working               Higher education        Civil marriage   \n",
       "1        Pensioner  Secondary / secondary special               Married   \n",
       "2          Working  Secondary / secondary special               Married   \n",
       "3        Pensioner               Higher education               Married   \n",
       "4        Pensioner  Secondary / secondary special  Single / not married   \n",
       "\n",
       "   NAME_HOUSING_TYPE  FLAG_MOBIL  FLAG_WORK_PHONE  FLAG_PHONE  FLAG_EMAIL  \\\n",
       "0  House / apartment           1                1           0           0   \n",
       "1   Office apartment           1                0           0           0   \n",
       "2       With parents           1                1           0           0   \n",
       "3  House / apartment           1                0           0           0   \n",
       "4  House / apartment           1                0           0           0   \n",
       "\n",
       "  OCCUPATION_TYPE  CNT_FAM_MEMBERS  B_Customer  AGE  YEAR_EMPLOYED  \n",
       "0        Managers                2           0   40           14.0  \n",
       "1       Pensioner                2           0   53        -1000.0  \n",
       "2      Core staff                2           0   39            2.0  \n",
       "3       Pensioner                2           0   61        -1000.0  \n",
       "4       Pensioner                1           0   57        -1000.0  "
      ]
     },
     "execution_count": 159,
     "metadata": {},
     "output_type": "execute_result"
    }
   ],
   "source": [
    "df_labeled.head()"
   ]
  },
  {
   "cell_type": "markdown",
   "id": "52de0abc-5e78-434d-8499-d6865f99832c",
   "metadata": {},
   "source": [
    "##### FLAG_MOBIL, FLAG_WORK_PHONE, FLAG_PHONE, and FLAG_EMAIL\n",
    "\n",
    "###### FLAG_MOBIL (Is there a mobile phone) is 1 for all row, which is not a beneficial data."
   ]
  },
  {
   "cell_type": "code",
   "execution_count": 160,
   "id": "68b179e4-a1d9-4a24-9247-8c6b8edc76e9",
   "metadata": {},
   "outputs": [
    {
     "data": {
      "text/plain": [
       "1    4284\n",
       "Name: FLAG_MOBIL, dtype: int64"
      ]
     },
     "execution_count": 160,
     "metadata": {},
     "output_type": "execute_result"
    }
   ],
   "source": [
    "# Show that FLAG_MOBIL only contain value 1\n",
    "df_labeled[\"FLAG_MOBIL\"].value_counts()"
   ]
  },
  {
   "cell_type": "code",
   "execution_count": 161,
   "id": "56925443-160f-4c31-8e91-708f6b4e7f74",
   "metadata": {},
   "outputs": [],
   "source": [
    "# Drop FLAG_MOBIL\n",
    "df_labeled = df_labeled.drop('FLAG_MOBIL',axis=1)"
   ]
  },
  {
   "cell_type": "markdown",
   "id": "d1cea60b-a170-49b7-a8aa-627728c7f041",
   "metadata": {
    "tags": []
   },
   "source": [
    "### Check WOE, and IV of the rest"
   ]
  },
  {
   "cell_type": "code",
   "execution_count": 162,
   "id": "e4d8bee7-8ab7-4ea2-b5c3-8bf18dfd9624",
   "metadata": {},
   "outputs": [
    {
     "name": "stdout",
     "output_type": "stream",
     "text": [
      "Information value (IV): 0.005711083265458758\n"
     ]
    },
    {
     "data": {
      "text/html": [
       "<div>\n",
       "<style scoped>\n",
       "    .dataframe tbody tr th:only-of-type {\n",
       "        vertical-align: middle;\n",
       "    }\n",
       "\n",
       "    .dataframe tbody tr th {\n",
       "        vertical-align: top;\n",
       "    }\n",
       "\n",
       "    .dataframe thead th {\n",
       "        text-align: right;\n",
       "    }\n",
       "</style>\n",
       "<table border=\"1\" class=\"dataframe\">\n",
       "  <thead>\n",
       "    <tr style=\"text-align: right;\">\n",
       "      <th></th>\n",
       "      <th>Dist_bad</th>\n",
       "      <th>Dist_good</th>\n",
       "      <th>WOE</th>\n",
       "    </tr>\n",
       "    <tr>\n",
       "      <th>FLAG_WORK_PHONE</th>\n",
       "      <th></th>\n",
       "      <th></th>\n",
       "      <th></th>\n",
       "    </tr>\n",
       "  </thead>\n",
       "  <tbody>\n",
       "    <tr>\n",
       "      <th>1</th>\n",
       "      <td>0.247312</td>\n",
       "      <td>0.215462</td>\n",
       "      <td>-0.137867</td>\n",
       "    </tr>\n",
       "    <tr>\n",
       "      <th>0</th>\n",
       "      <td>0.752688</td>\n",
       "      <td>0.784538</td>\n",
       "      <td>0.041444</td>\n",
       "    </tr>\n",
       "  </tbody>\n",
       "</table>\n",
       "</div>"
      ],
      "text/plain": [
       "                 Dist_bad  Dist_good       WOE\n",
       "FLAG_WORK_PHONE                               \n",
       "1                0.247312   0.215462 -0.137867\n",
       "0                0.752688   0.784538  0.041444"
      ]
     },
     "execution_count": 162,
     "metadata": {},
     "output_type": "execute_result"
    }
   ],
   "source": [
    "[WOE, IV] = WOE_cal(df_labeled,\"FLAG_WORK_PHONE\")\n",
    "print(\"Information value (IV):\", IV)\n",
    "WOE.sort_values(\"WOE\")"
   ]
  },
  {
   "cell_type": "code",
   "execution_count": 163,
   "id": "7c008a0c-9ba2-4190-a114-6a3a8da3fee8",
   "metadata": {},
   "outputs": [
    {
     "name": "stdout",
     "output_type": "stream",
     "text": [
      "Information value (IV): 0.020088810078150013\n"
     ]
    },
    {
     "data": {
      "text/html": [
       "<div>\n",
       "<style scoped>\n",
       "    .dataframe tbody tr th:only-of-type {\n",
       "        vertical-align: middle;\n",
       "    }\n",
       "\n",
       "    .dataframe tbody tr th {\n",
       "        vertical-align: top;\n",
       "    }\n",
       "\n",
       "    .dataframe thead th {\n",
       "        text-align: right;\n",
       "    }\n",
       "</style>\n",
       "<table border=\"1\" class=\"dataframe\">\n",
       "  <thead>\n",
       "    <tr style=\"text-align: right;\">\n",
       "      <th></th>\n",
       "      <th>Dist_bad</th>\n",
       "      <th>Dist_good</th>\n",
       "      <th>WOE</th>\n",
       "    </tr>\n",
       "    <tr>\n",
       "      <th>FLAG_PHONE</th>\n",
       "      <th></th>\n",
       "      <th></th>\n",
       "      <th></th>\n",
       "    </tr>\n",
       "  </thead>\n",
       "  <tbody>\n",
       "    <tr>\n",
       "      <th>1</th>\n",
       "      <td>0.354839</td>\n",
       "      <td>0.288714</td>\n",
       "      <td>-0.206227</td>\n",
       "    </tr>\n",
       "    <tr>\n",
       "      <th>0</th>\n",
       "      <td>0.645161</td>\n",
       "      <td>0.711286</td>\n",
       "      <td>0.097574</td>\n",
       "    </tr>\n",
       "  </tbody>\n",
       "</table>\n",
       "</div>"
      ],
      "text/plain": [
       "            Dist_bad  Dist_good       WOE\n",
       "FLAG_PHONE                               \n",
       "1           0.354839   0.288714 -0.206227\n",
       "0           0.645161   0.711286  0.097574"
      ]
     },
     "execution_count": 163,
     "metadata": {},
     "output_type": "execute_result"
    }
   ],
   "source": [
    "[WOE, IV] = WOE_cal(df_labeled,\"FLAG_PHONE\")\n",
    "print(\"Information value (IV):\", IV)\n",
    "WOE.sort_values(\"WOE\")"
   ]
  },
  {
   "cell_type": "code",
   "execution_count": 164,
   "id": "b0cdba48-e99a-4cc6-951f-7cc5fca73212",
   "metadata": {},
   "outputs": [
    {
     "name": "stdout",
     "output_type": "stream",
     "text": [
      "Information value (IV): 0.015541933951965283\n"
     ]
    },
    {
     "data": {
      "text/html": [
       "<div>\n",
       "<style scoped>\n",
       "    .dataframe tbody tr th:only-of-type {\n",
       "        vertical-align: middle;\n",
       "    }\n",
       "\n",
       "    .dataframe tbody tr th {\n",
       "        vertical-align: top;\n",
       "    }\n",
       "\n",
       "    .dataframe thead th {\n",
       "        text-align: right;\n",
       "    }\n",
       "</style>\n",
       "<table border=\"1\" class=\"dataframe\">\n",
       "  <thead>\n",
       "    <tr style=\"text-align: right;\">\n",
       "      <th></th>\n",
       "      <th>Dist_bad</th>\n",
       "      <th>Dist_good</th>\n",
       "      <th>WOE</th>\n",
       "    </tr>\n",
       "    <tr>\n",
       "      <th>FLAG_EMAIL</th>\n",
       "      <th></th>\n",
       "      <th></th>\n",
       "      <th></th>\n",
       "    </tr>\n",
       "  </thead>\n",
       "  <tbody>\n",
       "    <tr>\n",
       "      <th>1</th>\n",
       "      <td>0.11828</td>\n",
       "      <td>0.081126</td>\n",
       "      <td>-0.377045</td>\n",
       "    </tr>\n",
       "    <tr>\n",
       "      <th>0</th>\n",
       "      <td>0.88172</td>\n",
       "      <td>0.918874</td>\n",
       "      <td>0.041274</td>\n",
       "    </tr>\n",
       "  </tbody>\n",
       "</table>\n",
       "</div>"
      ],
      "text/plain": [
       "            Dist_bad  Dist_good       WOE\n",
       "FLAG_EMAIL                               \n",
       "1            0.11828   0.081126 -0.377045\n",
       "0            0.88172   0.918874  0.041274"
      ]
     },
     "execution_count": 164,
     "metadata": {},
     "output_type": "execute_result"
    }
   ],
   "source": [
    "[WOE, IV] = WOE_cal(df_labeled,\"FLAG_EMAIL\")\n",
    "print(\"Information value (IV):\", IV)\n",
    "WOE.sort_values(\"WOE\")"
   ]
  },
  {
   "cell_type": "markdown",
   "id": "e71cda6c-1130-47e8-979c-c766a1c7b1a4",
   "metadata": {},
   "source": [
    "##### As FLAG_WORK_PHONE and FLAG_EMAIL have IVs that are far lower "
   ]
  },
  {
   "cell_type": "code",
   "execution_count": 165,
   "id": "40895770-016b-45d3-ba3e-c941b3aa072e",
   "metadata": {},
   "outputs": [],
   "source": [
    "# Drop old flag\n",
    "df_labeled = df_labeled.drop([\"FLAG_WORK_PHONE\",\"FLAG_EMAIL\",\"FLAG_PHONE\"],axis=1)"
   ]
  },
  {
   "cell_type": "markdown",
   "id": "97226edf-c0e9-40ca-808f-a08b77539d52",
   "metadata": {},
   "source": [
    "#### FLAG_OWN_CAR"
   ]
  },
  {
   "cell_type": "code",
   "execution_count": 166,
   "id": "c0d9d32f-1218-48f5-a8b0-e803293765e8",
   "metadata": {},
   "outputs": [
    {
     "data": {
      "text/plain": [
       "N    62.138189\n",
       "Y    37.861811\n",
       "Name: FLAG_OWN_CAR, dtype: float64"
      ]
     },
     "execution_count": 166,
     "metadata": {},
     "output_type": "execute_result"
    }
   ],
   "source": [
    "# Percentage of sample of each income type\n",
    "df_labeled[\"FLAG_OWN_CAR\"].value_counts(normalize=True)*100"
   ]
  },
  {
   "cell_type": "code",
   "execution_count": 167,
   "id": "1bf74adf-7177-4324-918a-3208600d0de6",
   "metadata": {},
   "outputs": [
    {
     "name": "stdout",
     "output_type": "stream",
     "text": [
      "Information value (IV): 0.0025440155398926954\n"
     ]
    },
    {
     "data": {
      "text/html": [
       "<div>\n",
       "<style scoped>\n",
       "    .dataframe tbody tr th:only-of-type {\n",
       "        vertical-align: middle;\n",
       "    }\n",
       "\n",
       "    .dataframe tbody tr th {\n",
       "        vertical-align: top;\n",
       "    }\n",
       "\n",
       "    .dataframe thead th {\n",
       "        text-align: right;\n",
       "    }\n",
       "</style>\n",
       "<table border=\"1\" class=\"dataframe\">\n",
       "  <thead>\n",
       "    <tr style=\"text-align: right;\">\n",
       "      <th></th>\n",
       "      <th>Dist_bad</th>\n",
       "      <th>Dist_good</th>\n",
       "      <th>WOE</th>\n",
       "    </tr>\n",
       "    <tr>\n",
       "      <th>FLAG_OWN_CAR</th>\n",
       "      <th></th>\n",
       "      <th></th>\n",
       "      <th></th>\n",
       "    </tr>\n",
       "  </thead>\n",
       "  <tbody>\n",
       "    <tr>\n",
       "      <th>N</th>\n",
       "      <td>0.645161</td>\n",
       "      <td>0.620854</td>\n",
       "      <td>-0.038404</td>\n",
       "    </tr>\n",
       "    <tr>\n",
       "      <th>Y</th>\n",
       "      <td>0.354839</td>\n",
       "      <td>0.379146</td>\n",
       "      <td>0.066257</td>\n",
       "    </tr>\n",
       "  </tbody>\n",
       "</table>\n",
       "</div>"
      ],
      "text/plain": [
       "              Dist_bad  Dist_good       WOE\n",
       "FLAG_OWN_CAR                               \n",
       "N             0.645161   0.620854 -0.038404\n",
       "Y             0.354839   0.379146  0.066257"
      ]
     },
     "execution_count": 167,
     "metadata": {},
     "output_type": "execute_result"
    }
   ],
   "source": [
    "[WOE, IV] = WOE_cal(df_labeled,\"FLAG_OWN_CAR\")\n",
    "print(\"Information value (IV):\", IV)\n",
    "WOE.sort_values(\"WOE\")"
   ]
  },
  {
   "cell_type": "code",
   "execution_count": 168,
   "id": "c361ebba-4169-4c6e-b893-f560fbbe3084",
   "metadata": {},
   "outputs": [
    {
     "name": "stdout",
     "output_type": "stream",
     "text": [
      "Information value (IV): 0.0025440155398926954\n"
     ]
    },
    {
     "data": {
      "text/html": [
       "<div>\n",
       "<style scoped>\n",
       "    .dataframe tbody tr th:only-of-type {\n",
       "        vertical-align: middle;\n",
       "    }\n",
       "\n",
       "    .dataframe tbody tr th {\n",
       "        vertical-align: top;\n",
       "    }\n",
       "\n",
       "    .dataframe thead th {\n",
       "        text-align: right;\n",
       "    }\n",
       "</style>\n",
       "<table border=\"1\" class=\"dataframe\">\n",
       "  <thead>\n",
       "    <tr style=\"text-align: right;\">\n",
       "      <th></th>\n",
       "      <th>Dist_bad</th>\n",
       "      <th>Dist_good</th>\n",
       "      <th>WOE</th>\n",
       "    </tr>\n",
       "    <tr>\n",
       "      <th>FLAG_OWN_CAR</th>\n",
       "      <th></th>\n",
       "      <th></th>\n",
       "      <th></th>\n",
       "    </tr>\n",
       "  </thead>\n",
       "  <tbody>\n",
       "    <tr>\n",
       "      <th>N</th>\n",
       "      <td>0.645161</td>\n",
       "      <td>0.620854</td>\n",
       "      <td>-0.038404</td>\n",
       "    </tr>\n",
       "    <tr>\n",
       "      <th>Y</th>\n",
       "      <td>0.354839</td>\n",
       "      <td>0.379146</td>\n",
       "      <td>0.066257</td>\n",
       "    </tr>\n",
       "  </tbody>\n",
       "</table>\n",
       "</div>"
      ],
      "text/plain": [
       "              Dist_bad  Dist_good       WOE\n",
       "FLAG_OWN_CAR                               \n",
       "N             0.645161   0.620854 -0.038404\n",
       "Y             0.354839   0.379146  0.066257"
      ]
     },
     "execution_count": 168,
     "metadata": {},
     "output_type": "execute_result"
    }
   ],
   "source": [
    "[WOE, IV] = WOE_cal(df_labeled,\"FLAG_OWN_CAR\")\n",
    "print(\"Information value (IV):\", IV)\n",
    "WOE.sort_values(\"WOE\")"
   ]
  },
  {
   "cell_type": "code",
   "execution_count": 169,
   "id": "e7f7533b-d8b8-49ca-b5ab-48aa11454559",
   "metadata": {},
   "outputs": [],
   "source": [
    "# Drop FLAG_OWN_CAR as IV is very low\n",
    "df_labeled = df_labeled.drop([\"FLAG_OWN_CAR\"],axis=1)"
   ]
  },
  {
   "cell_type": "code",
   "execution_count": 170,
   "id": "f456576e-75a7-41da-adee-e2008cfc59f4",
   "metadata": {},
   "outputs": [
    {
     "data": {
      "text/plain": [
       "Y    66.643324\n",
       "N    33.356676\n",
       "Name: FLAG_OWN_REALTY, dtype: float64"
      ]
     },
     "execution_count": 170,
     "metadata": {},
     "output_type": "execute_result"
    }
   ],
   "source": [
    "# Percentage of sample of each income type\n",
    "df_labeled[\"FLAG_OWN_REALTY\"].value_counts(normalize=True)*100"
   ]
  },
  {
   "cell_type": "code",
   "execution_count": 171,
   "id": "c519d53e-620a-4599-884a-79d4a0345c58",
   "metadata": {},
   "outputs": [
    {
     "name": "stdout",
     "output_type": "stream",
     "text": [
      "Information value (IV): 0.013018083799736657\n"
     ]
    },
    {
     "data": {
      "text/html": [
       "<div>\n",
       "<style scoped>\n",
       "    .dataframe tbody tr th:only-of-type {\n",
       "        vertical-align: middle;\n",
       "    }\n",
       "\n",
       "    .dataframe tbody tr th {\n",
       "        vertical-align: top;\n",
       "    }\n",
       "\n",
       "    .dataframe thead th {\n",
       "        text-align: right;\n",
       "    }\n",
       "</style>\n",
       "<table border=\"1\" class=\"dataframe\">\n",
       "  <thead>\n",
       "    <tr style=\"text-align: right;\">\n",
       "      <th></th>\n",
       "      <th>Dist_bad</th>\n",
       "      <th>Dist_good</th>\n",
       "      <th>WOE</th>\n",
       "    </tr>\n",
       "    <tr>\n",
       "      <th>FLAG_OWN_REALTY</th>\n",
       "      <th></th>\n",
       "      <th></th>\n",
       "      <th></th>\n",
       "    </tr>\n",
       "  </thead>\n",
       "  <tbody>\n",
       "    <tr>\n",
       "      <th>N</th>\n",
       "      <td>0.387097</td>\n",
       "      <td>0.332379</td>\n",
       "      <td>-0.152399</td>\n",
       "    </tr>\n",
       "    <tr>\n",
       "      <th>Y</th>\n",
       "      <td>0.612903</td>\n",
       "      <td>0.667621</td>\n",
       "      <td>0.085514</td>\n",
       "    </tr>\n",
       "  </tbody>\n",
       "</table>\n",
       "</div>"
      ],
      "text/plain": [
       "                 Dist_bad  Dist_good       WOE\n",
       "FLAG_OWN_REALTY                               \n",
       "N                0.387097   0.332379 -0.152399\n",
       "Y                0.612903   0.667621  0.085514"
      ]
     },
     "execution_count": 171,
     "metadata": {},
     "output_type": "execute_result"
    }
   ],
   "source": [
    "[WOE, IV] = WOE_cal(df_labeled,\"FLAG_OWN_REALTY\")\n",
    "print(\"Information value (IV):\", IV)\n",
    "WOE.sort_values(\"WOE\")"
   ]
  },
  {
   "cell_type": "code",
   "execution_count": 172,
   "id": "25e49b6c-9854-4aab-ae37-0ecb3499bc61",
   "metadata": {},
   "outputs": [],
   "source": [
    "# Drop FLAG_OWN_CAR as IV is very low\n",
    "df_labeled = df_labeled.drop([\"FLAG_OWN_REALTY\"],axis=1)"
   ]
  },
  {
   "cell_type": "markdown",
   "id": "5f189062-8c5c-44b2-a99d-0a60f7ec56fd",
   "metadata": {},
   "source": [
    "#### NAME_INCOME_TYPE (Type of income)"
   ]
  },
  {
   "cell_type": "code",
   "execution_count": 173,
   "id": "4b520ccf-35bc-40c8-b2b3-de03c7c9a451",
   "metadata": {},
   "outputs": [
    {
     "data": {
      "text/plain": [
       "Working                 48.646125\n",
       "Commercial associate    22.992530\n",
       "Pensioner               20.728291\n",
       "State servant            7.609711\n",
       "Student                  0.023343\n",
       "Name: NAME_INCOME_TYPE, dtype: float64"
      ]
     },
     "execution_count": 173,
     "metadata": {},
     "output_type": "execute_result"
    }
   ],
   "source": [
    "# Percentage of sample of each income type\n",
    "df_labeled[\"NAME_INCOME_TYPE\"].value_counts(normalize=True)*100"
   ]
  },
  {
   "cell_type": "markdown",
   "id": "cd68148f-234d-4166-8ef1-a2ded9633138",
   "metadata": {},
   "source": [
    "##### We are not able to reassign them to a different group because of the low student frequency. We decided to part with it."
   ]
  },
  {
   "cell_type": "code",
   "execution_count": 174,
   "id": "745364a5-1c71-4f95-80b6-093416878d84",
   "metadata": {},
   "outputs": [
    {
     "data": {
      "text/plain": [
       "Working                 48.657483\n",
       "Commercial associate    22.997899\n",
       "Pensioner               20.733131\n",
       "State servant            7.611487\n",
       "Name: NAME_INCOME_TYPE, dtype: float64"
      ]
     },
     "execution_count": 174,
     "metadata": {},
     "output_type": "execute_result"
    }
   ],
   "source": [
    "df_labeled = df_labeled[df_labeled[\"NAME_INCOME_TYPE\"]!=\"Student\"]\n",
    "df_labeled[\"NAME_INCOME_TYPE\"].value_counts(normalize=True)*100"
   ]
  },
  {
   "cell_type": "code",
   "execution_count": 175,
   "id": "7f97965b-1ec4-416f-a5a0-2fb683d68012",
   "metadata": {},
   "outputs": [
    {
     "name": "stdout",
     "output_type": "stream",
     "text": [
      "Information value (IV): 0.08690258519566955\n"
     ]
    },
    {
     "data": {
      "text/html": [
       "<div>\n",
       "<style scoped>\n",
       "    .dataframe tbody tr th:only-of-type {\n",
       "        vertical-align: middle;\n",
       "    }\n",
       "\n",
       "    .dataframe tbody tr th {\n",
       "        vertical-align: top;\n",
       "    }\n",
       "\n",
       "    .dataframe thead th {\n",
       "        text-align: right;\n",
       "    }\n",
       "</style>\n",
       "<table border=\"1\" class=\"dataframe\">\n",
       "  <thead>\n",
       "    <tr style=\"text-align: right;\">\n",
       "      <th></th>\n",
       "      <th>Dist_bad</th>\n",
       "      <th>Dist_good</th>\n",
       "      <th>WOE</th>\n",
       "    </tr>\n",
       "    <tr>\n",
       "      <th>NAME_INCOME_TYPE</th>\n",
       "      <th></th>\n",
       "      <th></th>\n",
       "      <th></th>\n",
       "    </tr>\n",
       "  </thead>\n",
       "  <tbody>\n",
       "    <tr>\n",
       "      <th>Commercial associate</th>\n",
       "      <td>0.279570</td>\n",
       "      <td>0.228878</td>\n",
       "      <td>-0.200062</td>\n",
       "    </tr>\n",
       "    <tr>\n",
       "      <th>Pensioner</th>\n",
       "      <td>0.236559</td>\n",
       "      <td>0.206683</td>\n",
       "      <td>-0.135014</td>\n",
       "    </tr>\n",
       "    <tr>\n",
       "      <th>Working</th>\n",
       "      <td>0.462366</td>\n",
       "      <td>0.487112</td>\n",
       "      <td>0.052139</td>\n",
       "    </tr>\n",
       "    <tr>\n",
       "      <th>State servant</th>\n",
       "      <td>0.021505</td>\n",
       "      <td>0.077327</td>\n",
       "      <td>1.279740</td>\n",
       "    </tr>\n",
       "  </tbody>\n",
       "</table>\n",
       "</div>"
      ],
      "text/plain": [
       "                      Dist_bad  Dist_good       WOE\n",
       "NAME_INCOME_TYPE                                   \n",
       "Commercial associate  0.279570   0.228878 -0.200062\n",
       "Pensioner             0.236559   0.206683 -0.135014\n",
       "Working               0.462366   0.487112  0.052139\n",
       "State servant         0.021505   0.077327  1.279740"
      ]
     },
     "execution_count": 175,
     "metadata": {},
     "output_type": "execute_result"
    }
   ],
   "source": [
    "[WOE, IV] = WOE_cal(df_labeled,\"NAME_INCOME_TYPE\")\n",
    "print(\"Information value (IV):\", IV)\n",
    "WOE.sort_values(\"WOE\")"
   ]
  },
  {
   "cell_type": "markdown",
   "id": "53d0e70f-e068-40ff-a70f-8be4a565b443",
   "metadata": {},
   "source": [
    "#### NAME_EDUCATION_TYPE (Type of education)"
   ]
  },
  {
   "cell_type": "code",
   "execution_count": 176,
   "id": "27f9e1c6-417c-41d5-ac92-7beb3389a2e6",
   "metadata": {},
   "outputs": [
    {
     "data": {
      "text/plain": [
       "Secondary / secondary special    70.044361\n",
       "Higher education                 25.449451\n",
       "Incomplete higher                 3.105300\n",
       "Lower secondary                   1.354191\n",
       "Academic degree                   0.046696\n",
       "Name: NAME_EDUCATION_TYPE, dtype: float64"
      ]
     },
     "execution_count": 176,
     "metadata": {},
     "output_type": "execute_result"
    }
   ],
   "source": [
    "# Percentage of sample of each education type\n",
    "df_labeled[\"NAME_EDUCATION_TYPE\"].value_counts(normalize=True)*100"
   ]
  },
  {
   "cell_type": "raw",
   "id": "2df53e0f-b999-4887-959b-de299e2e1ba2",
   "metadata": {},
   "source": [
    "We made the decision to group Lower Secondary under Secondary / Secondary Special and Higher Education under Academic and Incomplete Higher Degrees. We also renamed it \"Secondary/Lower\" for the later situation."
   ]
  },
  {
   "cell_type": "code",
   "execution_count": 177,
   "id": "68aeafc6-1c8d-4bb6-bbc6-4cb036140952",
   "metadata": {},
   "outputs": [
    {
     "data": {
      "text/plain": [
       "Secondary/Lower      71.398552\n",
       "Higher education     25.496148\n",
       "Incomplete higher     3.105300\n",
       "Name: NAME_EDUCATION_TYPE, dtype: float64"
      ]
     },
     "execution_count": 177,
     "metadata": {},
     "output_type": "execute_result"
    }
   ],
   "source": [
    "df_labeled[\"NAME_EDUCATION_TYPE\"] = df_labeled[\"NAME_EDUCATION_TYPE\"].replace({\"Academic degree\":\"Higher education\",\"Lower secondary\":\"Secondary/Lower\",\"Secondary / secondary special\":\"Secondary/Lower\"})\n",
    "df_labeled[\"NAME_EDUCATION_TYPE\"].value_counts(normalize=True)*100 \n"
   ]
  },
  {
   "cell_type": "raw",
   "id": "3f3c6572-85b8-451f-bd90-ba8846ec177b",
   "metadata": {},
   "source": [
    "Secondary/Lower education makes up 71% of the majority, followed by Higher education at 25%. There is little predictive power evident in the distribution of both excellent and bad customers, which is very similar in both groups. This is further supported by the low IV score of 0.005. We have chosen to discontinue this feature."
   ]
  },
  {
   "cell_type": "code",
   "execution_count": 178,
   "id": "55dffd63-96ac-43dc-a5ce-3b86b8894536",
   "metadata": {},
   "outputs": [
    {
     "data": {
      "text/plain": [
       "Secondary/Lower      71.398552\n",
       "Higher education     25.496148\n",
       "Incomplete higher     3.105300\n",
       "Name: NAME_EDUCATION_TYPE, dtype: float64"
      ]
     },
     "execution_count": 178,
     "metadata": {},
     "output_type": "execute_result"
    }
   ],
   "source": [
    "df_labeled[\"NAME_EDUCATION_TYPE\"] = df_labeled[\"NAME_EDUCATION_TYPE\"].replace({\"Academic degree\":\"Higher education\",\"Lower secondary\":\"Secondary/Lower\",\"Secondary / secondary special\":\"Secondary/Lower\"})\n",
    "df_labeled[\"NAME_EDUCATION_TYPE\"].value_counts(normalize=True)*100"
   ]
  },
  {
   "cell_type": "code",
   "execution_count": 179,
   "id": "c701494a-49d3-4e3c-a4a4-9f3e2579b78e",
   "metadata": {},
   "outputs": [
    {
     "name": "stdout",
     "output_type": "stream",
     "text": [
      "Information value (IV): 0.005586494848586235\n"
     ]
    },
    {
     "data": {
      "text/html": [
       "<div>\n",
       "<style scoped>\n",
       "    .dataframe tbody tr th:only-of-type {\n",
       "        vertical-align: middle;\n",
       "    }\n",
       "\n",
       "    .dataframe tbody tr th {\n",
       "        vertical-align: top;\n",
       "    }\n",
       "\n",
       "    .dataframe thead th {\n",
       "        text-align: right;\n",
       "    }\n",
       "</style>\n",
       "<table border=\"1\" class=\"dataframe\">\n",
       "  <thead>\n",
       "    <tr style=\"text-align: right;\">\n",
       "      <th></th>\n",
       "      <th>Dist_bad</th>\n",
       "      <th>Dist_good</th>\n",
       "      <th>WOE</th>\n",
       "    </tr>\n",
       "    <tr>\n",
       "      <th>NAME_EDUCATION_TYPE</th>\n",
       "      <th></th>\n",
       "      <th></th>\n",
       "      <th></th>\n",
       "    </tr>\n",
       "  </thead>\n",
       "  <tbody>\n",
       "    <tr>\n",
       "      <th>Incomplete higher</th>\n",
       "      <td>0.043011</td>\n",
       "      <td>0.030788</td>\n",
       "      <td>-0.334338</td>\n",
       "    </tr>\n",
       "    <tr>\n",
       "      <th>Secondary/Lower</th>\n",
       "      <td>0.720430</td>\n",
       "      <td>0.713842</td>\n",
       "      <td>-0.009186</td>\n",
       "    </tr>\n",
       "    <tr>\n",
       "      <th>Higher education</th>\n",
       "      <td>0.236559</td>\n",
       "      <td>0.255370</td>\n",
       "      <td>0.076515</td>\n",
       "    </tr>\n",
       "  </tbody>\n",
       "</table>\n",
       "</div>"
      ],
      "text/plain": [
       "                     Dist_bad  Dist_good       WOE\n",
       "NAME_EDUCATION_TYPE                               \n",
       "Incomplete higher    0.043011   0.030788 -0.334338\n",
       "Secondary/Lower      0.720430   0.713842 -0.009186\n",
       "Higher education     0.236559   0.255370  0.076515"
      ]
     },
     "execution_count": 179,
     "metadata": {},
     "output_type": "execute_result"
    }
   ],
   "source": [
    "[WOE, IV] = WOE_cal(df_labeled,\"NAME_EDUCATION_TYPE\")\n",
    "print(\"Information value (IV):\", IV)\n",
    "WOE.sort_values(\"WOE\")"
   ]
  },
  {
   "cell_type": "raw",
   "id": "86459b19-b731-4092-a8dc-66b81741f2a5",
   "metadata": {},
   "source": [
    "The majority is in the Secondary/Lower at 71% and another majority group is Higher education at 25%. The Distribution of good and bad customer is both group are quite the same, which indicating low predicting power. This also confirmed by low IV score at 0.005. We decided to drop this feature."
   ]
  },
  {
   "cell_type": "code",
   "execution_count": 180,
   "id": "ab4673b3-70a6-48a6-8008-bbae3e1e2cd3",
   "metadata": {},
   "outputs": [],
   "source": [
    "df_labeled = df_labeled.drop(\"NAME_EDUCATION_TYPE\", axis=1)"
   ]
  },
  {
   "cell_type": "markdown",
   "id": "7fd93418-e3b1-49d0-9549-6e14ed430bb5",
   "metadata": {},
   "source": [
    "#### NAME_FAMILY_STATUS"
   ]
  },
  {
   "cell_type": "code",
   "execution_count": 181,
   "id": "b0b28942-b1d1-4edd-80d7-ff93a6030297",
   "metadata": {},
   "outputs": [
    {
     "data": {
      "text/plain": [
       "Married                 68.876955\n",
       "Single / not married    12.748074\n",
       "Civil marriage           8.311931\n",
       "Separated                5.603549\n",
       "Widow                    4.459491\n",
       "Name: NAME_FAMILY_STATUS, dtype: float64"
      ]
     },
     "execution_count": 181,
     "metadata": {},
     "output_type": "execute_result"
    }
   ],
   "source": [
    "df_labeled[\"NAME_FAMILY_STATUS\"].value_counts(normalize=True)*100"
   ]
  },
  {
   "cell_type": "code",
   "execution_count": 182,
   "id": "b8906010-1f70-40c6-beec-d44f2b6fa746",
   "metadata": {},
   "outputs": [
    {
     "name": "stdout",
     "output_type": "stream",
     "text": [
      "Information value (IV): 0.07927244771187314\n"
     ]
    },
    {
     "data": {
      "text/html": [
       "<div>\n",
       "<style scoped>\n",
       "    .dataframe tbody tr th:only-of-type {\n",
       "        vertical-align: middle;\n",
       "    }\n",
       "\n",
       "    .dataframe tbody tr th {\n",
       "        vertical-align: top;\n",
       "    }\n",
       "\n",
       "    .dataframe thead th {\n",
       "        text-align: right;\n",
       "    }\n",
       "</style>\n",
       "<table border=\"1\" class=\"dataframe\">\n",
       "  <thead>\n",
       "    <tr style=\"text-align: right;\">\n",
       "      <th></th>\n",
       "      <th>Dist_bad</th>\n",
       "      <th>Dist_good</th>\n",
       "      <th>WOE</th>\n",
       "    </tr>\n",
       "    <tr>\n",
       "      <th>NAME_FAMILY_STATUS</th>\n",
       "      <th></th>\n",
       "      <th></th>\n",
       "      <th></th>\n",
       "    </tr>\n",
       "  </thead>\n",
       "  <tbody>\n",
       "    <tr>\n",
       "      <th>Widow</th>\n",
       "      <td>0.064516</td>\n",
       "      <td>0.044153</td>\n",
       "      <td>-0.379260</td>\n",
       "    </tr>\n",
       "    <tr>\n",
       "      <th>Single / not married</th>\n",
       "      <td>0.172043</td>\n",
       "      <td>0.126492</td>\n",
       "      <td>-0.307568</td>\n",
       "    </tr>\n",
       "    <tr>\n",
       "      <th>Separated</th>\n",
       "      <td>0.075269</td>\n",
       "      <td>0.055609</td>\n",
       "      <td>-0.302728</td>\n",
       "    </tr>\n",
       "    <tr>\n",
       "      <th>Married</th>\n",
       "      <td>0.655914</td>\n",
       "      <td>0.689499</td>\n",
       "      <td>0.049935</td>\n",
       "    </tr>\n",
       "    <tr>\n",
       "      <th>Civil marriage</th>\n",
       "      <td>0.032258</td>\n",
       "      <td>0.084248</td>\n",
       "      <td>0.959999</td>\n",
       "    </tr>\n",
       "  </tbody>\n",
       "</table>\n",
       "</div>"
      ],
      "text/plain": [
       "                      Dist_bad  Dist_good       WOE\n",
       "NAME_FAMILY_STATUS                                 \n",
       "Widow                 0.064516   0.044153 -0.379260\n",
       "Single / not married  0.172043   0.126492 -0.307568\n",
       "Separated             0.075269   0.055609 -0.302728\n",
       "Married               0.655914   0.689499  0.049935\n",
       "Civil marriage        0.032258   0.084248  0.959999"
      ]
     },
     "execution_count": 182,
     "metadata": {},
     "output_type": "execute_result"
    }
   ],
   "source": [
    "[WOE, IV] = WOE_cal(df_labeled,\"NAME_FAMILY_STATUS\")\n",
    "print(\"Information value (IV):\", IV)\n",
    "WOE.sort_values(\"WOE\")"
   ]
  },
  {
   "cell_type": "code",
   "execution_count": 183,
   "id": "59bf7f52-712a-4eec-a05a-0e9174645017",
   "metadata": {},
   "outputs": [
    {
     "data": {
      "text/plain": [
       "Married                 68.876955\n",
       "Single / not married    12.748074\n",
       "Separated/Widow         10.063040\n",
       "Civil marriage           8.311931\n",
       "Name: NAME_FAMILY_STATUS, dtype: float64"
      ]
     },
     "execution_count": 183,
     "metadata": {},
     "output_type": "execute_result"
    }
   ],
   "source": [
    "# As WOE of Widow/not married are close together, we combined these groups.\n",
    "\n",
    "df_labeled[\"NAME_FAMILY_STATUS\"] = df_labeled[\"NAME_FAMILY_STATUS\"].replace({\"Widow\":\"Separated/Widow\",\"Separated\":\"Separated/Widow\"})\n",
    "df_labeled[\"NAME_FAMILY_STATUS\"].value_counts(normalize=True)*100"
   ]
  },
  {
   "cell_type": "code",
   "execution_count": 184,
   "id": "147fbb41-8427-4011-857c-124ef8a0dc33",
   "metadata": {},
   "outputs": [
    {
     "name": "stdout",
     "output_type": "stream",
     "text": [
      "Information value (IV): 0.07909866420747196\n"
     ]
    },
    {
     "data": {
      "text/html": [
       "<div>\n",
       "<style scoped>\n",
       "    .dataframe tbody tr th:only-of-type {\n",
       "        vertical-align: middle;\n",
       "    }\n",
       "\n",
       "    .dataframe tbody tr th {\n",
       "        vertical-align: top;\n",
       "    }\n",
       "\n",
       "    .dataframe thead th {\n",
       "        text-align: right;\n",
       "    }\n",
       "</style>\n",
       "<table border=\"1\" class=\"dataframe\">\n",
       "  <thead>\n",
       "    <tr style=\"text-align: right;\">\n",
       "      <th></th>\n",
       "      <th>Dist_bad</th>\n",
       "      <th>Dist_good</th>\n",
       "      <th>WOE</th>\n",
       "    </tr>\n",
       "    <tr>\n",
       "      <th>NAME_FAMILY_STATUS</th>\n",
       "      <th></th>\n",
       "      <th></th>\n",
       "      <th></th>\n",
       "    </tr>\n",
       "  </thead>\n",
       "  <tbody>\n",
       "    <tr>\n",
       "      <th>Separated/Widow</th>\n",
       "      <td>0.139785</td>\n",
       "      <td>0.099761</td>\n",
       "      <td>-0.337324</td>\n",
       "    </tr>\n",
       "    <tr>\n",
       "      <th>Single / not married</th>\n",
       "      <td>0.172043</td>\n",
       "      <td>0.126492</td>\n",
       "      <td>-0.307568</td>\n",
       "    </tr>\n",
       "    <tr>\n",
       "      <th>Married</th>\n",
       "      <td>0.655914</td>\n",
       "      <td>0.689499</td>\n",
       "      <td>0.049935</td>\n",
       "    </tr>\n",
       "    <tr>\n",
       "      <th>Civil marriage</th>\n",
       "      <td>0.032258</td>\n",
       "      <td>0.084248</td>\n",
       "      <td>0.959999</td>\n",
       "    </tr>\n",
       "  </tbody>\n",
       "</table>\n",
       "</div>"
      ],
      "text/plain": [
       "                      Dist_bad  Dist_good       WOE\n",
       "NAME_FAMILY_STATUS                                 \n",
       "Separated/Widow       0.139785   0.099761 -0.337324\n",
       "Single / not married  0.172043   0.126492 -0.307568\n",
       "Married               0.655914   0.689499  0.049935\n",
       "Civil marriage        0.032258   0.084248  0.959999"
      ]
     },
     "execution_count": 184,
     "metadata": {},
     "output_type": "execute_result"
    }
   ],
   "source": [
    "[WOE, IV] = WOE_cal(df_labeled,\"NAME_FAMILY_STATUS\")\n",
    "print(\"Information value (IV):\", IV)\n",
    "WOE.sort_values(\"WOE\")"
   ]
  },
  {
   "cell_type": "markdown",
   "id": "4ed81447-d990-47ec-a6fe-995b3a5a39f7",
   "metadata": {},
   "source": [
    "#### NAME_HOUSING_TYPE"
   ]
  },
  {
   "cell_type": "code",
   "execution_count": 185,
   "id": "824bdebb-d60c-4617-8262-dfb3670bff23",
   "metadata": {},
   "outputs": [
    {
     "data": {
      "text/plain": [
       "House / apartment      89.633435\n",
       "With parents            4.342750\n",
       "Municipal apartment     3.478870\n",
       "Rented apartment        1.260799\n",
       "Office apartment        0.863880\n",
       "Co-op apartment         0.420266\n",
       "Name: NAME_HOUSING_TYPE, dtype: float64"
      ]
     },
     "execution_count": 185,
     "metadata": {},
     "output_type": "execute_result"
    }
   ],
   "source": [
    "df_labeled[\"NAME_HOUSING_TYPE\"].value_counts(normalize=True)*100"
   ]
  },
  {
   "cell_type": "code",
   "execution_count": 186,
   "id": "4b2dc7f6-e0a0-4223-9949-bce824148ebd",
   "metadata": {},
   "outputs": [
    {
     "data": {
      "text/plain": [
       "House / apartment      90.917581\n",
       "With parents            4.342750\n",
       "Municipal apartment     3.478870\n",
       "Rented apartment        1.260799\n",
       "Name: NAME_HOUSING_TYPE, dtype: float64"
      ]
     },
     "execution_count": 186,
     "metadata": {},
     "output_type": "execute_result"
    }
   ],
   "source": [
    "df_labeled[\"NAME_HOUSING_TYPE\"] = df_labeled[\"NAME_HOUSING_TYPE\"].replace({\"Co-op apartment\":\"House / apartment\",\"Office apartment\":\"House / apartment\"})\n",
    "df_labeled[\"NAME_HOUSING_TYPE\"].value_counts(normalize=True)*100"
   ]
  },
  {
   "cell_type": "code",
   "execution_count": 187,
   "id": "71fba90e-2da2-470e-9662-97ec95ae2dc7",
   "metadata": {},
   "outputs": [
    {
     "name": "stdout",
     "output_type": "stream",
     "text": [
      "Information value (IV): 0.004243038632810376\n"
     ]
    },
    {
     "data": {
      "text/html": [
       "<div>\n",
       "<style scoped>\n",
       "    .dataframe tbody tr th:only-of-type {\n",
       "        vertical-align: middle;\n",
       "    }\n",
       "\n",
       "    .dataframe tbody tr th {\n",
       "        vertical-align: top;\n",
       "    }\n",
       "\n",
       "    .dataframe thead th {\n",
       "        text-align: right;\n",
       "    }\n",
       "</style>\n",
       "<table border=\"1\" class=\"dataframe\">\n",
       "  <thead>\n",
       "    <tr style=\"text-align: right;\">\n",
       "      <th></th>\n",
       "      <th>Dist_bad</th>\n",
       "      <th>Dist_good</th>\n",
       "      <th>WOE</th>\n",
       "    </tr>\n",
       "    <tr>\n",
       "      <th>NAME_HOUSING_TYPE</th>\n",
       "      <th></th>\n",
       "      <th></th>\n",
       "      <th></th>\n",
       "    </tr>\n",
       "  </thead>\n",
       "  <tbody>\n",
       "    <tr>\n",
       "      <th>House / apartment</th>\n",
       "      <td>0.924731</td>\n",
       "      <td>0.908831</td>\n",
       "      <td>-0.017344</td>\n",
       "    </tr>\n",
       "    <tr>\n",
       "      <th>Municipal apartment</th>\n",
       "      <td>0.032258</td>\n",
       "      <td>0.034845</td>\n",
       "      <td>0.077138</td>\n",
       "    </tr>\n",
       "    <tr>\n",
       "      <th>Rented apartment</th>\n",
       "      <td>0.010753</td>\n",
       "      <td>0.012649</td>\n",
       "      <td>0.162435</td>\n",
       "    </tr>\n",
       "    <tr>\n",
       "      <th>With parents</th>\n",
       "      <td>0.032258</td>\n",
       "      <td>0.043675</td>\n",
       "      <td>0.303017</td>\n",
       "    </tr>\n",
       "  </tbody>\n",
       "</table>\n",
       "</div>"
      ],
      "text/plain": [
       "                     Dist_bad  Dist_good       WOE\n",
       "NAME_HOUSING_TYPE                                 \n",
       "House / apartment    0.924731   0.908831 -0.017344\n",
       "Municipal apartment  0.032258   0.034845  0.077138\n",
       "Rented apartment     0.010753   0.012649  0.162435\n",
       "With parents         0.032258   0.043675  0.303017"
      ]
     },
     "execution_count": 187,
     "metadata": {},
     "output_type": "execute_result"
    }
   ],
   "source": [
    "# Calculate WOE\n",
    "[WOE, IV] = WOE_cal(df_labeled,\"NAME_HOUSING_TYPE\")\n",
    "print(\"Information value (IV):\", IV)\n",
    "WOE.sort_values(\"WOE\")"
   ]
  },
  {
   "cell_type": "code",
   "execution_count": 188,
   "id": "ffddab35-3951-4bac-85fd-c9bb6eb201fc",
   "metadata": {},
   "outputs": [],
   "source": [
    "# Drop NAME_HOUSING_TYPE as IV is very low\n",
    "df_labeled = df_labeled.drop(\"NAME_HOUSING_TYPE\", axis=1)"
   ]
  },
  {
   "cell_type": "markdown",
   "id": "56304183-50f7-480b-a46c-d88e84434d4f",
   "metadata": {},
   "source": [
    "#### OCCUPATION_TYPE"
   ]
  },
  {
   "cell_type": "code",
   "execution_count": 189,
   "id": "c5b12fd7-347a-4c66-8add-53eee9d22b5d",
   "metadata": {},
   "outputs": [
    {
     "data": {
      "text/plain": [
       "Pensioner                20.733131\n",
       "Laborers                 20.429605\n",
       "Sales staff              10.506654\n",
       "Core staff               10.389914\n",
       "Managers                  9.502685\n",
       "Drivers                   7.658184\n",
       "High skill tech staff     4.482839\n",
       "Accountants               3.689003\n",
       "Medicine staff            3.572262\n",
       "Security staff            2.077983\n",
       "Cooking staff             1.937894\n",
       "Cleaning staff            1.751109\n",
       "Private service staff     0.887229\n",
       "Low-skill Laborers        0.723792\n",
       "Secretaries               0.583703\n",
       "Waiters/barmen staff      0.490311\n",
       "HR staff                  0.256829\n",
       "IT staff                  0.186785\n",
       "Realty agents             0.140089\n",
       "Name: OCCUPATION_TYPE, dtype: float64"
      ]
     },
     "execution_count": 189,
     "metadata": {},
     "output_type": "execute_result"
    }
   ],
   "source": [
    "df_labeled[\"OCCUPATION_TYPE\"].value_counts(normalize=True)*100"
   ]
  },
  {
   "cell_type": "code",
   "execution_count": 190,
   "id": "8e8be4cb-43c8-4936-a0d2-86a896c1a4a4",
   "metadata": {},
   "outputs": [],
   "source": [
    "df_labeled = df_labeled[~df_labeled[\"OCCUPATION_TYPE\"].isin([\"Private service staff\",\"Low-skill Laborers\",\"Secretaries\",\"Waiters/barmen staff\",\"HR staff\",\"IT staff\",\"Realty agents\"])]"
   ]
  },
  {
   "cell_type": "code",
   "execution_count": 191,
   "id": "e842e739-a438-4dd3-b7c8-d21507886465",
   "metadata": {},
   "outputs": [
    {
     "name": "stdout",
     "output_type": "stream",
     "text": [
      "Information value (IV): 0.08176213036065198\n"
     ]
    },
    {
     "data": {
      "text/html": [
       "<div>\n",
       "<style scoped>\n",
       "    .dataframe tbody tr th:only-of-type {\n",
       "        vertical-align: middle;\n",
       "    }\n",
       "\n",
       "    .dataframe tbody tr th {\n",
       "        vertical-align: top;\n",
       "    }\n",
       "\n",
       "    .dataframe thead th {\n",
       "        text-align: right;\n",
       "    }\n",
       "</style>\n",
       "<table border=\"1\" class=\"dataframe\">\n",
       "  <thead>\n",
       "    <tr style=\"text-align: right;\">\n",
       "      <th></th>\n",
       "      <th>Dist_bad</th>\n",
       "      <th>Dist_good</th>\n",
       "      <th>WOE</th>\n",
       "    </tr>\n",
       "    <tr>\n",
       "      <th>OCCUPATION_TYPE</th>\n",
       "      <th></th>\n",
       "      <th></th>\n",
       "      <th></th>\n",
       "    </tr>\n",
       "  </thead>\n",
       "  <tbody>\n",
       "    <tr>\n",
       "      <th>Security staff</th>\n",
       "      <td>0.044944</td>\n",
       "      <td>0.020967</td>\n",
       "      <td>-0.762466</td>\n",
       "    </tr>\n",
       "    <tr>\n",
       "      <th>High skill tech staff</th>\n",
       "      <td>0.067416</td>\n",
       "      <td>0.045881</td>\n",
       "      <td>-0.384836</td>\n",
       "    </tr>\n",
       "    <tr>\n",
       "      <th>Cleaning staff</th>\n",
       "      <td>0.022472</td>\n",
       "      <td>0.018007</td>\n",
       "      <td>-0.221511</td>\n",
       "    </tr>\n",
       "    <tr>\n",
       "      <th>Medicine staff</th>\n",
       "      <td>0.044944</td>\n",
       "      <td>0.036754</td>\n",
       "      <td>-0.201171</td>\n",
       "    </tr>\n",
       "    <tr>\n",
       "      <th>Pensioner</th>\n",
       "      <td>0.247191</td>\n",
       "      <td>0.213616</td>\n",
       "      <td>-0.145981</td>\n",
       "    </tr>\n",
       "    <tr>\n",
       "      <th>Cooking staff</th>\n",
       "      <td>0.022472</td>\n",
       "      <td>0.019980</td>\n",
       "      <td>-0.117521</td>\n",
       "    </tr>\n",
       "    <tr>\n",
       "      <th>Managers</th>\n",
       "      <td>0.101124</td>\n",
       "      <td>0.098175</td>\n",
       "      <td>-0.029596</td>\n",
       "    </tr>\n",
       "    <tr>\n",
       "      <th>Laborers</th>\n",
       "      <td>0.202247</td>\n",
       "      <td>0.211396</td>\n",
       "      <td>0.044243</td>\n",
       "    </tr>\n",
       "    <tr>\n",
       "      <th>Core staff</th>\n",
       "      <td>0.101124</td>\n",
       "      <td>0.107548</td>\n",
       "      <td>0.061595</td>\n",
       "    </tr>\n",
       "    <tr>\n",
       "      <th>Drivers</th>\n",
       "      <td>0.067416</td>\n",
       "      <td>0.079428</td>\n",
       "      <td>0.163969</td>\n",
       "    </tr>\n",
       "    <tr>\n",
       "      <th>Accountants</th>\n",
       "      <td>0.022472</td>\n",
       "      <td>0.038481</td>\n",
       "      <td>0.537886</td>\n",
       "    </tr>\n",
       "    <tr>\n",
       "      <th>Sales staff</th>\n",
       "      <td>0.056180</td>\n",
       "      <td>0.109768</td>\n",
       "      <td>0.669813</td>\n",
       "    </tr>\n",
       "  </tbody>\n",
       "</table>\n",
       "</div>"
      ],
      "text/plain": [
       "                       Dist_bad  Dist_good       WOE\n",
       "OCCUPATION_TYPE                                     \n",
       "Security staff         0.044944   0.020967 -0.762466\n",
       "High skill tech staff  0.067416   0.045881 -0.384836\n",
       "Cleaning staff         0.022472   0.018007 -0.221511\n",
       "Medicine staff         0.044944   0.036754 -0.201171\n",
       "Pensioner              0.247191   0.213616 -0.145981\n",
       "Cooking staff          0.022472   0.019980 -0.117521\n",
       "Managers               0.101124   0.098175 -0.029596\n",
       "Laborers               0.202247   0.211396  0.044243\n",
       "Core staff             0.101124   0.107548  0.061595\n",
       "Drivers                0.067416   0.079428  0.163969\n",
       "Accountants            0.022472   0.038481  0.537886\n",
       "Sales staff            0.056180   0.109768  0.669813"
      ]
     },
     "execution_count": 191,
     "metadata": {},
     "output_type": "execute_result"
    }
   ],
   "source": [
    "# Calculate WOE\n",
    "[WOE, IV] = WOE_cal(df_labeled,\"OCCUPATION_TYPE\")\n",
    "print(\"Information value (IV):\", IV)\n",
    "WOE.sort_values(\"WOE\")"
   ]
  },
  {
   "cell_type": "code",
   "execution_count": 192,
   "id": "54060017-b89d-427b-ab9e-b288c3c6d71e",
   "metadata": {},
   "outputs": [
    {
     "data": {
      "text/plain": [
       "G5    41.684769\n",
       "G4    23.437123\n",
       "G8    10.861694\n",
       "G6     7.916968\n",
       "G3     5.503259\n",
       "G2     4.634323\n",
       "G7     3.813662\n",
       "G1     2.148202\n",
       "Name: OCCUPATION_TYPE, dtype: float64"
      ]
     },
     "execution_count": 192,
     "metadata": {},
     "output_type": "execute_result"
    }
   ],
   "source": [
    "# GROUP BY WOE SCORE\n",
    "df_labeled['OCCUPATION_TYPE'] = df_labeled['OCCUPATION_TYPE'].replace({\"Security staff\":\"G1\"})\n",
    "df_labeled['OCCUPATION_TYPE'] = df_labeled['OCCUPATION_TYPE'].replace({\"High skill tech staff\":\"G2\"})\n",
    "df_labeled['OCCUPATION_TYPE'] = df_labeled['OCCUPATION_TYPE'].replace({\"Cleaning staff\":\"G3\",\"Medicine staff\":\"G3\"})\n",
    "df_labeled['OCCUPATION_TYPE'] = df_labeled['OCCUPATION_TYPE'].replace({\"Pensioner\":\"G4\",\"Cooking staff\":\"G4\"})\n",
    "df_labeled['OCCUPATION_TYPE'] = df_labeled['OCCUPATION_TYPE'].replace({\"Managers\":\"G5\",\"Laborers\":\"G5\",\"Core staff\":\"G5\"})\n",
    "df_labeled['OCCUPATION_TYPE'] = df_labeled['OCCUPATION_TYPE'].replace({\"Drivers\":\"G6\"})\n",
    "df_labeled['OCCUPATION_TYPE'] = df_labeled['OCCUPATION_TYPE'].replace({\"Accountants\":\"G7\"})\n",
    "df_labeled['OCCUPATION_TYPE'] = df_labeled['OCCUPATION_TYPE'].replace({\"Sales staff\":\"G8\"})\n",
    "\n",
    "df_labeled['OCCUPATION_TYPE'].value_counts(normalize=True)*100"
   ]
  },
  {
   "cell_type": "code",
   "execution_count": 193,
   "id": "3562c299-5b9c-495d-8395-22f2ce149a9b",
   "metadata": {},
   "outputs": [
    {
     "name": "stdout",
     "output_type": "stream",
     "text": [
      "Information value (IV): 0.08124100714762295\n"
     ]
    },
    {
     "data": {
      "text/html": [
       "<div>\n",
       "<style scoped>\n",
       "    .dataframe tbody tr th:only-of-type {\n",
       "        vertical-align: middle;\n",
       "    }\n",
       "\n",
       "    .dataframe tbody tr th {\n",
       "        vertical-align: top;\n",
       "    }\n",
       "\n",
       "    .dataframe thead th {\n",
       "        text-align: right;\n",
       "    }\n",
       "</style>\n",
       "<table border=\"1\" class=\"dataframe\">\n",
       "  <thead>\n",
       "    <tr style=\"text-align: right;\">\n",
       "      <th></th>\n",
       "      <th>Dist_bad</th>\n",
       "      <th>Dist_good</th>\n",
       "      <th>WOE</th>\n",
       "    </tr>\n",
       "    <tr>\n",
       "      <th>OCCUPATION_TYPE</th>\n",
       "      <th></th>\n",
       "      <th></th>\n",
       "      <th></th>\n",
       "    </tr>\n",
       "  </thead>\n",
       "  <tbody>\n",
       "    <tr>\n",
       "      <th>G1</th>\n",
       "      <td>0.044944</td>\n",
       "      <td>0.020967</td>\n",
       "      <td>-0.762466</td>\n",
       "    </tr>\n",
       "    <tr>\n",
       "      <th>G2</th>\n",
       "      <td>0.067416</td>\n",
       "      <td>0.045881</td>\n",
       "      <td>-0.384836</td>\n",
       "    </tr>\n",
       "    <tr>\n",
       "      <th>G3</th>\n",
       "      <td>0.067416</td>\n",
       "      <td>0.054761</td>\n",
       "      <td>-0.207905</td>\n",
       "    </tr>\n",
       "    <tr>\n",
       "      <th>G4</th>\n",
       "      <td>0.269663</td>\n",
       "      <td>0.233596</td>\n",
       "      <td>-0.143578</td>\n",
       "    </tr>\n",
       "    <tr>\n",
       "      <th>G5</th>\n",
       "      <td>0.404494</td>\n",
       "      <td>0.417119</td>\n",
       "      <td>0.030733</td>\n",
       "    </tr>\n",
       "    <tr>\n",
       "      <th>G6</th>\n",
       "      <td>0.067416</td>\n",
       "      <td>0.079428</td>\n",
       "      <td>0.163969</td>\n",
       "    </tr>\n",
       "    <tr>\n",
       "      <th>G7</th>\n",
       "      <td>0.022472</td>\n",
       "      <td>0.038481</td>\n",
       "      <td>0.537886</td>\n",
       "    </tr>\n",
       "    <tr>\n",
       "      <th>G8</th>\n",
       "      <td>0.056180</td>\n",
       "      <td>0.109768</td>\n",
       "      <td>0.669813</td>\n",
       "    </tr>\n",
       "  </tbody>\n",
       "</table>\n",
       "</div>"
      ],
      "text/plain": [
       "                 Dist_bad  Dist_good       WOE\n",
       "OCCUPATION_TYPE                               \n",
       "G1               0.044944   0.020967 -0.762466\n",
       "G2               0.067416   0.045881 -0.384836\n",
       "G3               0.067416   0.054761 -0.207905\n",
       "G4               0.269663   0.233596 -0.143578\n",
       "G5               0.404494   0.417119  0.030733\n",
       "G6               0.067416   0.079428  0.163969\n",
       "G7               0.022472   0.038481  0.537886\n",
       "G8               0.056180   0.109768  0.669813"
      ]
     },
     "execution_count": 193,
     "metadata": {},
     "output_type": "execute_result"
    }
   ],
   "source": [
    "[WOE, IV] = WOE_cal(df_labeled,\"OCCUPATION_TYPE\")\n",
    "print(\"Information value (IV):\", IV)\n",
    "WOE.sort_values(\"WOE\")"
   ]
  },
  {
   "cell_type": "markdown",
   "id": "48aa6da3-cfaa-410b-81d0-2d8d437f16e1",
   "metadata": {},
   "source": [
    "#### CNT_CHILDREN (Number of children) and CNT_FAM_MEMBERS (Number of family member)"
   ]
  },
  {
   "cell_type": "code",
   "execution_count": 194,
   "id": "57d1cc7d-c814-4b89-9750-2d1e2c7a9147",
   "metadata": {},
   "outputs": [
    {
     "data": {
      "text/plain": [
       "Text(0.5, 1.0, 'Number of family member')"
      ]
     },
     "execution_count": 194,
     "metadata": {},
     "output_type": "execute_result"
    },
    {
     "data": {
      "image/png": "[encoded data removed]",
      "text/plain": [
       "<Figure size 1800x500 with 2 Axes>"
      ]
     },
     "metadata": {},
     "output_type": "display_data"
    }
   ],
   "source": [
    "fig, ax = plt.subplots(1, 2, figsize = (18,5))\n",
    "cplot = sns.countplot(data=df_labeled, x=\"CNT_CHILDREN\", ax=ax[0],color='tab:blue')\n",
    "for container in cplot.containers:\n",
    "    cplot.bar_label(container)\n",
    "ax[0].set_title('Number of children')\n",
    "\n",
    "cplot = sns.countplot(data=df_labeled, x=\"CNT_FAM_MEMBERS\", ax=ax[1],color='tab:green')\n",
    "for container in cplot.containers:\n",
    "    cplot.bar_label(container)\n",
    "ax[1].set_title('Number of family member')  "
   ]
  },
  {
   "cell_type": "raw",
   "id": "cefba168-c725-46c3-ae26-34870847f010",
   "metadata": {},
   "source": [
    "There is clearly outliers on both number of children and family member. The distribution of number of family greater than 1 is exactly the same as the distribution of number of children. This shows that these two features are highly correlated."
   ]
  },
  {
   "cell_type": "code",
   "execution_count": 195,
   "id": "69e5a170-603b-4f5c-ada6-620c10fcb222",
   "metadata": {},
   "outputs": [
    {
     "data": {
      "text/plain": [
       "Text(0.5, 1.0, 'Plot of number of family member and number of children')"
      ]
     },
     "execution_count": 195,
     "metadata": {},
     "output_type": "execute_result"
    },
    {
     "data": {
      "image/png": "[encoded data removed]",
      "text/plain": [
       "<Figure size 640x480 with 1 Axes>"
      ]
     },
     "metadata": {},
     "output_type": "display_data"
    }
   ],
   "source": [
    "sns.scatterplot(data=df_labeled, x=\"CNT_FAM_MEMBERS\",y=\"CNT_CHILDREN\")\n",
    "plt.title('Plot of number of family member and number of children')"
   ]
  },
  {
   "cell_type": "code",
   "execution_count": 196,
   "id": "7922c4bd-fd86-4510-9cea-e2ae90c397f9",
   "metadata": {},
   "outputs": [
    {
     "data": {
      "text/html": [
       "<div>\n",
       "<style scoped>\n",
       "    .dataframe tbody tr th:only-of-type {\n",
       "        vertical-align: middle;\n",
       "    }\n",
       "\n",
       "    .dataframe tbody tr th {\n",
       "        vertical-align: top;\n",
       "    }\n",
       "\n",
       "    .dataframe thead th {\n",
       "        text-align: right;\n",
       "    }\n",
       "</style>\n",
       "<table border=\"1\" class=\"dataframe\">\n",
       "  <thead>\n",
       "    <tr style=\"text-align: right;\">\n",
       "      <th></th>\n",
       "      <th>CNT_CHILDREN</th>\n",
       "      <th>CNT_FAM_MEMBERS</th>\n",
       "    </tr>\n",
       "  </thead>\n",
       "  <tbody>\n",
       "    <tr>\n",
       "      <th>CNT_CHILDREN</th>\n",
       "      <td>1.000000</td>\n",
       "      <td>0.882908</td>\n",
       "    </tr>\n",
       "    <tr>\n",
       "      <th>CNT_FAM_MEMBERS</th>\n",
       "      <td>0.882908</td>\n",
       "      <td>1.000000</td>\n",
       "    </tr>\n",
       "  </tbody>\n",
       "</table>\n",
       "</div>"
      ],
      "text/plain": [
       "                 CNT_CHILDREN  CNT_FAM_MEMBERS\n",
       "CNT_CHILDREN         1.000000         0.882908\n",
       "CNT_FAM_MEMBERS      0.882908         1.000000"
      ]
     },
     "execution_count": 196,
     "metadata": {},
     "output_type": "execute_result"
    }
   ],
   "source": [
    "df_labeled[[\"CNT_CHILDREN\",\"CNT_FAM_MEMBERS\"]].corr()"
   ]
  },
  {
   "cell_type": "raw",
   "id": "fc2c093d-ba16-4268-99fe-db5a34846efc",
   "metadata": {},
   "source": [
    "The plot of number of family member and number of children and correlation table confirm the correlation. As the number of family member cover the number of children, we chose to drop the number of children feature."
   ]
  },
  {
   "cell_type": "code",
   "execution_count": 197,
   "id": "4d35c348-0e55-4fc4-83c9-905c677bb91b",
   "metadata": {},
   "outputs": [],
   "source": [
    "df_labeled = df_labeled.drop(\"CNT_CHILDREN\",axis=1)"
   ]
  },
  {
   "cell_type": "code",
   "execution_count": 198,
   "id": "a6abf671-89a6-44bc-afce-b09ff4c1d6bc",
   "metadata": {},
   "outputs": [
    {
     "data": {
      "text/plain": [
       "2    54.622254\n",
       "1    19.092445\n",
       "3    16.727009\n",
       "4     8.254888\n",
       "5     1.134444\n",
       "6     0.120685\n",
       "9     0.024137\n",
       "7     0.024137\n",
       "Name: CNT_FAM_MEMBERS, dtype: float64"
      ]
     },
     "execution_count": 198,
     "metadata": {},
     "output_type": "execute_result"
    }
   ],
   "source": [
    "df_labeled[\"CNT_FAM_MEMBERS\"].value_counts(normalize=True)*100"
   ]
  },
  {
   "cell_type": "code",
   "execution_count": 199,
   "id": "8f28be95-a821-4593-a459-02d89c6ade1e",
   "metadata": {},
   "outputs": [
    {
     "name": "stdout",
     "output_type": "stream",
     "text": [
      "Information value (IV): inf\n"
     ]
    },
    {
     "data": {
      "text/html": [
       "<div>\n",
       "<style scoped>\n",
       "    .dataframe tbody tr th:only-of-type {\n",
       "        vertical-align: middle;\n",
       "    }\n",
       "\n",
       "    .dataframe tbody tr th {\n",
       "        vertical-align: top;\n",
       "    }\n",
       "\n",
       "    .dataframe thead th {\n",
       "        text-align: right;\n",
       "    }\n",
       "</style>\n",
       "<table border=\"1\" class=\"dataframe\">\n",
       "  <thead>\n",
       "    <tr style=\"text-align: right;\">\n",
       "      <th></th>\n",
       "      <th>Dist_bad</th>\n",
       "      <th>Dist_good</th>\n",
       "      <th>WOE</th>\n",
       "    </tr>\n",
       "    <tr>\n",
       "      <th>CNT_FAM_MEMBERS</th>\n",
       "      <th></th>\n",
       "      <th></th>\n",
       "      <th></th>\n",
       "    </tr>\n",
       "  </thead>\n",
       "  <tbody>\n",
       "    <tr>\n",
       "      <th>5</th>\n",
       "      <td>0.022472</td>\n",
       "      <td>0.011100</td>\n",
       "      <td>-0.705308</td>\n",
       "    </tr>\n",
       "    <tr>\n",
       "      <th>1</th>\n",
       "      <td>0.269663</td>\n",
       "      <td>0.189196</td>\n",
       "      <td>-0.354390</td>\n",
       "    </tr>\n",
       "    <tr>\n",
       "      <th>3</th>\n",
       "      <td>0.168539</td>\n",
       "      <td>0.167242</td>\n",
       "      <td>-0.007726</td>\n",
       "    </tr>\n",
       "    <tr>\n",
       "      <th>2</th>\n",
       "      <td>0.494382</td>\n",
       "      <td>0.547361</td>\n",
       "      <td>0.101799</td>\n",
       "    </tr>\n",
       "    <tr>\n",
       "      <th>4</th>\n",
       "      <td>0.044944</td>\n",
       "      <td>0.083374</td>\n",
       "      <td>0.617929</td>\n",
       "    </tr>\n",
       "    <tr>\n",
       "      <th>6</th>\n",
       "      <td>0.000000</td>\n",
       "      <td>0.001233</td>\n",
       "      <td>inf</td>\n",
       "    </tr>\n",
       "    <tr>\n",
       "      <th>7</th>\n",
       "      <td>0.000000</td>\n",
       "      <td>0.000247</td>\n",
       "      <td>inf</td>\n",
       "    </tr>\n",
       "    <tr>\n",
       "      <th>9</th>\n",
       "      <td>0.000000</td>\n",
       "      <td>0.000247</td>\n",
       "      <td>inf</td>\n",
       "    </tr>\n",
       "  </tbody>\n",
       "</table>\n",
       "</div>"
      ],
      "text/plain": [
       "                 Dist_bad  Dist_good       WOE\n",
       "CNT_FAM_MEMBERS                               \n",
       "5                0.022472   0.011100 -0.705308\n",
       "1                0.269663   0.189196 -0.354390\n",
       "3                0.168539   0.167242 -0.007726\n",
       "2                0.494382   0.547361  0.101799\n",
       "4                0.044944   0.083374  0.617929\n",
       "6                0.000000   0.001233       inf\n",
       "7                0.000000   0.000247       inf\n",
       "9                0.000000   0.000247       inf"
      ]
     },
     "execution_count": 199,
     "metadata": {},
     "output_type": "execute_result"
    }
   ],
   "source": [
    "[WOE, IV] = WOE_cal(df_labeled,\"CNT_FAM_MEMBERS\")\n",
    "print(\"Information value (IV):\", IV)\n",
    "WOE.sort_values(\"WOE\")"
   ]
  },
  {
   "cell_type": "raw",
   "id": "88eb86a7-7abb-48a5-8afc-746ed8f11d58",
   "metadata": {},
   "source": [
    "As the logit and CNT_FAM_MEMBERS is not linear (We tested it, but not showing here). We categorize this into categorical data instead. We grouped customer who has 5 or more family together. For 1-4 family member, we group them separately according to the amount of family member."
   ]
  },
  {
   "cell_type": "code",
   "execution_count": 200,
   "id": "b9a10d60-9398-4ad0-a07e-314725ca8dad",
   "metadata": {},
   "outputs": [],
   "source": [
    "def gen_bin_fam(df):\n",
    "    # return group assigned for bin size = binSize\n",
    "    # assign data > binOver to the last group\n",
    "    binSize = 1\n",
    "    binOver = 5\n",
    "    if df < binOver:\n",
    "        return str(math.ceil(df/binSize))\n",
    "    else:\n",
    "        return str(math.ceil(binOver/binSize))"
   ]
  },
  {
   "cell_type": "code",
   "execution_count": 201,
   "id": "8f2a0d31-efb1-4db1-a3ee-bb0b7038f724",
   "metadata": {},
   "outputs": [],
   "source": [
    "df_labeled[\"FAM_GROUP\"] = df_labeled[\"CNT_FAM_MEMBERS\"].apply(gen_bin_fam)\n",
    "df_labeled[\"FAM_GROUP\"] = df_labeled[\"FAM_GROUP\"].astype('object')"
   ]
  },
  {
   "cell_type": "code",
   "execution_count": 202,
   "id": "44e44f0e-519e-4ce4-a9d3-be8f5020cd13",
   "metadata": {},
   "outputs": [],
   "source": [
    "df_labeled= df_labeled.drop(\"CNT_FAM_MEMBERS\",axis=1)"
   ]
  },
  {
   "cell_type": "code",
   "execution_count": 203,
   "id": "808845a7-927d-4ebb-8dfb-01367f834316",
   "metadata": {},
   "outputs": [
    {
     "data": {
      "text/plain": [
       "Text(0.5, 1.0, 'Percentage of Bad Customer in each group')"
      ]
     },
     "execution_count": 203,
     "metadata": {},
     "output_type": "execute_result"
    },
    {
     "data": {
      "image/png": "[encoded data removed]",
      "text/plain": [
       "<Figure size 1000x400 with 2 Axes>"
      ]
     },
     "metadata": {},
     "output_type": "display_data"
    }
   ],
   "source": [
    "fig, ax = plt.subplots(1, 2, figsize = (10,4))\n",
    "RowPlot = \"FAM_GROUP\"\n",
    "sns.countplot(data=df_labeled, x=RowPlot,ax=ax[0],order=['1','2','3','4','5'],color='tab:blue')\n",
    "ax[0].set_title(\"Amount of customer in each group\")\n",
    "\n",
    "df_fam_percent_bad = df_labeled[[RowPlot,\"B_Customer\"]].groupby(RowPlot,as_index=False).mean()\n",
    "df_fam_percent_bad[\"B_Customer\"] = df_fam_percent_bad[\"B_Customer\"]*100\n",
    "sns.barplot(data=df_fam_percent_bad, x=RowPlot, y=\"B_Customer\", ax=ax[1],color='tab:green')\n",
    "plt.ylabel(\"Percentage of Bad Customer\")\n",
    "ax[1].set_title(\"Percentage of Bad Customer in each group\")"
   ]
  },
  {
   "cell_type": "code",
   "execution_count": 204,
   "id": "0ffcd585-342a-450b-8b68-359221e1ab00",
   "metadata": {},
   "outputs": [
    {
     "name": "stdout",
     "output_type": "stream",
     "text": [
      "Information value (IV): 0.06307555859223359\n"
     ]
    },
    {
     "data": {
      "text/html": [
       "<div>\n",
       "<style scoped>\n",
       "    .dataframe tbody tr th:only-of-type {\n",
       "        vertical-align: middle;\n",
       "    }\n",
       "\n",
       "    .dataframe tbody tr th {\n",
       "        vertical-align: top;\n",
       "    }\n",
       "\n",
       "    .dataframe thead th {\n",
       "        text-align: right;\n",
       "    }\n",
       "</style>\n",
       "<table border=\"1\" class=\"dataframe\">\n",
       "  <thead>\n",
       "    <tr style=\"text-align: right;\">\n",
       "      <th></th>\n",
       "      <th>Dist_bad</th>\n",
       "      <th>Dist_good</th>\n",
       "      <th>WOE</th>\n",
       "    </tr>\n",
       "    <tr>\n",
       "      <th>FAM_GROUP</th>\n",
       "      <th></th>\n",
       "      <th></th>\n",
       "      <th></th>\n",
       "    </tr>\n",
       "  </thead>\n",
       "  <tbody>\n",
       "    <tr>\n",
       "      <th>5</th>\n",
       "      <td>0.022472</td>\n",
       "      <td>0.012827</td>\n",
       "      <td>-0.560726</td>\n",
       "    </tr>\n",
       "    <tr>\n",
       "      <th>1</th>\n",
       "      <td>0.269663</td>\n",
       "      <td>0.189196</td>\n",
       "      <td>-0.354390</td>\n",
       "    </tr>\n",
       "    <tr>\n",
       "      <th>3</th>\n",
       "      <td>0.168539</td>\n",
       "      <td>0.167242</td>\n",
       "      <td>-0.007726</td>\n",
       "    </tr>\n",
       "    <tr>\n",
       "      <th>2</th>\n",
       "      <td>0.494382</td>\n",
       "      <td>0.547361</td>\n",
       "      <td>0.101799</td>\n",
       "    </tr>\n",
       "    <tr>\n",
       "      <th>4</th>\n",
       "      <td>0.044944</td>\n",
       "      <td>0.083374</td>\n",
       "      <td>0.617929</td>\n",
       "    </tr>\n",
       "  </tbody>\n",
       "</table>\n",
       "</div>"
      ],
      "text/plain": [
       "           Dist_bad  Dist_good       WOE\n",
       "FAM_GROUP                               \n",
       "5          0.022472   0.012827 -0.560726\n",
       "1          0.269663   0.189196 -0.354390\n",
       "3          0.168539   0.167242 -0.007726\n",
       "2          0.494382   0.547361  0.101799\n",
       "4          0.044944   0.083374  0.617929"
      ]
     },
     "execution_count": 204,
     "metadata": {},
     "output_type": "execute_result"
    }
   ],
   "source": [
    "[WOE, IV] = WOE_cal(df_labeled,\"FAM_GROUP\")\n",
    "print(\"Information value (IV):\", IV)\n",
    "WOE.sort_values(\"WOE\")"
   ]
  },
  {
   "cell_type": "markdown",
   "id": "2e467846-f73a-48b4-a917-347b4104df1b",
   "metadata": {},
   "source": [
    "### AGE"
   ]
  },
  {
   "cell_type": "code",
   "execution_count": 205,
   "id": "0c4ddb1a-22ad-4845-a59c-424f88649e45",
   "metadata": {},
   "outputs": [
    {
     "data": {
      "text/plain": [
       "<AxesSubplot:xlabel='AGE', ylabel='Count'>"
      ]
     },
     "execution_count": 205,
     "metadata": {},
     "output_type": "execute_result"
    },
    {
     "data": {
      "image/png": "[encoded data removed]",
      "text/plain": [
       "<Figure size 640x480 with 1 Axes>"
      ]
     },
     "metadata": {},
     "output_type": "display_data"
    }
   ],
   "source": [
    "sns.histplot(data=df_labeled, x=\"AGE\",bins=15,color='tab:orange')"
   ]
  },
  {
   "cell_type": "raw",
   "id": "df7676eb-23f7-4cb8-9f55-90ec70069994",
   "metadata": {},
   "source": [
    "As the logit and AGE is not linear (We tested it, but not showing here). We categorize this into categorical data instead. We grouped customer younger than 25 years old together, and older than 65 years old together. For the customer whose age between 25 and 65 we group them with 5 year-old bin spacing."
   ]
  },
  {
   "cell_type": "code",
   "execution_count": 206,
   "id": "9ad653d4-346a-483a-abd8-7c892395636c",
   "metadata": {},
   "outputs": [],
   "source": [
    "def gen_bin_age(df):\n",
    "    # return group assigned for bin size = binSize\n",
    "    # assign data > binOver to the last group \n",
    "    binSize = 5\n",
    "    binOver = 65\n",
    "    binMin = 25\n",
    "    if df <= binMin:\n",
    "        return str(1)\n",
    "    elif df <= binOver:\n",
    "        return str(math.ceil((df-binMin)/binSize))\n",
    "    else:\n",
    "        return str(math.ceil((binOver-binMin)/binSize))"
   ]
  },
  {
   "cell_type": "code",
   "execution_count": 207,
   "id": "8b4905a3-d509-4d17-9425-0f74b9b87c9a",
   "metadata": {},
   "outputs": [],
   "source": [
    "df_labeled[\"AGE_GROUP\"] = df_labeled[\"AGE\"].apply(gen_bin_age)\n",
    "df_labeled[\"AGE_GROUP\"] = df_labeled[\"AGE_GROUP\"].astype('object')"
   ]
  },
  {
   "cell_type": "code",
   "execution_count": 208,
   "id": "31d6aba8-c0bd-4a16-bc42-82482918895b",
   "metadata": {},
   "outputs": [],
   "source": [
    "df_labeled= df_labeled.drop(\"AGE\",axis=1)"
   ]
  },
  {
   "cell_type": "code",
   "execution_count": 209,
   "id": "59a06c8f-c221-4079-b48e-003c66a36f7b",
   "metadata": {},
   "outputs": [
    {
     "data": {
      "text/plain": [
       "Text(0.5, 1.0, 'Percentage of Bad Customer in each group')"
      ]
     },
     "execution_count": 209,
     "metadata": {},
     "output_type": "execute_result"
    },
    {
     "data": {
      "image/png": "[encoded data removed]",
      "text/plain": [
       "<Figure size 1000x400 with 2 Axes>"
      ]
     },
     "metadata": {},
     "output_type": "display_data"
    }
   ],
   "source": [
    "fig, ax = plt.subplots(1, 2, figsize = (10,4))\n",
    "RowPlot = \"AGE_GROUP\"\n",
    "sns.countplot(data=df_labeled, x=RowPlot,ax=ax[0],order=map(str,range(1,9)),color='tab:green')\n",
    "ax[0].set_title(\"Amount of customer in each group\")\n",
    "\n",
    "df_fam_percent_bad = df_labeled[[RowPlot,\"B_Customer\"]].groupby(RowPlot,as_index=False).mean()\n",
    "df_fam_percent_bad[\"B_Customer\"] = df_fam_percent_bad[\"B_Customer\"]*100\n",
    "sns.barplot(data=df_fam_percent_bad, x=RowPlot, y=\"B_Customer\", ax=ax[1],order=map(str,range(1,9)),color='tab:blue')\n",
    "plt.ylabel(\"Percentage of Bad Customer\")\n",
    "ax[1].set_title(\"Percentage of Bad Customer in each group\")"
   ]
  },
  {
   "cell_type": "raw",
   "id": "c543d6c8-f65a-4005-a03b-09dc057f1534",
   "metadata": {},
   "source": [
    "From the graph, customer age between 50-55 (group 6) has high percentage of bad customer."
   ]
  },
  {
   "cell_type": "code",
   "execution_count": 210,
   "id": "74bd6f45-55af-4cb0-a6e5-d0030b794521",
   "metadata": {},
   "outputs": [
    {
     "name": "stdout",
     "output_type": "stream",
     "text": [
      "Information value (IV): 0.11762678798419732\n"
     ]
    },
    {
     "data": {
      "text/html": [
       "<div>\n",
       "<style scoped>\n",
       "    .dataframe tbody tr th:only-of-type {\n",
       "        vertical-align: middle;\n",
       "    }\n",
       "\n",
       "    .dataframe tbody tr th {\n",
       "        vertical-align: top;\n",
       "    }\n",
       "\n",
       "    .dataframe thead th {\n",
       "        text-align: right;\n",
       "    }\n",
       "</style>\n",
       "<table border=\"1\" class=\"dataframe\">\n",
       "  <thead>\n",
       "    <tr style=\"text-align: right;\">\n",
       "      <th></th>\n",
       "      <th>Dist_bad</th>\n",
       "      <th>Dist_good</th>\n",
       "      <th>WOE</th>\n",
       "    </tr>\n",
       "    <tr>\n",
       "      <th>AGE_GROUP</th>\n",
       "      <th></th>\n",
       "      <th></th>\n",
       "      <th></th>\n",
       "    </tr>\n",
       "  </thead>\n",
       "  <tbody>\n",
       "    <tr>\n",
       "      <th>1</th>\n",
       "      <td>0.134831</td>\n",
       "      <td>0.141589</td>\n",
       "      <td>0.048900</td>\n",
       "    </tr>\n",
       "    <tr>\n",
       "      <th>2</th>\n",
       "      <td>0.089888</td>\n",
       "      <td>0.136655</td>\n",
       "      <td>0.418900</td>\n",
       "    </tr>\n",
       "    <tr>\n",
       "      <th>3</th>\n",
       "      <td>0.089888</td>\n",
       "      <td>0.143562</td>\n",
       "      <td>0.468206</td>\n",
       "    </tr>\n",
       "    <tr>\n",
       "      <th>4</th>\n",
       "      <td>0.146067</td>\n",
       "      <td>0.125062</td>\n",
       "      <td>-0.155261</td>\n",
       "    </tr>\n",
       "    <tr>\n",
       "      <th>5</th>\n",
       "      <td>0.134831</td>\n",
       "      <td>0.114455</td>\n",
       "      <td>-0.163845</td>\n",
       "    </tr>\n",
       "    <tr>\n",
       "      <th>6</th>\n",
       "      <td>0.213483</td>\n",
       "      <td>0.115195</td>\n",
       "      <td>-0.616933</td>\n",
       "    </tr>\n",
       "    <tr>\n",
       "      <th>7</th>\n",
       "      <td>0.101124</td>\n",
       "      <td>0.122102</td>\n",
       "      <td>0.188510</td>\n",
       "    </tr>\n",
       "    <tr>\n",
       "      <th>8</th>\n",
       "      <td>0.089888</td>\n",
       "      <td>0.101381</td>\n",
       "      <td>0.120329</td>\n",
       "    </tr>\n",
       "  </tbody>\n",
       "</table>\n",
       "</div>"
      ],
      "text/plain": [
       "           Dist_bad  Dist_good       WOE\n",
       "AGE_GROUP                               \n",
       "1          0.134831   0.141589  0.048900\n",
       "2          0.089888   0.136655  0.418900\n",
       "3          0.089888   0.143562  0.468206\n",
       "4          0.146067   0.125062 -0.155261\n",
       "5          0.134831   0.114455 -0.163845\n",
       "6          0.213483   0.115195 -0.616933\n",
       "7          0.101124   0.122102  0.188510\n",
       "8          0.089888   0.101381  0.120329"
      ]
     },
     "execution_count": 210,
     "metadata": {},
     "output_type": "execute_result"
    }
   ],
   "source": [
    "[WOE, IV] = WOE_cal(df_labeled,\"AGE_GROUP\")\n",
    "print(\"Information value (IV):\", IV)\n",
    "WOE"
   ]
  },
  {
   "cell_type": "markdown",
   "id": "9dee6d3e-eae0-4236-82f6-7dba604a697b",
   "metadata": {},
   "source": [
    "#### AMT_INCOME_TOTAL"
   ]
  },
  {
   "cell_type": "code",
   "execution_count": 211,
   "id": "41b16615-f277-4c49-9350-fe66b8465bad",
   "metadata": {},
   "outputs": [
    {
     "data": {
      "text/plain": [
       "<AxesSubplot:xlabel='AMT_INCOME_TOTAL', ylabel='Count'>"
      ]
     },
     "execution_count": 211,
     "metadata": {},
     "output_type": "execute_result"
    },
    {
     "data": {
      "image/png": "[encoded data removed]",
      "text/plain": [
       "<Figure size 640x480 with 1 Axes>"
      ]
     },
     "metadata": {},
     "output_type": "display_data"
    }
   ],
   "source": [
    "sns.histplot(data=df_labeled, x=\"AMT_INCOME_TOTAL\",bins=20,color='tab:green' )"
   ]
  },
  {
   "cell_type": "raw",
   "id": "3cb5628f-d9a9-48cf-99a3-c3baf8040137",
   "metadata": {},
   "source": [
    "As the logit and AMT_INCOME_TOTAL is not linear (We tested it, but not showing here). We categorize this into categorical data instead. We grouped customer having income less than 80000 together, and greater than 320000 together. For the customer haveing income between 40000 and 320000 we group them with 40000 d bin spacing."
   ]
  },
  {
   "cell_type": "code",
   "execution_count": 212,
   "id": "ebec8daa-484f-41ef-9933-d4c2ffc28659",
   "metadata": {},
   "outputs": [],
   "source": [
    "def gen_bin_income(df):\n",
    "    # return group assigned for bin size = binSize\n",
    "    # assign data > binOver to the last group\n",
    "    binSize =40000\n",
    "    binOver = 320000\n",
    "    binMin = 80000\n",
    "    if df <= binMin:\n",
    "        return str(1)\n",
    "    elif df <= binOver:\n",
    "        return str(math.ceil((df-binMin)/binSize))\n",
    "    else:\n",
    "        return str(math.ceil((binOver-binMin)/binSize))"
   ]
  },
  {
   "cell_type": "code",
   "execution_count": 213,
   "id": "7d6e44c1-8e56-463c-8c58-899cb3f3f81f",
   "metadata": {},
   "outputs": [],
   "source": [
    "df_labeled[\"AMT_INCOME_TOTAL_GROUP\"] = df_labeled[\"AMT_INCOME_TOTAL\"].apply(gen_bin_income)\n",
    "df_labeled[\"AMT_INCOME_TOTAL_GROUP\"] = df_labeled[\"AMT_INCOME_TOTAL_GROUP\"].astype('object')\n",
    "df_labeled= df_labeled.drop(\"AMT_INCOME_TOTAL\",axis=1)"
   ]
  },
  {
   "cell_type": "code",
   "execution_count": 214,
   "id": "87d9f93f-5724-428f-9d55-da39c9d83951",
   "metadata": {},
   "outputs": [
    {
     "data": {
      "text/plain": [
       "Text(0.5, 1.0, 'Percentage of Bad Customer in each group')"
      ]
     },
     "execution_count": 214,
     "metadata": {},
     "output_type": "execute_result"
    },
    {
     "data": {
      "image/png": "[encoded data removed]",
      "text/plain": [
       "<Figure size 1000x400 with 2 Axes>"
      ]
     },
     "metadata": {},
     "output_type": "display_data"
    }
   ],
   "source": [
    "fig, ax = plt.subplots(1, 2, figsize = (10,4))\n",
    "RowPlot = \"AMT_INCOME_TOTAL_GROUP\"\n",
    "sns.countplot(data=df_labeled, x=RowPlot,ax=ax[0],order=['1','2','3','4','5','6'], color='tab:blue')\n",
    "ax[0].set_title(\"Amount of customer in each group\")\n",
    "\n",
    "df_fam_percent_bad = df_labeled[[RowPlot,\"B_Customer\"]].groupby(RowPlot,as_index=False).mean()\n",
    "df_fam_percent_bad[\"B_Customer\"] = df_fam_percent_bad[\"B_Customer\"]*100\n",
    "sns.barplot(data=df_fam_percent_bad, x=RowPlot, y=\"B_Customer\", ax=ax[1], color='tab:green')\n",
    "plt.ylabel(\"Percentage of Bad Customer\")\n",
    "ax[1].set_title(\"Percentage of Bad Customer in each group\")"
   ]
  },
  {
   "cell_type": "code",
   "execution_count": 215,
   "id": "823843e8-7190-4e14-bbc7-3aa28ecab2b5",
   "metadata": {},
   "outputs": [
    {
     "name": "stdout",
     "output_type": "stream",
     "text": [
      "Information value (IV): 0.10537685224854373\n"
     ]
    },
    {
     "data": {
      "text/html": [
       "<div>\n",
       "<style scoped>\n",
       "    .dataframe tbody tr th:only-of-type {\n",
       "        vertical-align: middle;\n",
       "    }\n",
       "\n",
       "    .dataframe tbody tr th {\n",
       "        vertical-align: top;\n",
       "    }\n",
       "\n",
       "    .dataframe thead th {\n",
       "        text-align: right;\n",
       "    }\n",
       "</style>\n",
       "<table border=\"1\" class=\"dataframe\">\n",
       "  <thead>\n",
       "    <tr style=\"text-align: right;\">\n",
       "      <th></th>\n",
       "      <th>Dist_bad</th>\n",
       "      <th>Dist_good</th>\n",
       "      <th>WOE</th>\n",
       "    </tr>\n",
       "    <tr>\n",
       "      <th>AMT_INCOME_TOTAL_GROUP</th>\n",
       "      <th></th>\n",
       "      <th></th>\n",
       "      <th></th>\n",
       "    </tr>\n",
       "  </thead>\n",
       "  <tbody>\n",
       "    <tr>\n",
       "      <th>1</th>\n",
       "      <td>0.235955</td>\n",
       "      <td>0.265910</td>\n",
       "      <td>0.119517</td>\n",
       "    </tr>\n",
       "    <tr>\n",
       "      <th>2</th>\n",
       "      <td>0.235955</td>\n",
       "      <td>0.255303</td>\n",
       "      <td>0.078811</td>\n",
       "    </tr>\n",
       "    <tr>\n",
       "      <th>3</th>\n",
       "      <td>0.112360</td>\n",
       "      <td>0.127035</td>\n",
       "      <td>0.122759</td>\n",
       "    </tr>\n",
       "    <tr>\n",
       "      <th>4</th>\n",
       "      <td>0.191011</td>\n",
       "      <td>0.155895</td>\n",
       "      <td>-0.203147</td>\n",
       "    </tr>\n",
       "    <tr>\n",
       "      <th>5</th>\n",
       "      <td>0.033708</td>\n",
       "      <td>0.085101</td>\n",
       "      <td>0.926109</td>\n",
       "    </tr>\n",
       "    <tr>\n",
       "      <th>6</th>\n",
       "      <td>0.191011</td>\n",
       "      <td>0.110755</td>\n",
       "      <td>-0.545013</td>\n",
       "    </tr>\n",
       "  </tbody>\n",
       "</table>\n",
       "</div>"
      ],
      "text/plain": [
       "                        Dist_bad  Dist_good       WOE\n",
       "AMT_INCOME_TOTAL_GROUP                               \n",
       "1                       0.235955   0.265910  0.119517\n",
       "2                       0.235955   0.255303  0.078811\n",
       "3                       0.112360   0.127035  0.122759\n",
       "4                       0.191011   0.155895 -0.203147\n",
       "5                       0.033708   0.085101  0.926109\n",
       "6                       0.191011   0.110755 -0.545013"
      ]
     },
     "execution_count": 215,
     "metadata": {},
     "output_type": "execute_result"
    }
   ],
   "source": [
    "[WOE, IV] = WOE_cal(df_labeled,\"AMT_INCOME_TOTAL_GROUP\")\n",
    "print(\"Information value (IV):\", IV)\n",
    "WOE"
   ]
  },
  {
   "cell_type": "markdown",
   "id": "65cc4aaf-3cda-4ea8-88de-380c7dc3f3e6",
   "metadata": {},
   "source": [
    "#### YEAR_EMPLOYED"
   ]
  },
  {
   "cell_type": "raw",
   "id": "147a48c7-19d3-4280-ac13-ebd6d819068c",
   "metadata": {},
   "source": [
    "For year employed, we could not continue with continuous data as year employed for pensioner is undefined. Hence we group year employed to be a categorical data."
   ]
  },
  {
   "cell_type": "code",
   "execution_count": 216,
   "id": "9bd955b3-7627-4e3b-af0b-e56fe4e477ac",
   "metadata": {},
   "outputs": [
    {
     "data": {
      "text/plain": [
       "<AxesSubplot:xlabel='count', ylabel='YEAR_EMPLOYED'>"
      ]
     },
     "execution_count": 216,
     "metadata": {},
     "output_type": "execute_result"
    },
    {
     "data": {
      "image/png": "[encoded data removed]",
      "text/plain": [
       "<Figure size 1200x1200 with 1 Axes>"
      ]
     },
     "metadata": {},
     "output_type": "display_data"
    }
   ],
   "source": [
    "# Show distribution of the data\n",
    "fig, ax = plt.subplots(figsize=(12, 12))\n",
    "sns.countplot(data=df_labeled,y=\"YEAR_EMPLOYED\",palette=\"crest\")"
   ]
  },
  {
   "cell_type": "code",
   "execution_count": 217,
   "id": "3ceb839f-9f8a-4480-8685-3d7f3e22542b",
   "metadata": {},
   "outputs": [
    {
     "data": {
      "text/plain": [
       "<AxesSubplot:xlabel='B_Customer', ylabel='YEAR_EMPLOYED'>"
      ]
     },
     "execution_count": 217,
     "metadata": {},
     "output_type": "execute_result"
    },
    {
     "data": {
      "image/png": "[encoded data removed]",
      "text/plain": [
       "<Figure size 1200x1200 with 1 Axes>"
      ]
     },
     "metadata": {},
     "output_type": "display_data"
    }
   ],
   "source": [
    "# Percentage of bad customer for each year employed`\n",
    "fig, ax = plt.subplots(figsize=(12, 12))\n",
    "df_year_percent_bad = df_labeled[[\"YEAR_EMPLOYED\",\"B_Customer\"]].groupby(\"YEAR_EMPLOYED\",as_index=False).mean()\n",
    "df_year_percent_bad[\"B_Customer\"] = df_year_percent_bad[\"B_Customer\"]*100\n",
    "sns.barplot(data=df_year_percent_bad, y=\"YEAR_EMPLOYED\", x=\"B_Customer\",orient='h',palette=\"crest\")"
   ]
  },
  {
   "cell_type": "raw",
   "id": "f082ae0a-d27c-4291-9cb5-489c8df605de",
   "metadata": {},
   "source": [
    "We categorize this into categorical data instead. For pensioner we separatly grouped them together. We grouped customer have been working greater than 16 years together. For the customers have been working between 2 and 16 we group them with 2 year bin spacing."
   ]
  },
  {
   "cell_type": "code",
   "execution_count": 218,
   "id": "5477c7d7-839a-42f1-ac23-5f1a52124503",
   "metadata": {},
   "outputs": [],
   "source": [
    "def gen_bin_year(df):\n",
    "    # return group assigned for bin size = binSize\n",
    "    # assign data > binOver to the last group\n",
    "    binSize = 2\n",
    "    binOver = 16\n",
    "    if df == -1000:\n",
    "        return str(1)\n",
    "    elif df <= binOver:\n",
    "        return str(math.ceil(df/binSize) + 1)\n",
    "    else:\n",
    "        return str(math.ceil(binOver/binSize) + 1)"
   ]
  },
  {
   "cell_type": "code",
   "execution_count": 219,
   "id": "81701e6c-594f-4e64-9063-527a79a3c927",
   "metadata": {},
   "outputs": [],
   "source": [
    "df_labeled[\"YEAR_EMPLOYED_GROUP\"] = df_labeled[\"YEAR_EMPLOYED\"].apply(gen_bin_year)"
   ]
  },
  {
   "cell_type": "code",
   "execution_count": 220,
   "id": "57b6c8de-c985-41f5-946c-e709b756ab41",
   "metadata": {},
   "outputs": [
    {
     "data": {
      "text/plain": [
       "Text(0.5, 1.0, 'Percentage of Bad Customer in each group')"
      ]
     },
     "execution_count": 220,
     "metadata": {},
     "output_type": "execute_result"
    },
    {
     "data": {
      "image/png": "[encoded data removed]",
      "text/plain": [
       "<Figure size 1000x400 with 2 Axes>"
      ]
     },
     "metadata": {},
     "output_type": "display_data"
    }
   ],
   "source": [
    "fig, ax = plt.subplots(1, 2, figsize = (10,4))\n",
    "RowPlot = \"YEAR_EMPLOYED_GROUP\"\n",
    "sns.countplot(data=df_labeled, x=RowPlot,ax=ax[0],order=map(str,range(1,10)), color='tab:blue')\n",
    "ax[0].set_title(\"Amount of customer in each group\")\n",
    "\n",
    "df_fam_percent_bad = df_labeled[[RowPlot,\"B_Customer\"]].groupby(RowPlot,as_index=False).mean()\n",
    "df_fam_percent_bad[\"B_Customer\"] = df_fam_percent_bad[\"B_Customer\"]*100\n",
    "sns.barplot(data=df_fam_percent_bad, x=RowPlot, y=\"B_Customer\", ax=ax[1], color='tab:green')\n",
    "plt.ylabel(\"Percentage of Bad Customer\")\n",
    "ax[1].set_title(\"Percentage of Bad Customer in each group\")"
   ]
  },
  {
   "cell_type": "raw",
   "id": "29814171-00e5-4f4f-b179-cf11a2a1ab63",
   "metadata": {},
   "source": [
    "It is clear that customer who have been working between 3-5 years (group 2 and 3) have the highest percentage of bad customers."
   ]
  },
  {
   "cell_type": "code",
   "execution_count": 221,
   "id": "6b671d2b-fb6c-4be1-b380-3fafb2601068",
   "metadata": {},
   "outputs": [
    {
     "name": "stdout",
     "output_type": "stream",
     "text": [
      "Information value (IV): 0.18326788992276247\n"
     ]
    },
    {
     "data": {
      "text/html": [
       "<div>\n",
       "<style scoped>\n",
       "    .dataframe tbody tr th:only-of-type {\n",
       "        vertical-align: middle;\n",
       "    }\n",
       "\n",
       "    .dataframe tbody tr th {\n",
       "        vertical-align: top;\n",
       "    }\n",
       "\n",
       "    .dataframe thead th {\n",
       "        text-align: right;\n",
       "    }\n",
       "</style>\n",
       "<table border=\"1\" class=\"dataframe\">\n",
       "  <thead>\n",
       "    <tr style=\"text-align: right;\">\n",
       "      <th></th>\n",
       "      <th>Dist_bad</th>\n",
       "      <th>Dist_good</th>\n",
       "      <th>WOE</th>\n",
       "    </tr>\n",
       "    <tr>\n",
       "      <th>YEAR_EMPLOYED_GROUP</th>\n",
       "      <th></th>\n",
       "      <th></th>\n",
       "      <th></th>\n",
       "    </tr>\n",
       "  </thead>\n",
       "  <tbody>\n",
       "    <tr>\n",
       "      <th>1</th>\n",
       "      <td>0.179775</td>\n",
       "      <td>0.211889</td>\n",
       "      <td>0.164357</td>\n",
       "    </tr>\n",
       "    <tr>\n",
       "      <th>2</th>\n",
       "      <td>0.213483</td>\n",
       "      <td>0.144795</td>\n",
       "      <td>-0.388237</td>\n",
       "    </tr>\n",
       "    <tr>\n",
       "      <th>3</th>\n",
       "      <td>0.258427</td>\n",
       "      <td>0.148249</td>\n",
       "      <td>-0.555722</td>\n",
       "    </tr>\n",
       "    <tr>\n",
       "      <th>4</th>\n",
       "      <td>0.067416</td>\n",
       "      <td>0.130242</td>\n",
       "      <td>0.658514</td>\n",
       "    </tr>\n",
       "    <tr>\n",
       "      <th>5</th>\n",
       "      <td>0.078652</td>\n",
       "      <td>0.098668</td>\n",
       "      <td>0.226731</td>\n",
       "    </tr>\n",
       "    <tr>\n",
       "      <th>6</th>\n",
       "      <td>0.033708</td>\n",
       "      <td>0.081401</td>\n",
       "      <td>0.881657</td>\n",
       "    </tr>\n",
       "    <tr>\n",
       "      <th>7</th>\n",
       "      <td>0.044944</td>\n",
       "      <td>0.047854</td>\n",
       "      <td>0.062741</td>\n",
       "    </tr>\n",
       "    <tr>\n",
       "      <th>8</th>\n",
       "      <td>0.033708</td>\n",
       "      <td>0.033300</td>\n",
       "      <td>-0.012160</td>\n",
       "    </tr>\n",
       "    <tr>\n",
       "      <th>9</th>\n",
       "      <td>0.089888</td>\n",
       "      <td>0.103601</td>\n",
       "      <td>0.141990</td>\n",
       "    </tr>\n",
       "  </tbody>\n",
       "</table>\n",
       "</div>"
      ],
      "text/plain": [
       "                     Dist_bad  Dist_good       WOE\n",
       "YEAR_EMPLOYED_GROUP                               \n",
       "1                    0.179775   0.211889  0.164357\n",
       "2                    0.213483   0.144795 -0.388237\n",
       "3                    0.258427   0.148249 -0.555722\n",
       "4                    0.067416   0.130242  0.658514\n",
       "5                    0.078652   0.098668  0.226731\n",
       "6                    0.033708   0.081401  0.881657\n",
       "7                    0.044944   0.047854  0.062741\n",
       "8                    0.033708   0.033300 -0.012160\n",
       "9                    0.089888   0.103601  0.141990"
      ]
     },
     "execution_count": 221,
     "metadata": {},
     "output_type": "execute_result"
    }
   ],
   "source": [
    "[WOE, IV] = WOE_cal(df_labeled,\"YEAR_EMPLOYED_GROUP\")\n",
    "print(\"Information value (IV):\", IV)\n",
    "WOE"
   ]
  },
  {
   "cell_type": "code",
   "execution_count": 222,
   "id": "1797a444-97bf-4259-8932-aa8713c25eaa",
   "metadata": {},
   "outputs": [],
   "source": [
    "df_labeled= df_labeled.drop(\"YEAR_EMPLOYED\",axis=1)\n",
    "df_labeled[\"YEAR_EMPLOYED_GROUP\"] = df_labeled[\"YEAR_EMPLOYED_GROUP\"].astype('object')"
   ]
  },
  {
   "cell_type": "markdown",
   "id": "8cd48cbd-c7f2-47b1-8bff-7ca1d045eb9d",
   "metadata": {},
   "source": [
    "#### Modeling"
   ]
  },
  {
   "cell_type": "code",
   "execution_count": 223,
   "id": "14f2aa35-5d51-4435-8488-426994da9a02",
   "metadata": {},
   "outputs": [
    {
     "data": {
      "text/html": [
       "<div>\n",
       "<style scoped>\n",
       "    .dataframe tbody tr th:only-of-type {\n",
       "        vertical-align: middle;\n",
       "    }\n",
       "\n",
       "    .dataframe tbody tr th {\n",
       "        vertical-align: top;\n",
       "    }\n",
       "\n",
       "    .dataframe thead th {\n",
       "        text-align: right;\n",
       "    }\n",
       "</style>\n",
       "<table border=\"1\" class=\"dataframe\">\n",
       "  <thead>\n",
       "    <tr style=\"text-align: right;\">\n",
       "      <th></th>\n",
       "      <th>NAME_INCOME_TYPE</th>\n",
       "      <th>NAME_FAMILY_STATUS</th>\n",
       "      <th>OCCUPATION_TYPE</th>\n",
       "      <th>B_Customer</th>\n",
       "      <th>FAM_GROUP</th>\n",
       "      <th>AGE_GROUP</th>\n",
       "      <th>AMT_INCOME_TOTAL_GROUP</th>\n",
       "      <th>YEAR_EMPLOYED_GROUP</th>\n",
       "    </tr>\n",
       "  </thead>\n",
       "  <tbody>\n",
       "    <tr>\n",
       "      <th>0</th>\n",
       "      <td>Working</td>\n",
       "      <td>Civil marriage</td>\n",
       "      <td>G5</td>\n",
       "      <td>0</td>\n",
       "      <td>2</td>\n",
       "      <td>3</td>\n",
       "      <td>1</td>\n",
       "      <td>8</td>\n",
       "    </tr>\n",
       "    <tr>\n",
       "      <th>1</th>\n",
       "      <td>Pensioner</td>\n",
       "      <td>Married</td>\n",
       "      <td>G4</td>\n",
       "      <td>0</td>\n",
       "      <td>2</td>\n",
       "      <td>6</td>\n",
       "      <td>1</td>\n",
       "      <td>1</td>\n",
       "    </tr>\n",
       "    <tr>\n",
       "      <th>2</th>\n",
       "      <td>Working</td>\n",
       "      <td>Married</td>\n",
       "      <td>G5</td>\n",
       "      <td>0</td>\n",
       "      <td>2</td>\n",
       "      <td>3</td>\n",
       "      <td>1</td>\n",
       "      <td>2</td>\n",
       "    </tr>\n",
       "    <tr>\n",
       "      <th>3</th>\n",
       "      <td>Pensioner</td>\n",
       "      <td>Married</td>\n",
       "      <td>G4</td>\n",
       "      <td>0</td>\n",
       "      <td>2</td>\n",
       "      <td>8</td>\n",
       "      <td>1</td>\n",
       "      <td>1</td>\n",
       "    </tr>\n",
       "    <tr>\n",
       "      <th>4</th>\n",
       "      <td>Pensioner</td>\n",
       "      <td>Single / not married</td>\n",
       "      <td>G4</td>\n",
       "      <td>0</td>\n",
       "      <td>1</td>\n",
       "      <td>7</td>\n",
       "      <td>1</td>\n",
       "      <td>1</td>\n",
       "    </tr>\n",
       "  </tbody>\n",
       "</table>\n",
       "</div>"
      ],
      "text/plain": [
       "  NAME_INCOME_TYPE    NAME_FAMILY_STATUS OCCUPATION_TYPE  B_Customer  \\\n",
       "0          Working        Civil marriage              G5           0   \n",
       "1        Pensioner               Married              G4           0   \n",
       "2          Working               Married              G5           0   \n",
       "3        Pensioner               Married              G4           0   \n",
       "4        Pensioner  Single / not married              G4           0   \n",
       "\n",
       "  FAM_GROUP AGE_GROUP AMT_INCOME_TOTAL_GROUP YEAR_EMPLOYED_GROUP  \n",
       "0         2         3                      1                   8  \n",
       "1         2         6                      1                   1  \n",
       "2         2         3                      1                   2  \n",
       "3         2         8                      1                   1  \n",
       "4         1         7                      1                   1  "
      ]
     },
     "execution_count": 223,
     "metadata": {},
     "output_type": "execute_result"
    }
   ],
   "source": [
    "df_labeled.head()"
   ]
  },
  {
   "cell_type": "code",
   "execution_count": 224,
   "id": "aecd1151-decf-4f88-82f7-1fc0451dabb5",
   "metadata": {},
   "outputs": [
    {
     "data": {
      "text/plain": [
       "0    97.851798\n",
       "1     2.148202\n",
       "Name: B_Customer, dtype: float64"
      ]
     },
     "execution_count": 224,
     "metadata": {},
     "output_type": "execute_result"
    }
   ],
   "source": [
    "df_labeled[\"B_Customer\"].value_counts(normalize=True)*100"
   ]
  },
  {
   "cell_type": "markdown",
   "id": "364517db-ac65-48a0-99b3-48264aab400a",
   "metadata": {},
   "source": [
    "#### Split data into train and test set."
   ]
  },
  {
   "cell_type": "markdown",
   "id": "6736338c-8c62-4e89-811a-63a04d88f3b1",
   "metadata": {},
   "source": [
    "#### Handle imbalance data by using SMOTE."
   ]
  },
  {
   "cell_type": "markdown",
   "id": "848785b3-1c2e-4e10-a896-5cfe8c17c878",
   "metadata": {},
   "source": [
    "#### Encode data"
   ]
  },
  {
   "cell_type": "code",
   "execution_count": 225,
   "id": "c87a9393-0158-4393-bdf1-b1a2cdccc8da",
   "metadata": {},
   "outputs": [],
   "source": [
    "df_LogReg_one = df_labeled\n",
    "x_LogReg = df_LogReg_one.drop(\"B_Customer\",axis=1)\n",
    "y_LogReg = df_LogReg_one[\"B_Customer\"]\n",
    "x_LogReg_train, x_LogReg_test, y_LogReg_train, y_LogReg_test = train_test_split(x_LogReg, y_LogReg, test_size=0.25, stratify=y_LogReg, random_state=42)"
   ]
  },
  {
   "cell_type": "code",
   "execution_count": 226,
   "id": "6f158720-2754-49b3-b455-9fd05bbcd20f",
   "metadata": {},
   "outputs": [
    {
     "name": "stdout",
     "output_type": "stream",
     "text": [
      "<class 'pandas.core.frame.DataFrame'>\n",
      "Int64Index: 3107 entries, 2861 to 1167\n",
      "Data columns (total 7 columns):\n",
      " #   Column                  Non-Null Count  Dtype \n",
      "---  ------                  --------------  ----- \n",
      " 0   NAME_INCOME_TYPE        3107 non-null   object\n",
      " 1   NAME_FAMILY_STATUS      3107 non-null   object\n",
      " 2   OCCUPATION_TYPE         3107 non-null   object\n",
      " 3   FAM_GROUP               3107 non-null   object\n",
      " 4   AGE_GROUP               3107 non-null   object\n",
      " 5   AMT_INCOME_TOTAL_GROUP  3107 non-null   object\n",
      " 6   YEAR_EMPLOYED_GROUP     3107 non-null   object\n",
      "dtypes: object(7)\n",
      "memory usage: 194.2+ KB\n"
     ]
    }
   ],
   "source": [
    "x_LogReg_train.info()"
   ]
  },
  {
   "cell_type": "code",
   "execution_count": 227,
   "id": "5a25f96d-865a-45da-9c85-a245f78f06be",
   "metadata": {},
   "outputs": [],
   "source": [
    "x_train_balance,y_train_balance = SMOTEN(random_state=10).fit_resample(x_LogReg_train,y_LogReg_train)\n",
    "x_LogReg_train_encoded = pd.get_dummies(x_train_balance)\n",
    "x_LogReg_test_encoded = pd.get_dummies(x_LogReg_test)"
   ]
  },
  {
   "cell_type": "code",
   "execution_count": 228,
   "id": "670fa107-05e7-46b4-b815-48457959e3d4",
   "metadata": {
    "tags": []
   },
   "outputs": [
    {
     "data": {
      "text/html": [
       "<div>\n",
       "<style scoped>\n",
       "    .dataframe tbody tr th:only-of-type {\n",
       "        vertical-align: middle;\n",
       "    }\n",
       "\n",
       "    .dataframe tbody tr th {\n",
       "        vertical-align: top;\n",
       "    }\n",
       "\n",
       "    .dataframe thead th {\n",
       "        text-align: right;\n",
       "    }\n",
       "</style>\n",
       "<table border=\"1\" class=\"dataframe\">\n",
       "  <thead>\n",
       "    <tr style=\"text-align: right;\">\n",
       "      <th></th>\n",
       "      <th>NAME_INCOME_TYPE_Commercial associate</th>\n",
       "      <th>NAME_INCOME_TYPE_Pensioner</th>\n",
       "      <th>NAME_INCOME_TYPE_State servant</th>\n",
       "      <th>NAME_INCOME_TYPE_Working</th>\n",
       "      <th>NAME_FAMILY_STATUS_Civil marriage</th>\n",
       "      <th>NAME_FAMILY_STATUS_Married</th>\n",
       "      <th>NAME_FAMILY_STATUS_Separated/Widow</th>\n",
       "      <th>NAME_FAMILY_STATUS_Single / not married</th>\n",
       "      <th>OCCUPATION_TYPE_G1</th>\n",
       "      <th>OCCUPATION_TYPE_G2</th>\n",
       "      <th>...</th>\n",
       "      <th>AMT_INCOME_TOTAL_GROUP_6</th>\n",
       "      <th>YEAR_EMPLOYED_GROUP_1</th>\n",
       "      <th>YEAR_EMPLOYED_GROUP_2</th>\n",
       "      <th>YEAR_EMPLOYED_GROUP_3</th>\n",
       "      <th>YEAR_EMPLOYED_GROUP_4</th>\n",
       "      <th>YEAR_EMPLOYED_GROUP_5</th>\n",
       "      <th>YEAR_EMPLOYED_GROUP_6</th>\n",
       "      <th>YEAR_EMPLOYED_GROUP_7</th>\n",
       "      <th>YEAR_EMPLOYED_GROUP_8</th>\n",
       "      <th>YEAR_EMPLOYED_GROUP_9</th>\n",
       "    </tr>\n",
       "  </thead>\n",
       "  <tbody>\n",
       "    <tr>\n",
       "      <th>1771</th>\n",
       "      <td>0</td>\n",
       "      <td>0</td>\n",
       "      <td>0</td>\n",
       "      <td>1</td>\n",
       "      <td>0</td>\n",
       "      <td>1</td>\n",
       "      <td>0</td>\n",
       "      <td>0</td>\n",
       "      <td>0</td>\n",
       "      <td>0</td>\n",
       "      <td>...</td>\n",
       "      <td>0</td>\n",
       "      <td>0</td>\n",
       "      <td>0</td>\n",
       "      <td>0</td>\n",
       "      <td>0</td>\n",
       "      <td>1</td>\n",
       "      <td>0</td>\n",
       "      <td>0</td>\n",
       "      <td>0</td>\n",
       "      <td>0</td>\n",
       "    </tr>\n",
       "    <tr>\n",
       "      <th>566</th>\n",
       "      <td>1</td>\n",
       "      <td>0</td>\n",
       "      <td>0</td>\n",
       "      <td>0</td>\n",
       "      <td>0</td>\n",
       "      <td>1</td>\n",
       "      <td>0</td>\n",
       "      <td>0</td>\n",
       "      <td>0</td>\n",
       "      <td>0</td>\n",
       "      <td>...</td>\n",
       "      <td>0</td>\n",
       "      <td>0</td>\n",
       "      <td>0</td>\n",
       "      <td>1</td>\n",
       "      <td>0</td>\n",
       "      <td>0</td>\n",
       "      <td>0</td>\n",
       "      <td>0</td>\n",
       "      <td>0</td>\n",
       "      <td>0</td>\n",
       "    </tr>\n",
       "    <tr>\n",
       "      <th>664</th>\n",
       "      <td>0</td>\n",
       "      <td>1</td>\n",
       "      <td>0</td>\n",
       "      <td>0</td>\n",
       "      <td>0</td>\n",
       "      <td>1</td>\n",
       "      <td>0</td>\n",
       "      <td>0</td>\n",
       "      <td>0</td>\n",
       "      <td>0</td>\n",
       "      <td>...</td>\n",
       "      <td>0</td>\n",
       "      <td>1</td>\n",
       "      <td>0</td>\n",
       "      <td>0</td>\n",
       "      <td>0</td>\n",
       "      <td>0</td>\n",
       "      <td>0</td>\n",
       "      <td>0</td>\n",
       "      <td>0</td>\n",
       "      <td>0</td>\n",
       "    </tr>\n",
       "    <tr>\n",
       "      <th>4063</th>\n",
       "      <td>0</td>\n",
       "      <td>0</td>\n",
       "      <td>0</td>\n",
       "      <td>1</td>\n",
       "      <td>0</td>\n",
       "      <td>1</td>\n",
       "      <td>0</td>\n",
       "      <td>0</td>\n",
       "      <td>0</td>\n",
       "      <td>0</td>\n",
       "      <td>...</td>\n",
       "      <td>0</td>\n",
       "      <td>0</td>\n",
       "      <td>1</td>\n",
       "      <td>0</td>\n",
       "      <td>0</td>\n",
       "      <td>0</td>\n",
       "      <td>0</td>\n",
       "      <td>0</td>\n",
       "      <td>0</td>\n",
       "      <td>0</td>\n",
       "    </tr>\n",
       "    <tr>\n",
       "      <th>1873</th>\n",
       "      <td>1</td>\n",
       "      <td>0</td>\n",
       "      <td>0</td>\n",
       "      <td>0</td>\n",
       "      <td>0</td>\n",
       "      <td>1</td>\n",
       "      <td>0</td>\n",
       "      <td>0</td>\n",
       "      <td>0</td>\n",
       "      <td>0</td>\n",
       "      <td>...</td>\n",
       "      <td>0</td>\n",
       "      <td>0</td>\n",
       "      <td>0</td>\n",
       "      <td>0</td>\n",
       "      <td>0</td>\n",
       "      <td>1</td>\n",
       "      <td>0</td>\n",
       "      <td>0</td>\n",
       "      <td>0</td>\n",
       "      <td>0</td>\n",
       "    </tr>\n",
       "    <tr>\n",
       "      <th>...</th>\n",
       "      <td>...</td>\n",
       "      <td>...</td>\n",
       "      <td>...</td>\n",
       "      <td>...</td>\n",
       "      <td>...</td>\n",
       "      <td>...</td>\n",
       "      <td>...</td>\n",
       "      <td>...</td>\n",
       "      <td>...</td>\n",
       "      <td>...</td>\n",
       "      <td>...</td>\n",
       "      <td>...</td>\n",
       "      <td>...</td>\n",
       "      <td>...</td>\n",
       "      <td>...</td>\n",
       "      <td>...</td>\n",
       "      <td>...</td>\n",
       "      <td>...</td>\n",
       "      <td>...</td>\n",
       "      <td>...</td>\n",
       "      <td>...</td>\n",
       "    </tr>\n",
       "    <tr>\n",
       "      <th>1272</th>\n",
       "      <td>0</td>\n",
       "      <td>1</td>\n",
       "      <td>0</td>\n",
       "      <td>0</td>\n",
       "      <td>0</td>\n",
       "      <td>1</td>\n",
       "      <td>0</td>\n",
       "      <td>0</td>\n",
       "      <td>0</td>\n",
       "      <td>0</td>\n",
       "      <td>...</td>\n",
       "      <td>0</td>\n",
       "      <td>1</td>\n",
       "      <td>0</td>\n",
       "      <td>0</td>\n",
       "      <td>0</td>\n",
       "      <td>0</td>\n",
       "      <td>0</td>\n",
       "      <td>0</td>\n",
       "      <td>0</td>\n",
       "      <td>0</td>\n",
       "    </tr>\n",
       "    <tr>\n",
       "      <th>534</th>\n",
       "      <td>1</td>\n",
       "      <td>0</td>\n",
       "      <td>0</td>\n",
       "      <td>0</td>\n",
       "      <td>0</td>\n",
       "      <td>1</td>\n",
       "      <td>0</td>\n",
       "      <td>0</td>\n",
       "      <td>0</td>\n",
       "      <td>0</td>\n",
       "      <td>...</td>\n",
       "      <td>0</td>\n",
       "      <td>0</td>\n",
       "      <td>0</td>\n",
       "      <td>1</td>\n",
       "      <td>0</td>\n",
       "      <td>0</td>\n",
       "      <td>0</td>\n",
       "      <td>0</td>\n",
       "      <td>0</td>\n",
       "      <td>0</td>\n",
       "    </tr>\n",
       "    <tr>\n",
       "      <th>1140</th>\n",
       "      <td>0</td>\n",
       "      <td>1</td>\n",
       "      <td>0</td>\n",
       "      <td>0</td>\n",
       "      <td>0</td>\n",
       "      <td>1</td>\n",
       "      <td>0</td>\n",
       "      <td>0</td>\n",
       "      <td>0</td>\n",
       "      <td>0</td>\n",
       "      <td>...</td>\n",
       "      <td>0</td>\n",
       "      <td>1</td>\n",
       "      <td>0</td>\n",
       "      <td>0</td>\n",
       "      <td>0</td>\n",
       "      <td>0</td>\n",
       "      <td>0</td>\n",
       "      <td>0</td>\n",
       "      <td>0</td>\n",
       "      <td>0</td>\n",
       "    </tr>\n",
       "    <tr>\n",
       "      <th>3590</th>\n",
       "      <td>0</td>\n",
       "      <td>0</td>\n",
       "      <td>0</td>\n",
       "      <td>1</td>\n",
       "      <td>0</td>\n",
       "      <td>1</td>\n",
       "      <td>0</td>\n",
       "      <td>0</td>\n",
       "      <td>0</td>\n",
       "      <td>0</td>\n",
       "      <td>...</td>\n",
       "      <td>0</td>\n",
       "      <td>0</td>\n",
       "      <td>0</td>\n",
       "      <td>0</td>\n",
       "      <td>0</td>\n",
       "      <td>1</td>\n",
       "      <td>0</td>\n",
       "      <td>0</td>\n",
       "      <td>0</td>\n",
       "      <td>0</td>\n",
       "    </tr>\n",
       "    <tr>\n",
       "      <th>2864</th>\n",
       "      <td>0</td>\n",
       "      <td>0</td>\n",
       "      <td>0</td>\n",
       "      <td>1</td>\n",
       "      <td>0</td>\n",
       "      <td>1</td>\n",
       "      <td>0</td>\n",
       "      <td>0</td>\n",
       "      <td>0</td>\n",
       "      <td>0</td>\n",
       "      <td>...</td>\n",
       "      <td>0</td>\n",
       "      <td>0</td>\n",
       "      <td>1</td>\n",
       "      <td>0</td>\n",
       "      <td>0</td>\n",
       "      <td>0</td>\n",
       "      <td>0</td>\n",
       "      <td>0</td>\n",
       "      <td>0</td>\n",
       "      <td>0</td>\n",
       "    </tr>\n",
       "  </tbody>\n",
       "</table>\n",
       "<p>1036 rows × 44 columns</p>\n",
       "</div>"
      ],
      "text/plain": [
       "      NAME_INCOME_TYPE_Commercial associate  NAME_INCOME_TYPE_Pensioner  \\\n",
       "1771                                      0                           0   \n",
       "566                                       1                           0   \n",
       "664                                       0                           1   \n",
       "4063                                      0                           0   \n",
       "1873                                      1                           0   \n",
       "...                                     ...                         ...   \n",
       "1272                                      0                           1   \n",
       "534                                       1                           0   \n",
       "1140                                      0                           1   \n",
       "3590                                      0                           0   \n",
       "2864                                      0                           0   \n",
       "\n",
       "      NAME_INCOME_TYPE_State servant  NAME_INCOME_TYPE_Working  \\\n",
       "1771                               0                         1   \n",
       "566                                0                         0   \n",
       "664                                0                         0   \n",
       "4063                               0                         1   \n",
       "1873                               0                         0   \n",
       "...                              ...                       ...   \n",
       "1272                               0                         0   \n",
       "534                                0                         0   \n",
       "1140                               0                         0   \n",
       "3590                               0                         1   \n",
       "2864                               0                         1   \n",
       "\n",
       "      NAME_FAMILY_STATUS_Civil marriage  NAME_FAMILY_STATUS_Married  \\\n",
       "1771                                  0                           1   \n",
       "566                                   0                           1   \n",
       "664                                   0                           1   \n",
       "4063                                  0                           1   \n",
       "1873                                  0                           1   \n",
       "...                                 ...                         ...   \n",
       "1272                                  0                           1   \n",
       "534                                   0                           1   \n",
       "1140                                  0                           1   \n",
       "3590                                  0                           1   \n",
       "2864                                  0                           1   \n",
       "\n",
       "      NAME_FAMILY_STATUS_Separated/Widow  \\\n",
       "1771                                   0   \n",
       "566                                    0   \n",
       "664                                    0   \n",
       "4063                                   0   \n",
       "1873                                   0   \n",
       "...                                  ...   \n",
       "1272                                   0   \n",
       "534                                    0   \n",
       "1140                                   0   \n",
       "3590                                   0   \n",
       "2864                                   0   \n",
       "\n",
       "      NAME_FAMILY_STATUS_Single / not married  OCCUPATION_TYPE_G1  \\\n",
       "1771                                        0                   0   \n",
       "566                                         0                   0   \n",
       "664                                         0                   0   \n",
       "4063                                        0                   0   \n",
       "1873                                        0                   0   \n",
       "...                                       ...                 ...   \n",
       "1272                                        0                   0   \n",
       "534                                         0                   0   \n",
       "1140                                        0                   0   \n",
       "3590                                        0                   0   \n",
       "2864                                        0                   0   \n",
       "\n",
       "      OCCUPATION_TYPE_G2  ...  AMT_INCOME_TOTAL_GROUP_6  \\\n",
       "1771                   0  ...                         0   \n",
       "566                    0  ...                         0   \n",
       "664                    0  ...                         0   \n",
       "4063                   0  ...                         0   \n",
       "1873                   0  ...                         0   \n",
       "...                  ...  ...                       ...   \n",
       "1272                   0  ...                         0   \n",
       "534                    0  ...                         0   \n",
       "1140                   0  ...                         0   \n",
       "3590                   0  ...                         0   \n",
       "2864                   0  ...                         0   \n",
       "\n",
       "      YEAR_EMPLOYED_GROUP_1  YEAR_EMPLOYED_GROUP_2  YEAR_EMPLOYED_GROUP_3  \\\n",
       "1771                      0                      0                      0   \n",
       "566                       0                      0                      1   \n",
       "664                       1                      0                      0   \n",
       "4063                      0                      1                      0   \n",
       "1873                      0                      0                      0   \n",
       "...                     ...                    ...                    ...   \n",
       "1272                      1                      0                      0   \n",
       "534                       0                      0                      1   \n",
       "1140                      1                      0                      0   \n",
       "3590                      0                      0                      0   \n",
       "2864                      0                      1                      0   \n",
       "\n",
       "      YEAR_EMPLOYED_GROUP_4  YEAR_EMPLOYED_GROUP_5  YEAR_EMPLOYED_GROUP_6  \\\n",
       "1771                      0                      1                      0   \n",
       "566                       0                      0                      0   \n",
       "664                       0                      0                      0   \n",
       "4063                      0                      0                      0   \n",
       "1873                      0                      1                      0   \n",
       "...                     ...                    ...                    ...   \n",
       "1272                      0                      0                      0   \n",
       "534                       0                      0                      0   \n",
       "1140                      0                      0                      0   \n",
       "3590                      0                      1                      0   \n",
       "2864                      0                      0                      0   \n",
       "\n",
       "      YEAR_EMPLOYED_GROUP_7  YEAR_EMPLOYED_GROUP_8  YEAR_EMPLOYED_GROUP_9  \n",
       "1771                      0                      0                      0  \n",
       "566                       0                      0                      0  \n",
       "664                       0                      0                      0  \n",
       "4063                      0                      0                      0  \n",
       "1873                      0                      0                      0  \n",
       "...                     ...                    ...                    ...  \n",
       "1272                      0                      0                      0  \n",
       "534                       0                      0                      0  \n",
       "1140                      0                      0                      0  \n",
       "3590                      0                      0                      0  \n",
       "2864                      0                      0                      0  \n",
       "\n",
       "[1036 rows x 44 columns]"
      ]
     },
     "execution_count": 228,
     "metadata": {},
     "output_type": "execute_result"
    }
   ],
   "source": [
    "x_LogReg_test_encoded"
   ]
  },
  {
   "cell_type": "markdown",
   "id": "ac309c24-a32b-47fc-83d2-c6bea529e361",
   "metadata": {},
   "source": [
    "#### Binary Logistic regression"
   ]
  },
  {
   "cell_type": "code",
   "execution_count": 229,
   "id": "2f3f60ec-94d0-4c71-899d-2dbec70b6883",
   "metadata": {},
   "outputs": [
    {
     "data": {
      "text/plain": [
       "0       0\n",
       "1       0\n",
       "2       0\n",
       "3       0\n",
       "4       0\n",
       "       ..\n",
       "6075    1\n",
       "6076    1\n",
       "6077    1\n",
       "6078    1\n",
       "6079    1\n",
       "Name: B_Customer, Length: 6080, dtype: int32"
      ]
     },
     "execution_count": 229,
     "metadata": {},
     "output_type": "execute_result"
    }
   ],
   "source": [
    "y_train_balance"
   ]
  },
  {
   "cell_type": "code",
   "execution_count": 230,
   "id": "f247172d-dd28-471a-a3e3-b493e6529f58",
   "metadata": {},
   "outputs": [
    {
     "data": {
      "text/html": [
       "<div>\n",
       "<style scoped>\n",
       "    .dataframe tbody tr th:only-of-type {\n",
       "        vertical-align: middle;\n",
       "    }\n",
       "\n",
       "    .dataframe tbody tr th {\n",
       "        vertical-align: top;\n",
       "    }\n",
       "\n",
       "    .dataframe thead th {\n",
       "        text-align: right;\n",
       "    }\n",
       "</style>\n",
       "<table border=\"1\" class=\"dataframe\">\n",
       "  <thead>\n",
       "    <tr style=\"text-align: right;\">\n",
       "      <th></th>\n",
       "      <th>NAME_INCOME_TYPE_Commercial associate</th>\n",
       "      <th>NAME_INCOME_TYPE_Pensioner</th>\n",
       "      <th>NAME_INCOME_TYPE_State servant</th>\n",
       "      <th>NAME_INCOME_TYPE_Working</th>\n",
       "      <th>NAME_FAMILY_STATUS_Civil marriage</th>\n",
       "      <th>NAME_FAMILY_STATUS_Married</th>\n",
       "      <th>NAME_FAMILY_STATUS_Separated/Widow</th>\n",
       "      <th>NAME_FAMILY_STATUS_Single / not married</th>\n",
       "      <th>OCCUPATION_TYPE_G1</th>\n",
       "      <th>OCCUPATION_TYPE_G2</th>\n",
       "      <th>...</th>\n",
       "      <th>AMT_INCOME_TOTAL_GROUP_6</th>\n",
       "      <th>YEAR_EMPLOYED_GROUP_1</th>\n",
       "      <th>YEAR_EMPLOYED_GROUP_2</th>\n",
       "      <th>YEAR_EMPLOYED_GROUP_3</th>\n",
       "      <th>YEAR_EMPLOYED_GROUP_4</th>\n",
       "      <th>YEAR_EMPLOYED_GROUP_5</th>\n",
       "      <th>YEAR_EMPLOYED_GROUP_6</th>\n",
       "      <th>YEAR_EMPLOYED_GROUP_7</th>\n",
       "      <th>YEAR_EMPLOYED_GROUP_8</th>\n",
       "      <th>YEAR_EMPLOYED_GROUP_9</th>\n",
       "    </tr>\n",
       "  </thead>\n",
       "  <tbody>\n",
       "    <tr>\n",
       "      <th>0</th>\n",
       "      <td>0</td>\n",
       "      <td>0</td>\n",
       "      <td>0</td>\n",
       "      <td>1</td>\n",
       "      <td>0</td>\n",
       "      <td>1</td>\n",
       "      <td>0</td>\n",
       "      <td>0</td>\n",
       "      <td>0</td>\n",
       "      <td>0</td>\n",
       "      <td>...</td>\n",
       "      <td>0</td>\n",
       "      <td>0</td>\n",
       "      <td>0</td>\n",
       "      <td>0</td>\n",
       "      <td>0</td>\n",
       "      <td>0</td>\n",
       "      <td>1</td>\n",
       "      <td>0</td>\n",
       "      <td>0</td>\n",
       "      <td>0</td>\n",
       "    </tr>\n",
       "    <tr>\n",
       "      <th>1</th>\n",
       "      <td>0</td>\n",
       "      <td>1</td>\n",
       "      <td>0</td>\n",
       "      <td>0</td>\n",
       "      <td>0</td>\n",
       "      <td>1</td>\n",
       "      <td>0</td>\n",
       "      <td>0</td>\n",
       "      <td>0</td>\n",
       "      <td>0</td>\n",
       "      <td>...</td>\n",
       "      <td>0</td>\n",
       "      <td>1</td>\n",
       "      <td>0</td>\n",
       "      <td>0</td>\n",
       "      <td>0</td>\n",
       "      <td>0</td>\n",
       "      <td>0</td>\n",
       "      <td>0</td>\n",
       "      <td>0</td>\n",
       "      <td>0</td>\n",
       "    </tr>\n",
       "    <tr>\n",
       "      <th>2</th>\n",
       "      <td>1</td>\n",
       "      <td>0</td>\n",
       "      <td>0</td>\n",
       "      <td>0</td>\n",
       "      <td>0</td>\n",
       "      <td>0</td>\n",
       "      <td>0</td>\n",
       "      <td>1</td>\n",
       "      <td>0</td>\n",
       "      <td>0</td>\n",
       "      <td>...</td>\n",
       "      <td>0</td>\n",
       "      <td>0</td>\n",
       "      <td>0</td>\n",
       "      <td>1</td>\n",
       "      <td>0</td>\n",
       "      <td>0</td>\n",
       "      <td>0</td>\n",
       "      <td>0</td>\n",
       "      <td>0</td>\n",
       "      <td>0</td>\n",
       "    </tr>\n",
       "    <tr>\n",
       "      <th>3</th>\n",
       "      <td>0</td>\n",
       "      <td>0</td>\n",
       "      <td>0</td>\n",
       "      <td>1</td>\n",
       "      <td>0</td>\n",
       "      <td>1</td>\n",
       "      <td>0</td>\n",
       "      <td>0</td>\n",
       "      <td>0</td>\n",
       "      <td>0</td>\n",
       "      <td>...</td>\n",
       "      <td>0</td>\n",
       "      <td>0</td>\n",
       "      <td>1</td>\n",
       "      <td>0</td>\n",
       "      <td>0</td>\n",
       "      <td>0</td>\n",
       "      <td>0</td>\n",
       "      <td>0</td>\n",
       "      <td>0</td>\n",
       "      <td>0</td>\n",
       "    </tr>\n",
       "    <tr>\n",
       "      <th>4</th>\n",
       "      <td>1</td>\n",
       "      <td>0</td>\n",
       "      <td>0</td>\n",
       "      <td>0</td>\n",
       "      <td>0</td>\n",
       "      <td>1</td>\n",
       "      <td>0</td>\n",
       "      <td>0</td>\n",
       "      <td>0</td>\n",
       "      <td>0</td>\n",
       "      <td>...</td>\n",
       "      <td>0</td>\n",
       "      <td>0</td>\n",
       "      <td>1</td>\n",
       "      <td>0</td>\n",
       "      <td>0</td>\n",
       "      <td>0</td>\n",
       "      <td>0</td>\n",
       "      <td>0</td>\n",
       "      <td>0</td>\n",
       "      <td>0</td>\n",
       "    </tr>\n",
       "    <tr>\n",
       "      <th>...</th>\n",
       "      <td>...</td>\n",
       "      <td>...</td>\n",
       "      <td>...</td>\n",
       "      <td>...</td>\n",
       "      <td>...</td>\n",
       "      <td>...</td>\n",
       "      <td>...</td>\n",
       "      <td>...</td>\n",
       "      <td>...</td>\n",
       "      <td>...</td>\n",
       "      <td>...</td>\n",
       "      <td>...</td>\n",
       "      <td>...</td>\n",
       "      <td>...</td>\n",
       "      <td>...</td>\n",
       "      <td>...</td>\n",
       "      <td>...</td>\n",
       "      <td>...</td>\n",
       "      <td>...</td>\n",
       "      <td>...</td>\n",
       "      <td>...</td>\n",
       "    </tr>\n",
       "    <tr>\n",
       "      <th>6075</th>\n",
       "      <td>0</td>\n",
       "      <td>0</td>\n",
       "      <td>0</td>\n",
       "      <td>1</td>\n",
       "      <td>0</td>\n",
       "      <td>1</td>\n",
       "      <td>0</td>\n",
       "      <td>0</td>\n",
       "      <td>1</td>\n",
       "      <td>0</td>\n",
       "      <td>...</td>\n",
       "      <td>0</td>\n",
       "      <td>0</td>\n",
       "      <td>1</td>\n",
       "      <td>0</td>\n",
       "      <td>0</td>\n",
       "      <td>0</td>\n",
       "      <td>0</td>\n",
       "      <td>0</td>\n",
       "      <td>0</td>\n",
       "      <td>0</td>\n",
       "    </tr>\n",
       "    <tr>\n",
       "      <th>6076</th>\n",
       "      <td>0</td>\n",
       "      <td>0</td>\n",
       "      <td>0</td>\n",
       "      <td>1</td>\n",
       "      <td>0</td>\n",
       "      <td>1</td>\n",
       "      <td>0</td>\n",
       "      <td>0</td>\n",
       "      <td>0</td>\n",
       "      <td>0</td>\n",
       "      <td>...</td>\n",
       "      <td>0</td>\n",
       "      <td>0</td>\n",
       "      <td>1</td>\n",
       "      <td>0</td>\n",
       "      <td>0</td>\n",
       "      <td>0</td>\n",
       "      <td>0</td>\n",
       "      <td>0</td>\n",
       "      <td>0</td>\n",
       "      <td>0</td>\n",
       "    </tr>\n",
       "    <tr>\n",
       "      <th>6077</th>\n",
       "      <td>0</td>\n",
       "      <td>0</td>\n",
       "      <td>0</td>\n",
       "      <td>1</td>\n",
       "      <td>0</td>\n",
       "      <td>1</td>\n",
       "      <td>0</td>\n",
       "      <td>0</td>\n",
       "      <td>0</td>\n",
       "      <td>0</td>\n",
       "      <td>...</td>\n",
       "      <td>0</td>\n",
       "      <td>0</td>\n",
       "      <td>0</td>\n",
       "      <td>0</td>\n",
       "      <td>0</td>\n",
       "      <td>0</td>\n",
       "      <td>0</td>\n",
       "      <td>0</td>\n",
       "      <td>0</td>\n",
       "      <td>1</td>\n",
       "    </tr>\n",
       "    <tr>\n",
       "      <th>6078</th>\n",
       "      <td>0</td>\n",
       "      <td>0</td>\n",
       "      <td>0</td>\n",
       "      <td>1</td>\n",
       "      <td>0</td>\n",
       "      <td>1</td>\n",
       "      <td>0</td>\n",
       "      <td>0</td>\n",
       "      <td>0</td>\n",
       "      <td>0</td>\n",
       "      <td>...</td>\n",
       "      <td>0</td>\n",
       "      <td>0</td>\n",
       "      <td>0</td>\n",
       "      <td>0</td>\n",
       "      <td>0</td>\n",
       "      <td>0</td>\n",
       "      <td>0</td>\n",
       "      <td>0</td>\n",
       "      <td>0</td>\n",
       "      <td>1</td>\n",
       "    </tr>\n",
       "    <tr>\n",
       "      <th>6079</th>\n",
       "      <td>0</td>\n",
       "      <td>1</td>\n",
       "      <td>0</td>\n",
       "      <td>0</td>\n",
       "      <td>0</td>\n",
       "      <td>0</td>\n",
       "      <td>1</td>\n",
       "      <td>0</td>\n",
       "      <td>0</td>\n",
       "      <td>0</td>\n",
       "      <td>...</td>\n",
       "      <td>0</td>\n",
       "      <td>1</td>\n",
       "      <td>0</td>\n",
       "      <td>0</td>\n",
       "      <td>0</td>\n",
       "      <td>0</td>\n",
       "      <td>0</td>\n",
       "      <td>0</td>\n",
       "      <td>0</td>\n",
       "      <td>0</td>\n",
       "    </tr>\n",
       "  </tbody>\n",
       "</table>\n",
       "<p>6080 rows × 44 columns</p>\n",
       "</div>"
      ],
      "text/plain": [
       "      NAME_INCOME_TYPE_Commercial associate  NAME_INCOME_TYPE_Pensioner  \\\n",
       "0                                         0                           0   \n",
       "1                                         0                           1   \n",
       "2                                         1                           0   \n",
       "3                                         0                           0   \n",
       "4                                         1                           0   \n",
       "...                                     ...                         ...   \n",
       "6075                                      0                           0   \n",
       "6076                                      0                           0   \n",
       "6077                                      0                           0   \n",
       "6078                                      0                           0   \n",
       "6079                                      0                           1   \n",
       "\n",
       "      NAME_INCOME_TYPE_State servant  NAME_INCOME_TYPE_Working  \\\n",
       "0                                  0                         1   \n",
       "1                                  0                         0   \n",
       "2                                  0                         0   \n",
       "3                                  0                         1   \n",
       "4                                  0                         0   \n",
       "...                              ...                       ...   \n",
       "6075                               0                         1   \n",
       "6076                               0                         1   \n",
       "6077                               0                         1   \n",
       "6078                               0                         1   \n",
       "6079                               0                         0   \n",
       "\n",
       "      NAME_FAMILY_STATUS_Civil marriage  NAME_FAMILY_STATUS_Married  \\\n",
       "0                                     0                           1   \n",
       "1                                     0                           1   \n",
       "2                                     0                           0   \n",
       "3                                     0                           1   \n",
       "4                                     0                           1   \n",
       "...                                 ...                         ...   \n",
       "6075                                  0                           1   \n",
       "6076                                  0                           1   \n",
       "6077                                  0                           1   \n",
       "6078                                  0                           1   \n",
       "6079                                  0                           0   \n",
       "\n",
       "      NAME_FAMILY_STATUS_Separated/Widow  \\\n",
       "0                                      0   \n",
       "1                                      0   \n",
       "2                                      0   \n",
       "3                                      0   \n",
       "4                                      0   \n",
       "...                                  ...   \n",
       "6075                                   0   \n",
       "6076                                   0   \n",
       "6077                                   0   \n",
       "6078                                   0   \n",
       "6079                                   1   \n",
       "\n",
       "      NAME_FAMILY_STATUS_Single / not married  OCCUPATION_TYPE_G1  \\\n",
       "0                                           0                   0   \n",
       "1                                           0                   0   \n",
       "2                                           1                   0   \n",
       "3                                           0                   0   \n",
       "4                                           0                   0   \n",
       "...                                       ...                 ...   \n",
       "6075                                        0                   1   \n",
       "6076                                        0                   0   \n",
       "6077                                        0                   0   \n",
       "6078                                        0                   0   \n",
       "6079                                        0                   0   \n",
       "\n",
       "      OCCUPATION_TYPE_G2  ...  AMT_INCOME_TOTAL_GROUP_6  \\\n",
       "0                      0  ...                         0   \n",
       "1                      0  ...                         0   \n",
       "2                      0  ...                         0   \n",
       "3                      0  ...                         0   \n",
       "4                      0  ...                         0   \n",
       "...                  ...  ...                       ...   \n",
       "6075                   0  ...                         0   \n",
       "6076                   0  ...                         0   \n",
       "6077                   0  ...                         0   \n",
       "6078                   0  ...                         0   \n",
       "6079                   0  ...                         0   \n",
       "\n",
       "      YEAR_EMPLOYED_GROUP_1  YEAR_EMPLOYED_GROUP_2  YEAR_EMPLOYED_GROUP_3  \\\n",
       "0                         0                      0                      0   \n",
       "1                         1                      0                      0   \n",
       "2                         0                      0                      1   \n",
       "3                         0                      1                      0   \n",
       "4                         0                      1                      0   \n",
       "...                     ...                    ...                    ...   \n",
       "6075                      0                      1                      0   \n",
       "6076                      0                      1                      0   \n",
       "6077                      0                      0                      0   \n",
       "6078                      0                      0                      0   \n",
       "6079                      1                      0                      0   \n",
       "\n",
       "      YEAR_EMPLOYED_GROUP_4  YEAR_EMPLOYED_GROUP_5  YEAR_EMPLOYED_GROUP_6  \\\n",
       "0                         0                      0                      1   \n",
       "1                         0                      0                      0   \n",
       "2                         0                      0                      0   \n",
       "3                         0                      0                      0   \n",
       "4                         0                      0                      0   \n",
       "...                     ...                    ...                    ...   \n",
       "6075                      0                      0                      0   \n",
       "6076                      0                      0                      0   \n",
       "6077                      0                      0                      0   \n",
       "6078                      0                      0                      0   \n",
       "6079                      0                      0                      0   \n",
       "\n",
       "      YEAR_EMPLOYED_GROUP_7  YEAR_EMPLOYED_GROUP_8  YEAR_EMPLOYED_GROUP_9  \n",
       "0                         0                      0                      0  \n",
       "1                         0                      0                      0  \n",
       "2                         0                      0                      0  \n",
       "3                         0                      0                      0  \n",
       "4                         0                      0                      0  \n",
       "...                     ...                    ...                    ...  \n",
       "6075                      0                      0                      0  \n",
       "6076                      0                      0                      0  \n",
       "6077                      0                      0                      1  \n",
       "6078                      0                      0                      1  \n",
       "6079                      0                      0                      0  \n",
       "\n",
       "[6080 rows x 44 columns]"
      ]
     },
     "execution_count": 230,
     "metadata": {},
     "output_type": "execute_result"
    }
   ],
   "source": [
    "x_LogReg_train_encoded"
   ]
  },
  {
   "cell_type": "code",
   "execution_count": 246,
   "id": "e01d582a-b284-4700-b59f-541b30927d35",
   "metadata": {},
   "outputs": [
    {
     "data": {
      "image/png": "[encoded data removed]",
      "text/plain": [
       "<Figure size 640x480 with 2 Axes>"
      ]
     },
     "metadata": {},
     "output_type": "display_data"
    },
    {
     "name": "stdout",
     "output_type": "stream",
     "text": [
      "              precision    recall  f1-score   support\n",
      "\n",
      "           0       0.98      0.83      0.90      1014\n",
      "           1       0.02      0.14      0.03        22\n",
      "\n",
      "    accuracy                           0.81      1036\n",
      "   macro avg       0.50      0.48      0.46      1036\n",
      "weighted avg       0.96      0.81      0.88      1036\n",
      "\n"
     ]
    }
   ],
   "source": [
    "log_clf = LogisticRegression(random_state=42, max_iter=2000).fit(x_LogReg_train_encoded, y_train_balance)\n",
    "y_predict= log_clf.predict(x_LogReg_test_encoded)\n",
    "log_cm = confusion_matrix(y_LogReg_test, y_predict, labels=log_clf.classes_)\n",
    "\n",
    "# Create display of confusion matrix\n",
    "log_disp = ConfusionMatrixDisplay(confusion_matrix=log_cm, \n",
    "                                  display_labels=log_clf.classes_)\n",
    "\n",
    "# Plot confusion matrix\n",
    "log_disp.plot(values_format='')\n",
    "\n",
    "# Display plot\n",
    "plt.show()\n",
    "print(classification_report(y_LogReg_test,y_predict))\n",
    "y_pred_log = y_predict.copy()"
   ]
  },
  {
   "cell_type": "code",
   "execution_count": 247,
   "id": "6bd404b6-f808-4c29-b8fb-1ad79c3b0272",
   "metadata": {},
   "outputs": [
    {
     "name": "stdout",
     "output_type": "stream",
     "text": [
      "Training data accuracy: 0.8893092105263158\n",
      "Test data accuracy: 0.8137065637065637\n"
     ]
    }
   ],
   "source": [
    "from sklearn.metrics import accuracy_score\n",
    "\n",
    "# Calculate accuracy for training data\n",
    "train_accuracy = accuracy_score(y_train_balance, log_clf.predict(x_LogReg_train_encoded))\n",
    "\n",
    "# Calculate accuracy for test data\n",
    "test_accuracy = accuracy_score(y_LogReg_test, y_predict)\n",
    "\n",
    "print(f\"Training data accuracy: {train_accuracy}\")\n",
    "print(f\"Test data accuracy: {test_accuracy}\")"
   ]
  },
  {
   "cell_type": "markdown",
   "id": "12a791bc-3c65-402f-99af-c7f96da8cca7",
   "metadata": {},
   "source": [
    "#### Random Forest"
   ]
  },
  {
   "cell_type": "code",
   "execution_count": 238,
   "id": "9dd092f3-47ec-4590-acea-5160383f1b6e",
   "metadata": {},
   "outputs": [
    {
     "data": {
      "text/plain": [
       "GridSearchCV(estimator=RandomForestClassifier(random_state=0),\n",
       "             param_grid={'max_depth': [10, 20, 50],\n",
       "                         'min_samples_leaf': [1, 5, 10],\n",
       "                         'n_estimators': [50, 100, 200]},\n",
       "             refit='f1')"
      ]
     },
     "execution_count": 238,
     "metadata": {},
     "output_type": "execute_result"
    }
   ],
   "source": [
    "cv_params = {'n_estimators' : [50,100,200], \n",
    "              'max_depth' : [10,20,50],\n",
    "              'min_samples_leaf':[1,5,10]}\n",
    "rf = RandomForestClassifier(random_state=0)\n",
    "rf_val = GridSearchCV(rf, cv_params, refit='f1')\n",
    "rf_val.fit(x_LogReg_train_encoded, y_train_balance)"
   ]
  },
  {
   "cell_type": "code",
   "execution_count": 239,
   "id": "12051b65-9860-485d-8eec-3c095257ddef",
   "metadata": {},
   "outputs": [
    {
     "data": {
      "image/png": "[encoded data removed]",
      "text/plain": [
       "<Figure size 640x480 with 2 Axes>"
      ]
     },
     "metadata": {},
     "output_type": "display_data"
    },
    {
     "name": "stdout",
     "output_type": "stream",
     "text": [
      "              precision    recall  f1-score   support\n",
      "\n",
      "           0       0.98      0.96      0.97      1014\n",
      "           1       0.02      0.05      0.03        22\n",
      "\n",
      "    accuracy                           0.94      1036\n",
      "   macro avg       0.50      0.50      0.50      1036\n",
      "weighted avg       0.96      0.94      0.95      1036\n",
      "\n"
     ]
    }
   ],
   "source": [
    "import imblearn.over_sampling as os\n",
    "\n",
    "x_train_resampled, y_train_resampled = os.SMOTE().fit_resample(x_LogReg_train_encoded, y_train_balance)\n",
    "rf_val.fit(x_train_resampled, y_train_resampled)\n",
    "\n",
    "y_predict = rf_val.predict(x_LogReg_test_encoded)\n",
    "log_cm = confusion_matrix(y_LogReg_test, y_predict, labels=log_clf.classes_)\n",
    "\n",
    "# Create display of confusion matrix\n",
    "log_disp = ConfusionMatrixDisplay(confusion_matrix=log_cm, \n",
    "                                  display_labels=log_clf.classes_)\n",
    "\n",
    "# Plot confusion matrix\n",
    "log_disp.plot(values_format='')\n",
    "\n",
    "# Display plot\n",
    "plt.show()\n",
    "print(classification_report(y_LogReg_test,y_predict))\n",
    "y_pred_rf = y_predict.copy()"
   ]
  },
  {
   "cell_type": "code",
   "execution_count": 245,
   "id": "c389f39a-ae59-44b8-822b-f6582e5b7230",
   "metadata": {},
   "outputs": [
    {
     "name": "stdout",
     "output_type": "stream",
     "text": [
      "Training data accuracy: 0.8893092105263158\n",
      "Test data accuracy: 0.9382239382239382\n"
     ]
    }
   ],
   "source": [
    "from sklearn.metrics import accuracy_score\n",
    "\n",
    "# Calculate accuracy for training data\n",
    "train_accuracy = accuracy_score(y_train_balance, log_clf.predict(x_LogReg_train_encoded))\n",
    "\n",
    "# Calculate accuracy for test data\n",
    "test_accuracy = accuracy_score(y_LogReg_test, y_predict)\n",
    "\n",
    "print(f\"Training data accuracy: {train_accuracy}\")\n",
    "print(f\"Test data accuracy: {test_accuracy}\")"
   ]
  },
  {
   "cell_type": "code",
   "execution_count": 240,
   "id": "33c0c0ce-87ca-4768-a9ca-a72a4ef45ace",
   "metadata": {},
   "outputs": [],
   "source": [
    "x_LogReg_train_encoded.to_csv('F://HND//ML//Assignment//x_LogReg_train_encoded.csv')"
   ]
  },
  {
   "cell_type": "code",
   "execution_count": 241,
   "id": "eb4907ae-df60-497e-94cf-3333acd6273a",
   "metadata": {},
   "outputs": [
    {
     "data": {
      "text/html": [
       "<div>\n",
       "<style scoped>\n",
       "    .dataframe tbody tr th:only-of-type {\n",
       "        vertical-align: middle;\n",
       "    }\n",
       "\n",
       "    .dataframe tbody tr th {\n",
       "        vertical-align: top;\n",
       "    }\n",
       "\n",
       "    .dataframe thead th {\n",
       "        text-align: right;\n",
       "    }\n",
       "</style>\n",
       "<table border=\"1\" class=\"dataframe\">\n",
       "  <thead>\n",
       "    <tr style=\"text-align: right;\">\n",
       "      <th></th>\n",
       "      <th>NAME_INCOME_TYPE_Commercial associate</th>\n",
       "      <th>NAME_INCOME_TYPE_Pensioner</th>\n",
       "      <th>NAME_INCOME_TYPE_State servant</th>\n",
       "      <th>NAME_INCOME_TYPE_Working</th>\n",
       "      <th>NAME_FAMILY_STATUS_Civil marriage</th>\n",
       "      <th>NAME_FAMILY_STATUS_Married</th>\n",
       "      <th>NAME_FAMILY_STATUS_Separated/Widow</th>\n",
       "      <th>NAME_FAMILY_STATUS_Single / not married</th>\n",
       "      <th>OCCUPATION_TYPE_G1</th>\n",
       "      <th>OCCUPATION_TYPE_G2</th>\n",
       "      <th>...</th>\n",
       "      <th>AMT_INCOME_TOTAL_GROUP_6</th>\n",
       "      <th>YEAR_EMPLOYED_GROUP_1</th>\n",
       "      <th>YEAR_EMPLOYED_GROUP_2</th>\n",
       "      <th>YEAR_EMPLOYED_GROUP_3</th>\n",
       "      <th>YEAR_EMPLOYED_GROUP_4</th>\n",
       "      <th>YEAR_EMPLOYED_GROUP_5</th>\n",
       "      <th>YEAR_EMPLOYED_GROUP_6</th>\n",
       "      <th>YEAR_EMPLOYED_GROUP_7</th>\n",
       "      <th>YEAR_EMPLOYED_GROUP_8</th>\n",
       "      <th>YEAR_EMPLOYED_GROUP_9</th>\n",
       "    </tr>\n",
       "  </thead>\n",
       "  <tbody>\n",
       "    <tr>\n",
       "      <th>0</th>\n",
       "      <td>0</td>\n",
       "      <td>0</td>\n",
       "      <td>0</td>\n",
       "      <td>1</td>\n",
       "      <td>0</td>\n",
       "      <td>1</td>\n",
       "      <td>0</td>\n",
       "      <td>0</td>\n",
       "      <td>0</td>\n",
       "      <td>0</td>\n",
       "      <td>...</td>\n",
       "      <td>0</td>\n",
       "      <td>0</td>\n",
       "      <td>0</td>\n",
       "      <td>0</td>\n",
       "      <td>0</td>\n",
       "      <td>0</td>\n",
       "      <td>1</td>\n",
       "      <td>0</td>\n",
       "      <td>0</td>\n",
       "      <td>0</td>\n",
       "    </tr>\n",
       "    <tr>\n",
       "      <th>1</th>\n",
       "      <td>0</td>\n",
       "      <td>1</td>\n",
       "      <td>0</td>\n",
       "      <td>0</td>\n",
       "      <td>0</td>\n",
       "      <td>1</td>\n",
       "      <td>0</td>\n",
       "      <td>0</td>\n",
       "      <td>0</td>\n",
       "      <td>0</td>\n",
       "      <td>...</td>\n",
       "      <td>0</td>\n",
       "      <td>1</td>\n",
       "      <td>0</td>\n",
       "      <td>0</td>\n",
       "      <td>0</td>\n",
       "      <td>0</td>\n",
       "      <td>0</td>\n",
       "      <td>0</td>\n",
       "      <td>0</td>\n",
       "      <td>0</td>\n",
       "    </tr>\n",
       "    <tr>\n",
       "      <th>2</th>\n",
       "      <td>1</td>\n",
       "      <td>0</td>\n",
       "      <td>0</td>\n",
       "      <td>0</td>\n",
       "      <td>0</td>\n",
       "      <td>0</td>\n",
       "      <td>0</td>\n",
       "      <td>1</td>\n",
       "      <td>0</td>\n",
       "      <td>0</td>\n",
       "      <td>...</td>\n",
       "      <td>0</td>\n",
       "      <td>0</td>\n",
       "      <td>0</td>\n",
       "      <td>1</td>\n",
       "      <td>0</td>\n",
       "      <td>0</td>\n",
       "      <td>0</td>\n",
       "      <td>0</td>\n",
       "      <td>0</td>\n",
       "      <td>0</td>\n",
       "    </tr>\n",
       "    <tr>\n",
       "      <th>3</th>\n",
       "      <td>0</td>\n",
       "      <td>0</td>\n",
       "      <td>0</td>\n",
       "      <td>1</td>\n",
       "      <td>0</td>\n",
       "      <td>1</td>\n",
       "      <td>0</td>\n",
       "      <td>0</td>\n",
       "      <td>0</td>\n",
       "      <td>0</td>\n",
       "      <td>...</td>\n",
       "      <td>0</td>\n",
       "      <td>0</td>\n",
       "      <td>1</td>\n",
       "      <td>0</td>\n",
       "      <td>0</td>\n",
       "      <td>0</td>\n",
       "      <td>0</td>\n",
       "      <td>0</td>\n",
       "      <td>0</td>\n",
       "      <td>0</td>\n",
       "    </tr>\n",
       "    <tr>\n",
       "      <th>4</th>\n",
       "      <td>1</td>\n",
       "      <td>0</td>\n",
       "      <td>0</td>\n",
       "      <td>0</td>\n",
       "      <td>0</td>\n",
       "      <td>1</td>\n",
       "      <td>0</td>\n",
       "      <td>0</td>\n",
       "      <td>0</td>\n",
       "      <td>0</td>\n",
       "      <td>...</td>\n",
       "      <td>0</td>\n",
       "      <td>0</td>\n",
       "      <td>1</td>\n",
       "      <td>0</td>\n",
       "      <td>0</td>\n",
       "      <td>0</td>\n",
       "      <td>0</td>\n",
       "      <td>0</td>\n",
       "      <td>0</td>\n",
       "      <td>0</td>\n",
       "    </tr>\n",
       "  </tbody>\n",
       "</table>\n",
       "<p>5 rows × 44 columns</p>\n",
       "</div>"
      ],
      "text/plain": [
       "   NAME_INCOME_TYPE_Commercial associate  NAME_INCOME_TYPE_Pensioner  \\\n",
       "0                                      0                           0   \n",
       "1                                      0                           1   \n",
       "2                                      1                           0   \n",
       "3                                      0                           0   \n",
       "4                                      1                           0   \n",
       "\n",
       "   NAME_INCOME_TYPE_State servant  NAME_INCOME_TYPE_Working  \\\n",
       "0                               0                         1   \n",
       "1                               0                         0   \n",
       "2                               0                         0   \n",
       "3                               0                         1   \n",
       "4                               0                         0   \n",
       "\n",
       "   NAME_FAMILY_STATUS_Civil marriage  NAME_FAMILY_STATUS_Married  \\\n",
       "0                                  0                           1   \n",
       "1                                  0                           1   \n",
       "2                                  0                           0   \n",
       "3                                  0                           1   \n",
       "4                                  0                           1   \n",
       "\n",
       "   NAME_FAMILY_STATUS_Separated/Widow  \\\n",
       "0                                   0   \n",
       "1                                   0   \n",
       "2                                   0   \n",
       "3                                   0   \n",
       "4                                   0   \n",
       "\n",
       "   NAME_FAMILY_STATUS_Single / not married  OCCUPATION_TYPE_G1  \\\n",
       "0                                        0                   0   \n",
       "1                                        0                   0   \n",
       "2                                        1                   0   \n",
       "3                                        0                   0   \n",
       "4                                        0                   0   \n",
       "\n",
       "   OCCUPATION_TYPE_G2  ...  AMT_INCOME_TOTAL_GROUP_6  YEAR_EMPLOYED_GROUP_1  \\\n",
       "0                   0  ...                         0                      0   \n",
       "1                   0  ...                         0                      1   \n",
       "2                   0  ...                         0                      0   \n",
       "3                   0  ...                         0                      0   \n",
       "4                   0  ...                         0                      0   \n",
       "\n",
       "   YEAR_EMPLOYED_GROUP_2  YEAR_EMPLOYED_GROUP_3  YEAR_EMPLOYED_GROUP_4  \\\n",
       "0                      0                      0                      0   \n",
       "1                      0                      0                      0   \n",
       "2                      0                      1                      0   \n",
       "3                      1                      0                      0   \n",
       "4                      1                      0                      0   \n",
       "\n",
       "   YEAR_EMPLOYED_GROUP_5  YEAR_EMPLOYED_GROUP_6  YEAR_EMPLOYED_GROUP_7  \\\n",
       "0                      0                      1                      0   \n",
       "1                      0                      0                      0   \n",
       "2                      0                      0                      0   \n",
       "3                      0                      0                      0   \n",
       "4                      0                      0                      0   \n",
       "\n",
       "   YEAR_EMPLOYED_GROUP_8  YEAR_EMPLOYED_GROUP_9  \n",
       "0                      0                      0  \n",
       "1                      0                      0  \n",
       "2                      0                      0  \n",
       "3                      0                      0  \n",
       "4                      0                      0  \n",
       "\n",
       "[5 rows x 44 columns]"
      ]
     },
     "execution_count": 241,
     "metadata": {},
     "output_type": "execute_result"
    }
   ],
   "source": [
    "x_LogReg_train_encoded.head()"
   ]
  },
  {
   "cell_type": "markdown",
   "id": "ffff6a18-e166-437e-8a98-263aef2d4a08",
   "metadata": {},
   "source": [
    "### Making predictions"
   ]
  },
  {
   "cell_type": "code",
   "execution_count": 242,
   "id": "d026b651-d69c-40d6-8db7-9ee67649c199",
   "metadata": {},
   "outputs": [
    {
     "name": "stderr",
     "output_type": "stream",
     "text": [
      "C:\\Users\\USER\\anaconda3\\lib\\site-packages\\sklearn\\base.py:450: UserWarning: X does not have valid feature names, but LogisticRegression was fitted with feature names\n",
      "  warnings.warn(\n"
     ]
    }
   ],
   "source": [
    "# Assuming input array is named input_array\n",
    "input_array = np.array([0, 0, 0, 1, 0, 0, 0, 1, 0, 0, 0, 0, 1, 0, 0, 0, 1, 0, 0, 0, 0, 0, 0, 0, 0, 0, 1, 0, 0, 1, 0, 0, 0, 0, 0, 0, 0, 0, 0, 0, 0, 0, 0, 1])\n",
    "\n",
    "# Reshape the input array to be a 2D array with a single sample\n",
    "input_array_reshaped = input_array.reshape(1, -1)\n",
    "\n",
    "# Make predictions\n",
    "new_predictions = log_clf.predict(input_array_reshaped)"
   ]
  },
  {
   "cell_type": "code",
   "execution_count": 243,
   "id": "5182d089-7dec-42da-a107-3c0665b0ddbe",
   "metadata": {},
   "outputs": [
    {
     "name": "stdout",
     "output_type": "stream",
     "text": [
      "Predicted class: 1\n"
     ]
    }
   ],
   "source": [
    "print(\"Predicted class:\", new_predictions[0])"
   ]
  }
 ],
 "metadata": {
  "kernelspec": {
   "display_name": "Python 3 (ipykernel)",
   "language": "python",
   "name": "python3"
  },
  "language_info": {
   "codemirror_mode": {
    "name": "ipython",
    "version": 3
   },
   "file_extension": ".py",
   "mimetype": "text/x-python",
   "name": "python",
   "nbconvert_exporter": "python",
   "pygments_lexer": "ipython3",
   "version": "3.9.13"
  }
 },
 "nbformat": 4,
 "nbformat_minor": 5
}
